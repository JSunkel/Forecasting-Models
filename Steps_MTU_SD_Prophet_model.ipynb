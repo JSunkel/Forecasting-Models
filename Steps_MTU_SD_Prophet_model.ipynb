{
  "nbformat": 4,
  "nbformat_minor": 0,
  "metadata": {
    "colab": {
      "name": "Copy of Upgrades Samsung Phone Prophet model.ipynb",
      "provenance": [],
      "include_colab_link": true
    },
    "kernelspec": {
      "name": "python3",
      "display_name": "Python 3"
    }
  },
  "cells": [
    {
      "cell_type": "markdown",
      "metadata": {
        "id": "view-in-github",
        "colab_type": "text"
      },
      "source": [
        "<a href=\"https://colab.research.google.com/github/JSunkel/Forecasting-Models/blob/master/Steps_MTU_SD_Prophet_model.ipynb\" target=\"_parent\"><img src=\"https://colab.research.google.com/assets/colab-badge.svg\" alt=\"Open In Colab\"/></a>"
      ]
    },
    {
      "cell_type": "code",
      "metadata": {
        "id": "127ZL5DNa_DK",
        "colab_type": "code",
        "colab": {}
      },
      "source": [
        "import pandas as pd\n",
        "from fbprophet import Prophet"
      ],
      "execution_count": 0,
      "outputs": []
    },
    {
      "cell_type": "code",
      "metadata": {
        "id": "7L_hdOufbEyU",
        "colab_type": "code",
        "colab": {}
      },
      "source": [
        "# Load the dataset\n",
        "df = pd.read_csv('path_to_input_csv_file')"
      ],
      "execution_count": 0,
      "outputs": []
    },
    {
      "cell_type": "code",
      "metadata": {
        "id": "qd0uiS7nbKIQ",
        "colab_type": "code",
        "colab": {}
      },
      "source": [
        "# Define the holidays\n",
        "new_years_day = pd.DataFrame({\n",
        "    'holiday': 'new_years_day',\n",
        "    'ds': pd.to_datetime(['2017-01-01',\n",
        "                          '2018-01-01',\n",
        "                          '2019-01-01',\n",
        "                          '2020-01-01']),\n",
        "    'lower_window': 0,\n",
        "    'upper_window': 0,\n",
        "})\n",
        "\n",
        "mlk_day = pd.DataFrame({\n",
        "    'holiday': 'mlk_day',\n",
        "    'ds': pd.to_datetime(['2017-01-16',\n",
        "                          '2018-01-15',\n",
        "                          '2019-01-21',\n",
        "                          '2020-01-20']),\n",
        "    'lower_window': 0,\n",
        "    'upper_window': 0,\n",
        "})\n",
        "\n",
        "easter_sunday = pd.DataFrame({\n",
        "    'holiday': 'easter_sunday',\n",
        "    'ds': pd.to_datetime(['2017-04-16',\n",
        "                          '2018-04-01',\n",
        "                          '2019-04-21',\n",
        "                          '2020-04-12']),\n",
        "    'lower_window': 0,\n",
        "    'upper_window': 0,\n",
        "})\n",
        "\n",
        "memorial_day = pd.DataFrame({\n",
        "    'holiday': 'memorial_day',\n",
        "    'ds': pd.to_datetime(['2017-05-29',\n",
        "                          '2018-05-28',\n",
        "                          '2019-05-27',\n",
        "                          '2020-05-25']),\n",
        "    'lower_window': 0,\n",
        "    'upper_window': 0,\n",
        "})\n",
        "\n",
        "independence_day = pd.DataFrame({\n",
        "    'holiday': 'independence_day',\n",
        "    'ds': pd.to_datetime(['2017-07-04',\n",
        "                          '2018-07-04',\n",
        "                          '2019-07-04',\n",
        "                          '2020-07-04']),\n",
        "    'lower_window': 0,\n",
        "    'upper_window': 0,\n",
        "})\n",
        "\n",
        "thanksgiving_day = pd.DataFrame({\n",
        "    'holiday': 'thanksgiving_day',\n",
        "    'ds': pd.to_datetime(['2017-11-23',\n",
        "                          '2018-11-22',\n",
        "                          '2019-11-28',\n",
        "                          '2020-11-26']),\n",
        "    'lower_window': -3,\n",
        "    'upper_window': 0,\n",
        "})\n",
        "\n",
        "black_friday = pd.DataFrame({\n",
        "    'holiday': 'black_friday',\n",
        "    'ds': pd.to_datetime(['2017-11-24',\n",
        "                          '2018-11-23',\n",
        "                          '2019-11-29',\n",
        "                          '2020-11-27']),\n",
        "    'lower_window': 0,\n",
        "    'upper_window': 1,\n",
        "})\n",
        "\n",
        "cyber_monday = pd.DataFrame({\n",
        "    'holiday': 'cyber_monday',\n",
        "    'ds': pd.to_datetime(['2017-11-27',\n",
        "                          '2018-11-26',\n",
        "                          '2019-12-02',\n",
        "                          '2020-11-30']),\n",
        "    'lower_window': 0,\n",
        "    'upper_window': 1,\n",
        "})\n",
        "\n",
        "christmas_day = pd.DataFrame({\n",
        "    'holiday': 'christmas_day',\n",
        "    'ds': pd.to_datetime(['2017-12-25',\n",
        "                          '2018-12-25',\n",
        "                          '2019-12-25',\n",
        "                          '2020-12-25']),\n",
        "    'lower_window': -8,\n",
        "    'upper_window': 3,\n",
        "})"
      ],
      "execution_count": 0,
      "outputs": []
    },
    {
      "cell_type": "code",
      "metadata": {
        "id": "u_wSeXwgsSRo",
        "colab_type": "code",
        "colab": {}
      },
      "source": [
        "holidays = pd.concat((new_years_day,\n",
        "                      mlk_day,\n",
        "                      easter_sunday,\n",
        "                      memorial_day,\n",
        "                      independence_day,\n",
        "                      thanksgiving_day,\n",
        "                      black_friday,\n",
        "                      cyber_monday,\n",
        "                      christmas_day))"
      ],
      "execution_count": 0,
      "outputs": []
    },
    {
      "cell_type": "code",
      "metadata": {
        "id": "LehjGgIJbf8D",
        "colab_type": "code",
        "colab": {}
      },
      "source": [
        "# Define and fit the model\n",
        "model = Prophet(holidays = holidays).fit(df)"
      ],
      "execution_count": 0,
      "outputs": []
    },
    {
      "cell_type": "code",
      "metadata": {
        "id": "dWot8dxibsxd",
        "colab_type": "code",
        "colab": {}
      },
      "source": [
        "# Create a dataframe to hold predictions\n",
        "future = model.make_future_dataframe(periods = n)"
      ],
      "execution_count": 0,
      "outputs": []
    },
    {
      "cell_type": "code",
      "metadata": {
        "id": "Q_Donl0Tbygx",
        "colab_type": "code",
        "colab": {}
      },
      "source": [
        "# Make predictions\n",
        "forecast = model.predict(future)"
      ],
      "execution_count": 0,
      "outputs": []
    },
    {
      "cell_type": "code",
      "metadata": {
        "id": "_znvxmQ6b4ix",
        "colab_type": "code",
        "colab": {}
      },
      "source": [
        "# Output forecasts to a csv file\n",
        "forecast.to_excel('path_to_output_excel_file')"
      ],
      "execution_count": 0,
      "outputs": []
    }
  ]
}