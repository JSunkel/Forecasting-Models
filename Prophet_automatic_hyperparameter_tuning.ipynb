{
  "nbformat": 4,
  "nbformat_minor": 0,
  "metadata": {
    "colab": {
      "name": "Prophet automatic hyperparameter tuning",
      "provenance": [],
      "mount_file_id": "https://github.com/JSunkel/Forecasting-Models/blob/master/Prophet_automatic_hyperparameter_tuning.ipynb",
      "authorship_tag": "ABX9TyPxzmyyAIfbkG5DcnNx+y6p",
      "include_colab_link": true
    },
    "kernelspec": {
      "name": "python3",
      "display_name": "Python 3"
    }
  },
  "cells": [
    {
      "cell_type": "markdown",
      "metadata": {
        "id": "view-in-github",
        "colab_type": "text"
      },
      "source": [
        "<a href=\"https://colab.research.google.com/github/JSunkel/Forecasting-Models/blob/master/Prophet_automatic_hyperparameter_tuning.ipynb\" target=\"_parent\"><img src=\"https://colab.research.google.com/assets/colab-badge.svg\" alt=\"Open In Colab\"/></a>"
      ]
    },
    {
      "cell_type": "code",
      "metadata": {
        "id": "EH4HYbFtva65",
        "colab_type": "code",
        "colab": {}
      },
      "source": [
        "import itertools\n",
        "import numpy as np\n",
        "import pandas as pd\n",
        "from fbprophet import Prophet\n",
        "from fbprophet.diagnostics import cross_validation, performance_metrics"
      ],
      "execution_count": 102,
      "outputs": []
    },
    {
      "cell_type": "code",
      "metadata": {
        "id": "dbAlBRqewBMw",
        "colab_type": "code",
        "colab": {}
      },
      "source": [
        "df = pd.read_csv('drive/My Drive/Churn/same_day_invol_apple_aug.csv')"
      ],
      "execution_count": 103,
      "outputs": []
    },
    {
      "cell_type": "code",
      "metadata": {
        "id": "GKxnGIHLvsk0",
        "colab_type": "code",
        "colab": {}
      },
      "source": [
        "param_grid = {\n",
        "    'changepoint_prior_scale': [0.001, 0.01, 0.1, 0.5],\n",
        "    'seasonality_prior_scale': [0.01, 0.1, 1.0, 10.0],\n",
        "}"
      ],
      "execution_count": 104,
      "outputs": []
    },
    {
      "cell_type": "code",
      "metadata": {
        "id": "tuUUQtsxzHoN",
        "colab_type": "code",
        "colab": {}
      },
      "source": [
        "# Generate all combinations of parameters\n",
        "all_params = [dict(zip(param_grid.keys(), v)) for v in itertools.product(*param_grid.values())]\n",
        "rmses = [] # Store the RMSEs for each params here"
      ],
      "execution_count": 105,
      "outputs": []
    },
    {
      "cell_type": "code",
      "metadata": {
        "id": "E7MOFHsRzpTn",
        "colab_type": "code",
        "colab": {
          "base_uri": "https://localhost:8080/",
          "height": 561
        },
        "outputId": "9de19a6b-c2be-4103-9831-fa5a3412d1fa"
      },
      "source": [
        "# Use cross validation to evaluate all parameters\n",
        "for params in all_params:\n",
        "  m = Prophet(**params).fit(df) # Fit the model with given params\n",
        "  df_cv = cross_validation(m, initial = '761 days', period = '180 days', horizon = '30 days')\n",
        "  df_p = performance_metrics(df_cv, rolling_window = 1)\n",
        "  rmses.append(df_p['rmse'].values[0])"
      ],
      "execution_count": 106,
      "outputs": [
        {
          "output_type": "stream",
          "text": [
            "INFO:fbprophet:Disabling daily seasonality. Run prophet with daily_seasonality=True to override this.\n",
            "INFO:fbprophet:Making 4 forecasts with cutoffs between 2019-02-01 00:00:00 and 2020-07-25 00:00:00\n",
            "INFO:fbprophet:Disabling daily seasonality. Run prophet with daily_seasonality=True to override this.\n",
            "INFO:fbprophet:Making 4 forecasts with cutoffs between 2019-02-01 00:00:00 and 2020-07-25 00:00:00\n",
            "INFO:fbprophet:Disabling daily seasonality. Run prophet with daily_seasonality=True to override this.\n",
            "INFO:fbprophet:Making 4 forecasts with cutoffs between 2019-02-01 00:00:00 and 2020-07-25 00:00:00\n",
            "INFO:fbprophet:Disabling daily seasonality. Run prophet with daily_seasonality=True to override this.\n",
            "INFO:fbprophet:Making 4 forecasts with cutoffs between 2019-02-01 00:00:00 and 2020-07-25 00:00:00\n",
            "INFO:fbprophet:Disabling daily seasonality. Run prophet with daily_seasonality=True to override this.\n",
            "INFO:fbprophet:Making 4 forecasts with cutoffs between 2019-02-01 00:00:00 and 2020-07-25 00:00:00\n",
            "INFO:fbprophet:Disabling daily seasonality. Run prophet with daily_seasonality=True to override this.\n",
            "INFO:fbprophet:Making 4 forecasts with cutoffs between 2019-02-01 00:00:00 and 2020-07-25 00:00:00\n",
            "INFO:fbprophet:Disabling daily seasonality. Run prophet with daily_seasonality=True to override this.\n",
            "INFO:fbprophet:Making 4 forecasts with cutoffs between 2019-02-01 00:00:00 and 2020-07-25 00:00:00\n",
            "INFO:fbprophet:Disabling daily seasonality. Run prophet with daily_seasonality=True to override this.\n",
            "INFO:fbprophet:Making 4 forecasts with cutoffs between 2019-02-01 00:00:00 and 2020-07-25 00:00:00\n",
            "INFO:fbprophet:Disabling daily seasonality. Run prophet with daily_seasonality=True to override this.\n",
            "INFO:fbprophet:Making 4 forecasts with cutoffs between 2019-02-01 00:00:00 and 2020-07-25 00:00:00\n",
            "INFO:fbprophet:Disabling daily seasonality. Run prophet with daily_seasonality=True to override this.\n",
            "INFO:fbprophet:Making 4 forecasts with cutoffs between 2019-02-01 00:00:00 and 2020-07-25 00:00:00\n",
            "INFO:fbprophet:Disabling daily seasonality. Run prophet with daily_seasonality=True to override this.\n",
            "INFO:fbprophet:Making 4 forecasts with cutoffs between 2019-02-01 00:00:00 and 2020-07-25 00:00:00\n",
            "INFO:fbprophet:Disabling daily seasonality. Run prophet with daily_seasonality=True to override this.\n",
            "INFO:fbprophet:Making 4 forecasts with cutoffs between 2019-02-01 00:00:00 and 2020-07-25 00:00:00\n",
            "INFO:fbprophet:Disabling daily seasonality. Run prophet with daily_seasonality=True to override this.\n",
            "INFO:fbprophet:Making 4 forecasts with cutoffs between 2019-02-01 00:00:00 and 2020-07-25 00:00:00\n",
            "INFO:fbprophet:Disabling daily seasonality. Run prophet with daily_seasonality=True to override this.\n",
            "INFO:fbprophet:Making 4 forecasts with cutoffs between 2019-02-01 00:00:00 and 2020-07-25 00:00:00\n",
            "INFO:fbprophet:Disabling daily seasonality. Run prophet with daily_seasonality=True to override this.\n",
            "INFO:fbprophet:Making 4 forecasts with cutoffs between 2019-02-01 00:00:00 and 2020-07-25 00:00:00\n",
            "INFO:fbprophet:Disabling daily seasonality. Run prophet with daily_seasonality=True to override this.\n",
            "INFO:fbprophet:Making 4 forecasts with cutoffs between 2019-02-01 00:00:00 and 2020-07-25 00:00:00\n"
          ],
          "name": "stderr"
        }
      ]
    },
    {
      "cell_type": "code",
      "metadata": {
        "id": "TRcIoMbp3dgl",
        "colab_type": "code",
        "colab": {
          "base_uri": "https://localhost:8080/",
          "height": 306
        },
        "outputId": "2aefa809-9d08-4dac-b240-f4a5521c1fef"
      },
      "source": [
        "# Find the best results\n",
        "tuning_results = pd.DataFrame(all_params)\n",
        "tuning_results['rmse'] = rmses\n",
        "print(tuning_results)\n",
        "#tuning_results.to_csv('drive/My Drive/Churn/same_day_vol_port_rmse.csv')"
      ],
      "execution_count": 107,
      "outputs": [
        {
          "output_type": "stream",
          "text": [
            "    changepoint_prior_scale  seasonality_prior_scale        rmse\n",
            "0                     0.001                     0.01  840.244856\n",
            "1                     0.001                     0.10  843.456500\n",
            "2                     0.001                     1.00  851.557972\n",
            "3                     0.001                    10.00  848.580038\n",
            "4                     0.010                     0.01  706.346062\n",
            "5                     0.010                     0.10  714.227157\n",
            "6                     0.010                     1.00  712.308931\n",
            "7                     0.010                    10.00  713.791292\n",
            "8                     0.100                     0.01  637.476572\n",
            "9                     0.100                     0.10  643.810904\n",
            "10                    0.100                     1.00  645.086639\n",
            "11                    0.100                    10.00  643.228858\n",
            "12                    0.500                     0.01  601.681427\n",
            "13                    0.500                     0.10  589.547370\n",
            "14                    0.500                     1.00  596.568540\n",
            "15                    0.500                    10.00  595.262905\n"
          ],
          "name": "stdout"
        }
      ]
    },
    {
      "cell_type": "code",
      "metadata": {
        "id": "fKuKJquV4Wl-",
        "colab_type": "code",
        "colab": {
          "base_uri": "https://localhost:8080/",
          "height": 34
        },
        "outputId": "48c07873-7689-4cfd-b7a0-602b3a1f870d"
      },
      "source": [
        "best_params = all_params[np.argmin(rmses)]\n",
        "print(best_params)"
      ],
      "execution_count": 108,
      "outputs": [
        {
          "output_type": "stream",
          "text": [
            "{'changepoint_prior_scale': 0.5, 'seasonality_prior_scale': 0.1}\n"
          ],
          "name": "stdout"
        }
      ]
    }
  ]
}