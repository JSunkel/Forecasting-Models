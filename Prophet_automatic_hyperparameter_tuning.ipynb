{
  "nbformat": 4,
  "nbformat_minor": 0,
  "metadata": {
    "colab": {
      "name": "Prophet automatic hyperparameter tuning",
      "provenance": [],
      "mount_file_id": "1yAEUtUGD2rd0hx6PxeOnF4t_poscA3PS",
      "authorship_tag": "ABX9TyOkWsl/mGeMbsvEfkIb8zO1",
      "include_colab_link": true
    },
    "kernelspec": {
      "name": "python3",
      "display_name": "Python 3"
    }
  },
  "cells": [
    {
      "cell_type": "markdown",
      "metadata": {
        "id": "view-in-github",
        "colab_type": "text"
      },
      "source": [
        "<a href=\"https://colab.research.google.com/github/JSunkel/Forecasting-Models/blob/master/Prophet_automatic_hyperparameter_tuning.ipynb\" target=\"_parent\"><img src=\"https://colab.research.google.com/assets/colab-badge.svg\" alt=\"Open In Colab\"/></a>"
      ]
    },
    {
      "cell_type": "code",
      "metadata": {
        "id": "EH4HYbFtva65",
        "colab_type": "code",
        "colab": {}
      },
      "source": [
        "import itertools\n",
        "import numpy as np\n",
        "import pandas as pd\n",
        "from fbprophet import Prophet\n",
        "from fbprophet.diagnostics import cross_validation, performance_metrics"
      ],
      "execution_count": 24,
      "outputs": []
    },
    {
      "cell_type": "code",
      "metadata": {
        "id": "dbAlBRqewBMw",
        "colab_type": "code",
        "colab": {}
      },
      "source": [
        "df = pd.read_csv('drive/My Drive/Churn/same_day_vol_port_basic_cdma_aug.csv')"
      ],
      "execution_count": 25,
      "outputs": []
    },
    {
      "cell_type": "code",
      "metadata": {
        "id": "GKxnGIHLvsk0",
        "colab_type": "code",
        "colab": {}
      },
      "source": [
        "param_grid = {\n",
        "    'changepoint_prior_scale': [0.001, 0.01, 0.1, 0.5],\n",
        "    'seasonality_prior_scale': [0.01, 0.1, 1.0, 10.0],\n",
        "}"
      ],
      "execution_count": 26,
      "outputs": []
    },
    {
      "cell_type": "code",
      "metadata": {
        "id": "tuUUQtsxzHoN",
        "colab_type": "code",
        "colab": {}
      },
      "source": [
        "# Generate all combinations of parameters\n",
        "all_params = [dict(zip(param_grid.keys(), v)) for v in itertools.product(*param_grid.values())]\n",
        "rmses = [] # Store the RMSEs for each params here"
      ],
      "execution_count": 27,
      "outputs": []
    },
    {
      "cell_type": "code",
      "metadata": {
        "id": "E7MOFHsRzpTn",
        "colab_type": "code",
        "colab": {}
      },
      "source": [
        "# Use cross validation to evaluate all parameters\n",
        "for params in all_params:\n",
        "  m = Prophet(**params).fit(df) # Fit the model with given params\n",
        "  df_cv = cross_validation(m, initial = '761 days', period = '180 days', horizon = '30 days')\n",
        "  df_p = performance_metrics(df_cv, rolling_window = 1)\n",
        "  rmses.append(df_p['rmse'].values[0])"
      ],
      "execution_count": null,
      "outputs": []
    },
    {
      "cell_type": "code",
      "metadata": {
        "id": "TRcIoMbp3dgl",
        "colab_type": "code",
        "colab": {}
      },
      "source": [
        "# Find the best results\n",
        "tuning_results = pd.DataFrame(all_params)\n",
        "tuning_results['rmse'] = rmses\n",
        "print(tuning_results)\n",
        "tuning_results.to_csv('drive/My Drive/Churn/same_day_vol_port_rmse.csv')"
      ],
      "execution_count": null,
      "outputs": []
    },
    {
      "cell_type": "code",
      "metadata": {
        "id": "fKuKJquV4Wl-",
        "colab_type": "code",
        "colab": {}
      },
      "source": [
        "best_params = all_params[np.argmin(rmses)]\n",
        "print(best_params)"
      ],
      "execution_count": null,
      "outputs": []
    }
  ]
}