{
  "nbformat": 4,
  "nbformat_minor": 0,
  "metadata": {
    "colab": {
      "name": "Prophet automatic hyperparameter tuning",
      "provenance": [],
      "mount_file_id": "1yAEUtUGD2rd0hx6PxeOnF4t_poscA3PS",
      "authorship_tag": "ABX9TyOSwzppHUFjoN2pz9yosim3",
      "include_colab_link": true
    },
    "kernelspec": {
      "name": "python3",
      "display_name": "Python 3"
    }
  },
  "cells": [
    {
      "cell_type": "markdown",
      "metadata": {
        "id": "view-in-github",
        "colab_type": "text"
      },
      "source": [
        "<a href=\"https://colab.research.google.com/github/JSunkel/Forecasting-Models/blob/master/Prophet_automatic_hyperparameter_tuning.ipynb\" target=\"_parent\"><img src=\"https://colab.research.google.com/assets/colab-badge.svg\" alt=\"Open In Colab\"/></a>"
      ]
    },
    {
      "cell_type": "code",
      "metadata": {
        "id": "EH4HYbFtva65",
        "colab_type": "code",
        "colab": {}
      },
      "source": [
        "import itertools\n",
        "import numpy as np\n",
        "import pandas as pd\n",
        "from fbprophet import Prophet\n",
        "from fbprophet.diagnostics import cross_validation, performance_metrics"
      ],
      "execution_count": 14,
      "outputs": []
    },
    {
      "cell_type": "code",
      "metadata": {
        "id": "dbAlBRqewBMw",
        "colab_type": "code",
        "colab": {}
      },
      "source": [
        "df = pd.read_csv('drive/My Drive/Churn/same_day_vol_port_basic_cdma_aug.csv')"
      ],
      "execution_count": 15,
      "outputs": []
    },
    {
      "cell_type": "code",
      "metadata": {
        "id": "GKxnGIHLvsk0",
        "colab_type": "code",
        "colab": {}
      },
      "source": [
        "param_grid = {\n",
        "    'changepoint_prior_scale': [0.001, 0.01, 0.1, 0.5],\n",
        "    'seasonality_prior_scale': [0.01, 0.1, 1.0, 10.0],\n",
        "}"
      ],
      "execution_count": 16,
      "outputs": []
    },
    {
      "cell_type": "code",
      "metadata": {
        "id": "tuUUQtsxzHoN",
        "colab_type": "code",
        "colab": {}
      },
      "source": [
        "# Generate all combinations of parameters\n",
        "all_params = [dict(zip(param_grid.keys(), v)) for v in itertools.product(*param_grid.values())]\n",
        "rmses = [] # Store the RMSEs for each params here"
      ],
      "execution_count": 17,
      "outputs": []
    },
    {
      "cell_type": "code",
      "metadata": {
        "id": "7fKZLqgl1g_a",
        "colab_type": "code",
        "colab": {}
      },
      "source": [
        "cutoffs = pd.to_datetime(['2019-01-01', '2019-06-01', '2020-01-01'])"
      ],
      "execution_count": 18,
      "outputs": []
    },
    {
      "cell_type": "code",
      "metadata": {
        "id": "E7MOFHsRzpTn",
        "colab_type": "code",
        "colab": {
          "base_uri": "https://localhost:8080/",
          "height": 561
        },
        "outputId": "16a0df32-e724-4d9f-951d-b08402ae3db0"
      },
      "source": [
        "# Use cross validation to evaluate all parameters\n",
        "for params in all_params:\n",
        "  m = Prophet(**params).fit(df) # Fit the model with given params\n",
        "  df_cv = cross_validation(m, initial = '761 days', period = '180 days', horizon = '30 days')\n",
        "  df_p = performance_metrics(df_cv, rolling_window = 1)\n",
        "  rmses.append(df_p['rmse'].values[0])"
      ],
      "execution_count": 20,
      "outputs": [
        {
          "output_type": "stream",
          "text": [
            "INFO:fbprophet:Disabling daily seasonality. Run prophet with daily_seasonality=True to override this.\n",
            "INFO:fbprophet:Making 4 forecasts with cutoffs between 2019-02-01 00:00:00 and 2020-07-25 00:00:00\n",
            "INFO:fbprophet:Disabling daily seasonality. Run prophet with daily_seasonality=True to override this.\n",
            "INFO:fbprophet:Making 4 forecasts with cutoffs between 2019-02-01 00:00:00 and 2020-07-25 00:00:00\n",
            "INFO:fbprophet:Disabling daily seasonality. Run prophet with daily_seasonality=True to override this.\n",
            "INFO:fbprophet:Making 4 forecasts with cutoffs between 2019-02-01 00:00:00 and 2020-07-25 00:00:00\n",
            "INFO:fbprophet:Disabling daily seasonality. Run prophet with daily_seasonality=True to override this.\n",
            "INFO:fbprophet:Making 4 forecasts with cutoffs between 2019-02-01 00:00:00 and 2020-07-25 00:00:00\n",
            "INFO:fbprophet:Disabling daily seasonality. Run prophet with daily_seasonality=True to override this.\n",
            "INFO:fbprophet:Making 4 forecasts with cutoffs between 2019-02-01 00:00:00 and 2020-07-25 00:00:00\n",
            "INFO:fbprophet:Disabling daily seasonality. Run prophet with daily_seasonality=True to override this.\n",
            "INFO:fbprophet:Making 4 forecasts with cutoffs between 2019-02-01 00:00:00 and 2020-07-25 00:00:00\n",
            "INFO:fbprophet:Disabling daily seasonality. Run prophet with daily_seasonality=True to override this.\n",
            "INFO:fbprophet:Making 4 forecasts with cutoffs between 2019-02-01 00:00:00 and 2020-07-25 00:00:00\n",
            "INFO:fbprophet:Disabling daily seasonality. Run prophet with daily_seasonality=True to override this.\n",
            "INFO:fbprophet:Making 4 forecasts with cutoffs between 2019-02-01 00:00:00 and 2020-07-25 00:00:00\n",
            "INFO:fbprophet:Disabling daily seasonality. Run prophet with daily_seasonality=True to override this.\n",
            "INFO:fbprophet:Making 4 forecasts with cutoffs between 2019-02-01 00:00:00 and 2020-07-25 00:00:00\n",
            "INFO:fbprophet:Disabling daily seasonality. Run prophet with daily_seasonality=True to override this.\n",
            "INFO:fbprophet:Making 4 forecasts with cutoffs between 2019-02-01 00:00:00 and 2020-07-25 00:00:00\n",
            "INFO:fbprophet:Disabling daily seasonality. Run prophet with daily_seasonality=True to override this.\n",
            "INFO:fbprophet:Making 4 forecasts with cutoffs between 2019-02-01 00:00:00 and 2020-07-25 00:00:00\n",
            "INFO:fbprophet:Disabling daily seasonality. Run prophet with daily_seasonality=True to override this.\n",
            "INFO:fbprophet:Making 4 forecasts with cutoffs between 2019-02-01 00:00:00 and 2020-07-25 00:00:00\n",
            "INFO:fbprophet:Disabling daily seasonality. Run prophet with daily_seasonality=True to override this.\n",
            "INFO:fbprophet:Making 4 forecasts with cutoffs between 2019-02-01 00:00:00 and 2020-07-25 00:00:00\n",
            "INFO:fbprophet:Disabling daily seasonality. Run prophet with daily_seasonality=True to override this.\n",
            "INFO:fbprophet:Making 4 forecasts with cutoffs between 2019-02-01 00:00:00 and 2020-07-25 00:00:00\n",
            "INFO:fbprophet:Disabling daily seasonality. Run prophet with daily_seasonality=True to override this.\n",
            "INFO:fbprophet:Making 4 forecasts with cutoffs between 2019-02-01 00:00:00 and 2020-07-25 00:00:00\n",
            "INFO:fbprophet:Disabling daily seasonality. Run prophet with daily_seasonality=True to override this.\n",
            "INFO:fbprophet:Making 4 forecasts with cutoffs between 2019-02-01 00:00:00 and 2020-07-25 00:00:00\n"
          ],
          "name": "stderr"
        }
      ]
    },
    {
      "cell_type": "code",
      "metadata": {
        "id": "TRcIoMbp3dgl",
        "colab_type": "code",
        "colab": {
          "base_uri": "https://localhost:8080/",
          "height": 306
        },
        "outputId": "7971b3e5-65fd-4350-c458-df129f84973a"
      },
      "source": [
        "# Find the best results\n",
        "tuning_results = pd.DataFrame(all_params)\n",
        "tuning_results['rmse'] = rmses\n",
        "print(tuning_results)"
      ],
      "execution_count": 21,
      "outputs": [
        {
          "output_type": "stream",
          "text": [
            "    changepoint_prior_scale  seasonality_prior_scale       rmse\n",
            "0                     0.001                     0.01  12.222572\n",
            "1                     0.001                     0.10  12.286415\n",
            "2                     0.001                     1.00  12.022563\n",
            "3                     0.001                    10.00  12.165894\n",
            "4                     0.010                     0.01  11.308660\n",
            "5                     0.010                     0.10  11.753322\n",
            "6                     0.010                     1.00  11.799704\n",
            "7                     0.010                    10.00  11.740697\n",
            "8                     0.100                     0.01  11.397293\n",
            "9                     0.100                     0.10  11.734062\n",
            "10                    0.100                     1.00  11.729134\n",
            "11                    0.100                    10.00  11.735391\n",
            "12                    0.500                     0.01  11.884006\n",
            "13                    0.500                     0.10  11.886305\n",
            "14                    0.500                     1.00  11.825434\n",
            "15                    0.500                    10.00  11.807270\n"
          ],
          "name": "stdout"
        }
      ]
    },
    {
      "cell_type": "code",
      "metadata": {
        "id": "fKuKJquV4Wl-",
        "colab_type": "code",
        "colab": {
          "base_uri": "https://localhost:8080/",
          "height": 34
        },
        "outputId": "a28c056a-590c-4ae5-d192-1f98a3c07d99"
      },
      "source": [
        "best_params = all_params[np.argmin(rmses)]\n",
        "print(best_params)"
      ],
      "execution_count": 22,
      "outputs": [
        {
          "output_type": "stream",
          "text": [
            "{'changepoint_prior_scale': 0.01, 'seasonality_prior_scale': 0.01}\n"
          ],
          "name": "stdout"
        }
      ]
    }
  ]
}