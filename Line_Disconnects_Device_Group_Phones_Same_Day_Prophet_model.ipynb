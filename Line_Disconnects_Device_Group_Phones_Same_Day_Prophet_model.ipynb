{
  "nbformat": 4,
  "nbformat_minor": 0,
  "metadata": {
    "colab": {
      "name": "Copy of Upgrades Samsung Phone Prophet model.ipynb",
      "provenance": [],
      "include_colab_link": true
    },
    "kernelspec": {
      "name": "python3",
      "display_name": "Python 3"
    }
  },
  "cells": [
    {
      "cell_type": "markdown",
      "metadata": {
        "id": "view-in-github",
        "colab_type": "text"
      },
      "source": [
        "<a href=\"https://colab.research.google.com/github/JSunkel/Forecasting-Models/blob/master/Line_Disconnects_Device_Group_Phones_Same_Day_Prophet_model.ipynb\" target=\"_parent\"><img src=\"https://colab.research.google.com/assets/colab-badge.svg\" alt=\"Open In Colab\"/></a>"
      ]
    },
    {
      "cell_type": "code",
      "metadata": {
        "id": "127ZL5DNa_DK",
        "colab_type": "code",
        "colab": {}
      },
      "source": [
        "import pandas as pd\n",
        "from fbprophet import Prophet"
      ],
      "execution_count": 0,
      "outputs": []
    },
    {
      "cell_type": "code",
      "metadata": {
        "id": "7L_hdOufbEyU",
        "colab_type": "code",
        "colab": {}
      },
      "source": [
        "# Read a comma-separated values (csv) file into a Pandas DataFrame.\n",
        "fact_table = pd.read_csv('drive/My Drive/Churn/discos_device_grp_fact_table_phone_vol_invol_same_day_may.csv')"
      ],
      "execution_count": 0,
      "outputs": []
    },
    {
      "cell_type": "code",
      "metadata": {
        "id": "b2k68K1N-REn",
        "colab_type": "code",
        "outputId": "c8ec8f47-3b9b-44b5-f617-a2e131ba923d",
        "colab": {
          "base_uri": "https://localhost:8080/",
          "height": 224
        }
      },
      "source": [
        "# Check the full dataset format (testing only)\n",
        "fact_table.head()"
      ],
      "execution_count": 23,
      "outputs": [
        {
          "output_type": "execute_result",
          "data": {
            "text/html": [
              "<div>\n",
              "<style scoped>\n",
              "    .dataframe tbody tr th:only-of-type {\n",
              "        vertical-align: middle;\n",
              "    }\n",
              "\n",
              "    .dataframe tbody tr th {\n",
              "        vertical-align: top;\n",
              "    }\n",
              "\n",
              "    .dataframe thead th {\n",
              "        text-align: right;\n",
              "    }\n",
              "</style>\n",
              "<table border=\"1\" class=\"dataframe\">\n",
              "  <thead>\n",
              "    <tr style=\"text-align: right;\">\n",
              "      <th></th>\n",
              "      <th>ds</th>\n",
              "      <th>vol_port_basic_cdma</th>\n",
              "      <th>vol_port_basic_non_cdma</th>\n",
              "      <th>vol_port_sp_android_other</th>\n",
              "      <th>vol_port_sp_apple</th>\n",
              "      <th>vol_non_port_basic_cdma</th>\n",
              "      <th>vol_non_port_basic_non_cdma</th>\n",
              "      <th>vol_non_port_sp_android_other</th>\n",
              "      <th>vol_non_port_sp_apple</th>\n",
              "      <th>invol_basic_cdma</th>\n",
              "      <th>invol_basic_non_cdma</th>\n",
              "      <th>invol_sp_android_other</th>\n",
              "      <th>invol_sp_apple</th>\n",
              "    </tr>\n",
              "  </thead>\n",
              "  <tbody>\n",
              "    <tr>\n",
              "      <th>0</th>\n",
              "      <td>12/1/2016</td>\n",
              "      <td>218</td>\n",
              "      <td>NaN</td>\n",
              "      <td>961</td>\n",
              "      <td>1034</td>\n",
              "      <td>1415</td>\n",
              "      <td>NaN</td>\n",
              "      <td>1502</td>\n",
              "      <td>1152</td>\n",
              "      <td>411</td>\n",
              "      <td>NaN</td>\n",
              "      <td>2126</td>\n",
              "      <td>1731</td>\n",
              "    </tr>\n",
              "    <tr>\n",
              "      <th>1</th>\n",
              "      <td>12/2/2016</td>\n",
              "      <td>197</td>\n",
              "      <td>NaN</td>\n",
              "      <td>1192</td>\n",
              "      <td>1117</td>\n",
              "      <td>1367</td>\n",
              "      <td>NaN</td>\n",
              "      <td>1989</td>\n",
              "      <td>1076</td>\n",
              "      <td>269</td>\n",
              "      <td>NaN</td>\n",
              "      <td>1491</td>\n",
              "      <td>1312</td>\n",
              "    </tr>\n",
              "    <tr>\n",
              "      <th>2</th>\n",
              "      <td>12/3/2016</td>\n",
              "      <td>268</td>\n",
              "      <td>NaN</td>\n",
              "      <td>1357</td>\n",
              "      <td>1566</td>\n",
              "      <td>921</td>\n",
              "      <td>NaN</td>\n",
              "      <td>846</td>\n",
              "      <td>784</td>\n",
              "      <td>263</td>\n",
              "      <td>NaN</td>\n",
              "      <td>1728</td>\n",
              "      <td>1370</td>\n",
              "    </tr>\n",
              "    <tr>\n",
              "      <th>3</th>\n",
              "      <td>12/4/2016</td>\n",
              "      <td>239</td>\n",
              "      <td>NaN</td>\n",
              "      <td>925</td>\n",
              "      <td>1356</td>\n",
              "      <td>534</td>\n",
              "      <td>NaN</td>\n",
              "      <td>593</td>\n",
              "      <td>525</td>\n",
              "      <td>239</td>\n",
              "      <td>NaN</td>\n",
              "      <td>1226</td>\n",
              "      <td>1007</td>\n",
              "    </tr>\n",
              "    <tr>\n",
              "      <th>4</th>\n",
              "      <td>12/5/2016</td>\n",
              "      <td>198</td>\n",
              "      <td>NaN</td>\n",
              "      <td>1088</td>\n",
              "      <td>1154</td>\n",
              "      <td>1533</td>\n",
              "      <td>NaN</td>\n",
              "      <td>1412</td>\n",
              "      <td>1129</td>\n",
              "      <td>307</td>\n",
              "      <td>NaN</td>\n",
              "      <td>1960</td>\n",
              "      <td>1456</td>\n",
              "    </tr>\n",
              "  </tbody>\n",
              "</table>\n",
              "</div>"
            ],
            "text/plain": [
              "          ds  vol_port_basic_cdma  ...  invol_sp_android_other  invol_sp_apple\n",
              "0  12/1/2016                  218  ...                    2126            1731\n",
              "1  12/2/2016                  197  ...                    1491            1312\n",
              "2  12/3/2016                  268  ...                    1728            1370\n",
              "3  12/4/2016                  239  ...                    1226            1007\n",
              "4  12/5/2016                  198  ...                    1960            1456\n",
              "\n",
              "[5 rows x 13 columns]"
            ]
          },
          "metadata": {
            "tags": []
          },
          "execution_count": 23
        }
      ]
    },
    {
      "cell_type": "code",
      "metadata": {
        "id": "gB5Ps8AauIU2",
        "colab_type": "code",
        "colab": {}
      },
      "source": [
        "# Split out indivudal datasets for forecasting.\n",
        "# Voluntary Port Outs\n",
        "vol_port_basic_cdma = fact_table[['ds', 'vol_port_basic_cdma']].rename(columns = {'vol_port_basic_cdma': 'y'})\n",
        "vol_port_basic_non_cdma = fact_table[['ds', 'vol_port_basic_non_cdma']].rename(columns = {'vol_port_basic_non_cdma': 'y'})\n",
        "vol_port_sp_android_other = fact_table[['ds', 'vol_port_sp_android_other']].rename(columns = {'vol_port_sp_android_other': 'y'})\n",
        "vol_port_sp_apple = fact_table[['ds', 'vol_port_sp_apple']].rename(columns = {'vol_port_sp_apple': 'y'})\n",
        "\n",
        "# Voluntary non Port Outs\n",
        "vol_non_port_basic_cdma = fact_table[['ds', 'vol_non_port_basic_cdma']].rename(columns = {'vol_non_port_basic_cdma': 'y'})\n",
        "vol_non_port_basic_non_cdma = fact_table[['ds', 'vol_non_port_basic_non_cdma']].rename(columns = {'vol_non_port_basic_non_cdma': 'y'})\n",
        "vol_non_port_sp_android_other = fact_table[['ds', 'vol_non_port_sp_android_other']].rename(columns = {'vol_non_port_sp_android_other': 'y'})\n",
        "vol_non_port_sp_apple = fact_table[['ds', 'vol_non_port_sp_apple']].rename(columns = {'vol_non_port_sp_apple': 'y'})\n",
        "\n",
        "# Involuntary\n",
        "invol_basic_cdma = fact_table[['ds', 'invol_basic_cdma']].rename(columns = {'invol_basic_cdma': 'y'})\n",
        "invol_basic_non_cdma = fact_table[['ds', 'invol_basic_non_cdma']].rename(columns = {'invol_basic_non_cdma': 'y'})\n",
        "invol_sp_android_other = fact_table[['ds', 'invol_sp_android_other']].rename(columns = {'invol_sp_android_other': 'y'})\n",
        "invol_sp_apple = fact_table[['ds', 'invol_sp_apple']].rename(columns = {'invol_sp_apple': 'y'})"
      ],
      "execution_count": 0,
      "outputs": []
    },
    {
      "cell_type": "code",
      "metadata": {
        "id": "w-J4F09yvCsP",
        "colab_type": "code",
        "outputId": "fdcc7e02-4ce8-442f-cb14-40c6469c501d",
        "colab": {
          "base_uri": "https://localhost:8080/",
          "height": 204
        }
      },
      "source": [
        "# Check the individual dataset format (testing only)\n",
        "vol_port_basic_cdma.head()"
      ],
      "execution_count": 25,
      "outputs": [
        {
          "output_type": "execute_result",
          "data": {
            "text/html": [
              "<div>\n",
              "<style scoped>\n",
              "    .dataframe tbody tr th:only-of-type {\n",
              "        vertical-align: middle;\n",
              "    }\n",
              "\n",
              "    .dataframe tbody tr th {\n",
              "        vertical-align: top;\n",
              "    }\n",
              "\n",
              "    .dataframe thead th {\n",
              "        text-align: right;\n",
              "    }\n",
              "</style>\n",
              "<table border=\"1\" class=\"dataframe\">\n",
              "  <thead>\n",
              "    <tr style=\"text-align: right;\">\n",
              "      <th></th>\n",
              "      <th>ds</th>\n",
              "      <th>y</th>\n",
              "    </tr>\n",
              "  </thead>\n",
              "  <tbody>\n",
              "    <tr>\n",
              "      <th>0</th>\n",
              "      <td>12/1/2016</td>\n",
              "      <td>218</td>\n",
              "    </tr>\n",
              "    <tr>\n",
              "      <th>1</th>\n",
              "      <td>12/2/2016</td>\n",
              "      <td>197</td>\n",
              "    </tr>\n",
              "    <tr>\n",
              "      <th>2</th>\n",
              "      <td>12/3/2016</td>\n",
              "      <td>268</td>\n",
              "    </tr>\n",
              "    <tr>\n",
              "      <th>3</th>\n",
              "      <td>12/4/2016</td>\n",
              "      <td>239</td>\n",
              "    </tr>\n",
              "    <tr>\n",
              "      <th>4</th>\n",
              "      <td>12/5/2016</td>\n",
              "      <td>198</td>\n",
              "    </tr>\n",
              "  </tbody>\n",
              "</table>\n",
              "</div>"
            ],
            "text/plain": [
              "          ds    y\n",
              "0  12/1/2016  218\n",
              "1  12/2/2016  197\n",
              "2  12/3/2016  268\n",
              "3  12/4/2016  239\n",
              "4  12/5/2016  198"
            ]
          },
          "metadata": {
            "tags": []
          },
          "execution_count": 25
        }
      ]
    },
    {
      "cell_type": "code",
      "metadata": {
        "id": "qd0uiS7nbKIQ",
        "colab_type": "code",
        "colab": {}
      },
      "source": [
        "# Define the holidays\n",
        "new_years_day = pd.DataFrame({\n",
        "    'holiday': 'new_years_day',\n",
        "    'ds': pd.to_datetime(['2017-01-01',\n",
        "                          '2018-01-01',\n",
        "                          '2019-01-01',\n",
        "                          '2020-01-01']),\n",
        "    'lower_window': 0,\n",
        "    'upper_window': 0,\n",
        "})\n",
        "\n",
        "mlk_day = pd.DataFrame({\n",
        "    'holiday': 'mlk_day',\n",
        "    'ds': pd.to_datetime(['2017-01-16',\n",
        "                          '2018-01-15',\n",
        "                          '2019-01-21',\n",
        "                          '2020-01-20']),\n",
        "    'lower_window': 0,\n",
        "    'upper_window': 0,\n",
        "})\n",
        "\n",
        "easter_sunday = pd.DataFrame({\n",
        "    'holiday': 'easter_sunday',\n",
        "    'ds': pd.to_datetime(['2017-04-16',\n",
        "                          '2018-04-01',\n",
        "                          '2019-04-21',\n",
        "                          '2020-04-12']),\n",
        "    'lower_window': 0,\n",
        "    'upper_window': 0,\n",
        "})\n",
        "\n",
        "memorial_day = pd.DataFrame({\n",
        "    'holiday': 'memorial_day',\n",
        "    'ds': pd.to_datetime(['2017-05-29',\n",
        "                          '2018-05-28',\n",
        "                          '2019-05-27',\n",
        "                          '2020-05-25']),\n",
        "    'lower_window': 0,\n",
        "    'upper_window': 0,\n",
        "})\n",
        "\n",
        "independence_day = pd.DataFrame({\n",
        "    'holiday': 'independence_day',\n",
        "    'ds': pd.to_datetime(['2017-07-04',\n",
        "                          '2018-07-04',\n",
        "                          '2019-07-04',\n",
        "                          '2020-07-04']),\n",
        "    'lower_window': 0,\n",
        "    'upper_window': 0,\n",
        "})\n",
        "\n",
        "labor_day = pd.DataFrame({\n",
        "    'holiday': 'labor_day',\n",
        "    'ds': pd.to_datetime(['2017-09-04',\n",
        "                          '2018-09-03',\n",
        "                          '2019-09-02',\n",
        "                          '2020-09-07']),\n",
        "    'lower_window': 0,\n",
        "    'upper_window': 0,\n",
        "})\n",
        "\n",
        "thanksgiving_day = pd.DataFrame({\n",
        "    'holiday': 'thanksgiving_day',\n",
        "    'ds': pd.to_datetime(['2017-11-23',\n",
        "                          '2018-11-22',\n",
        "                          '2019-11-28',\n",
        "                          '2020-11-26']),\n",
        "    'lower_window': 0,\n",
        "    'upper_window': 0,\n",
        "})\n",
        "\n",
        "black_friday = pd.DataFrame({\n",
        "    'holiday': 'black_friday',\n",
        "    'ds': pd.to_datetime(['2017-11-24',\n",
        "                          '2018-11-23',\n",
        "                          '2019-11-29',\n",
        "                          '2020-11-27']),\n",
        "    'lower_window': 0,\n",
        "    'upper_window': 0,\n",
        "})\n",
        "\n",
        "cyber_monday = pd.DataFrame({\n",
        "    'holiday': 'cyber_monday',\n",
        "    'ds': pd.to_datetime(['2017-11-27',\n",
        "                          '2018-11-26',\n",
        "                          '2019-12-02',\n",
        "                          '2020-11-30']),\n",
        "    'lower_window': 0,\n",
        "    'upper_window': 0,\n",
        "})\n",
        "\n",
        "christmas_day = pd.DataFrame({\n",
        "    'holiday': 'christmas_day',\n",
        "    'ds': pd.to_datetime(['2017-12-25',\n",
        "                          '2018-12-25',\n",
        "                          '2019-12-25',\n",
        "                          '2020-12-25']),\n",
        "    'lower_window': 0,\n",
        "    'upper_window': 0,\n",
        "})"
      ],
      "execution_count": 0,
      "outputs": []
    },
    {
      "cell_type": "code",
      "metadata": {
        "id": "u_wSeXwgsSRo",
        "colab_type": "code",
        "colab": {}
      },
      "source": [
        "holidays = pd.concat((new_years_day,\n",
        "                      mlk_day,\n",
        "                      easter_sunday,\n",
        "                      memorial_day,\n",
        "                      independence_day,\n",
        "                      labor_day,\n",
        "                      thanksgiving_day,\n",
        "                      black_friday,\n",
        "                      cyber_monday,\n",
        "                      christmas_day))"
      ],
      "execution_count": 0,
      "outputs": []
    },
    {
      "cell_type": "code",
      "metadata": {
        "id": "LehjGgIJbf8D",
        "colab_type": "code",
        "outputId": "c700a1ea-bab7-40d3-fb98-ecf26a493644",
        "colab": {
          "base_uri": "https://localhost:8080/",
          "height": 221
        }
      },
      "source": [
        "# Define and fit the models\n",
        "# Voluntary Port Outs\n",
        "vol_port_basic_cdma_model = Prophet(holidays = holidays).fit(vol_port_basic_cdma)\n",
        "vol_port_basic_non_cdma_model = Prophet(holidays = holidays).fit(vol_port_basic_non_cdma)\n",
        "vol_port_sp_android_other_model = Prophet(holidays = holidays).fit(vol_port_sp_android_other)\n",
        "vol_port_sp_apple_model = Prophet(holidays = holidays).fit(vol_port_sp_apple)\n",
        "\n",
        "# Voluntary non Port Outs\n",
        "vol_non_port_basic_cdma_model = Prophet(holidays = holidays).fit(vol_non_port_basic_cdma)\n",
        "vol_non_port_basic_non_cdma_model = Prophet(holidays = holidays).fit(vol_non_port_basic_non_cdma)\n",
        "vol_non_port_sp_android_other_model = Prophet(holidays = holidays).fit(vol_non_port_sp_android_other)\n",
        "vol_non_port_sp_apple_model = Prophet(holidays = holidays).fit(vol_non_port_sp_apple)\n",
        "\n",
        "# Involuntary \n",
        "invol_basic_cdma_model = Prophet(holidays = holidays).fit(invol_basic_cdma)\n",
        "invol_basic_non_cdma_model = Prophet(holidays = holidays).fit(invol_basic_non_cdma)\n",
        "invol_sp_android_other_model = Prophet(holidays = holidays).fit(invol_sp_android_other)\n",
        "invol_sp_apple_model = Prophet(holidays = holidays).fit(invol_sp_apple)"
      ],
      "execution_count": 29,
      "outputs": [
        {
          "output_type": "stream",
          "text": [
            "INFO:fbprophet:Disabling daily seasonality. Run prophet with daily_seasonality=True to override this.\n",
            "INFO:fbprophet:Disabling daily seasonality. Run prophet with daily_seasonality=True to override this.\n",
            "INFO:fbprophet:Disabling daily seasonality. Run prophet with daily_seasonality=True to override this.\n",
            "INFO:fbprophet:Disabling daily seasonality. Run prophet with daily_seasonality=True to override this.\n",
            "INFO:fbprophet:Disabling daily seasonality. Run prophet with daily_seasonality=True to override this.\n",
            "INFO:fbprophet:Disabling daily seasonality. Run prophet with daily_seasonality=True to override this.\n",
            "INFO:fbprophet:Disabling daily seasonality. Run prophet with daily_seasonality=True to override this.\n",
            "INFO:fbprophet:Disabling daily seasonality. Run prophet with daily_seasonality=True to override this.\n",
            "INFO:fbprophet:Disabling daily seasonality. Run prophet with daily_seasonality=True to override this.\n",
            "INFO:fbprophet:Disabling daily seasonality. Run prophet with daily_seasonality=True to override this.\n",
            "INFO:fbprophet:Disabling daily seasonality. Run prophet with daily_seasonality=True to override this.\n",
            "INFO:fbprophet:Disabling daily seasonality. Run prophet with daily_seasonality=True to override this.\n"
          ],
          "name": "stderr"
        }
      ]
    },
    {
      "cell_type": "code",
      "metadata": {
        "id": "Dr1zK_B1s806",
        "colab_type": "code",
        "colab": {}
      },
      "source": [
        "# Number of periods into the future to forecast\n",
        "n = 219"
      ],
      "execution_count": 0,
      "outputs": []
    },
    {
      "cell_type": "code",
      "metadata": {
        "id": "dWot8dxibsxd",
        "colab_type": "code",
        "colab": {}
      },
      "source": [
        "# Create dataframes to hold predictions\n",
        "# Voluntary Port Outs\n",
        "vol_port_basic_cdma_future = vol_port_basic_cdma_model.make_future_dataframe(periods = n)\n",
        "vol_port_basic_non_cdma_future = vol_port_basic_non_cdma_model.make_future_dataframe(periods = n)\n",
        "vol_port_sp_android_other_future = vol_port_sp_android_other_model.make_future_dataframe(periods = n)\n",
        "vol_port_sp_apple_future = vol_port_sp_apple_model.make_future_dataframe(periods = n)\n",
        "\n",
        "# Voluntary non Port Outs\n",
        "vol_non_port_basic_cdma_future = vol_non_port_basic_cdma_model.make_future_dataframe(periods = n)\n",
        "vol_non_port_basic_non_cdma_future = vol_non_port_basic_non_cdma_model.make_future_dataframe(periods = n)\n",
        "vol_non_port_sp_android_other_future = vol_non_port_sp_android_other_model.make_future_dataframe(periods = n)\n",
        "vol_non_port_sp_apple_future = vol_non_port_sp_apple_model.make_future_dataframe(periods = n)\n",
        "\n",
        "# Involuntary\n",
        "invol_basic_cdma_future = invol_basic_cdma_model.make_future_dataframe(periods = n)\n",
        "invol_basic_non_cdma_future = invol_basic_non_cdma_model.make_future_dataframe(periods = n)\n",
        "invol_sp_android_other_future = invol_sp_android_other_model.make_future_dataframe(periods = n)\n",
        "invol_sp_apple_future = invol_sp_apple_model.make_future_dataframe(periods = n)"
      ],
      "execution_count": 0,
      "outputs": []
    },
    {
      "cell_type": "code",
      "metadata": {
        "id": "Q_Donl0Tbygx",
        "colab_type": "code",
        "colab": {}
      },
      "source": [
        "# Make predictions\n",
        "# Voluntary Port Outs\n",
        "vol_port_basic_cdma_forecast = vol_port_basic_cdma_model.predict(vol_port_basic_cdma_future)\n",
        "vol_port_basic_non_cdma_forecast = vol_port_basic_non_cdma_model.predict(vol_port_basic_non_cdma_future)\n",
        "vol_port_sp_android_other_forecast = vol_port_sp_android_other_model.predict(vol_port_sp_android_other_future)\n",
        "vol_port_sp_apple_forecast = vol_port_sp_apple_model.predict(vol_port_sp_apple_future)\n",
        "\n",
        "# Voluntary non Port Outs\n",
        "vol_non_port_basic_cdma_forecast = vol_non_port_basic_cdma_model.predict(vol_non_port_basic_cdma_future)\n",
        "vol_non_port_basic_non_cdma_forecast = vol_non_port_basic_non_cdma_model.predict(vol_non_port_basic_non_cdma_future)\n",
        "vol_non_port_sp_android_other_forecast = vol_non_port_sp_android_other_model.predict(vol_non_port_sp_android_other_future)\n",
        "vol_non_port_sp_apple_forecast = vol_non_port_sp_apple_model.predict(vol_non_port_sp_apple_future)\n",
        "\n",
        "# Involuntary\n",
        "invol_basic_cdma_forecast = invol_basic_cdma_model.predict(invol_basic_cdma_future)\n",
        "invol_basic_non_cdma_forecast = invol_basic_non_cdma_model.predict(invol_basic_non_cdma_future)\n",
        "invol_sp_android_other_forecast = invol_sp_android_other_model.predict(invol_sp_android_other_future)\n",
        "invol_sp_apple_forecast = invol_sp_apple_model.predict(invol_sp_apple_future)"
      ],
      "execution_count": 0,
      "outputs": []
    },
    {
      "cell_type": "code",
      "metadata": {
        "id": "gvPtOAf2sDOD",
        "colab_type": "code",
        "colab": {}
      },
      "source": [
        "# Get the datestamp and prediction columns\n",
        "# Voluntary Port Outs\n",
        "vol_port_basic_cdma_forecast_subset = vol_port_basic_cdma_forecast[['ds', 'yhat']].rename(columns = {'yhat': 'Vol_Port_Basic_CDMA'})\n",
        "vol_port_basic_non_cdma_forecast_subset = vol_port_basic_non_cdma_forecast[['ds', 'yhat']].rename(columns = {'yhat': 'Vol_Port_Basic_non_CDMA'})\n",
        "vol_port_sp_android_other_forecast_subset = vol_port_sp_android_other_forecast[['ds', 'yhat']].rename(columns = {'yhat': 'Vol_Port_SP_Android_Other'})\n",
        "vol_port_sp_apple_forecast_subset = vol_port_sp_apple_forecast[['ds', 'yhat']].rename(columns = {'yhat': 'Vol_Port_SP_Apple'})\n",
        "\n",
        "# Voluntary non Port Outs\n",
        "vol_non_port_basic_cdma_forecast_subset = vol_non_port_basic_cdma_forecast[['ds', 'yhat']].rename(columns = {'yhat': 'Vol_Non_Port_Basic_CDMA'})\n",
        "vol_non_port_basic_non_cdma_forecast_subset = vol_non_port_basic_non_cdma_forecast[['ds', 'yhat']].rename(columns = {'yhat': 'Vol_Non_Port_Basic_non_CDMA'})\n",
        "vol_non_port_sp_android_other_forecast_subset = vol_non_port_sp_android_other_forecast[['ds', 'yhat']].rename(columns = {'yhat': 'Vol_Non_Port_SP_Android_Other'})\n",
        "vol_non_port_sp_apple_forecast_subset = vol_non_port_sp_apple_forecast[['ds', 'yhat']].rename(columns = {'yhat': 'Vol_Non_Port_SP_Apple'})\n",
        "\n",
        "# Involuntary\n",
        "invol_basic_cdma_forecast_subset = invol_basic_cdma_forecast[['ds', 'yhat']].rename(columns = {'yhat': 'Invol_Basic_CDMA'})\n",
        "invol_basic_non_cdma_forecast_subset = invol_basic_non_cdma_forecast[['ds', 'yhat']].rename(columns = {'yhat': 'Invol_Basic_non_CDMA'})\n",
        "invol_sp_android_other_forecast_subset = invol_sp_android_other_forecast[['ds', 'yhat']].rename(columns = {'yhat': 'Invol_SP_Android_Other'})\n",
        "invol_sp_apple_forecast_subset = invol_sp_apple_forecast[['ds', 'yhat']].rename(columns = {'yhat': 'Invol_SP_Apple'})"
      ],
      "execution_count": 0,
      "outputs": []
    },
    {
      "cell_type": "code",
      "metadata": {
        "id": "Er7OBgy4sI_I",
        "colab_type": "code",
        "outputId": "9b58e9fb-edab-4dea-a011-f76e8cea28a3",
        "colab": {
          "base_uri": "https://localhost:8080/",
          "height": 204
        }
      },
      "source": [
        "# Check the format of the subsetted forecasts (testing only)\n",
        "vol_port_basic_cdma_forecast_subset.tail()"
      ],
      "execution_count": 34,
      "outputs": [
        {
          "output_type": "execute_result",
          "data": {
            "text/html": [
              "<div>\n",
              "<style scoped>\n",
              "    .dataframe tbody tr th:only-of-type {\n",
              "        vertical-align: middle;\n",
              "    }\n",
              "\n",
              "    .dataframe tbody tr th {\n",
              "        vertical-align: top;\n",
              "    }\n",
              "\n",
              "    .dataframe thead th {\n",
              "        text-align: right;\n",
              "    }\n",
              "</style>\n",
              "<table border=\"1\" class=\"dataframe\">\n",
              "  <thead>\n",
              "    <tr style=\"text-align: right;\">\n",
              "      <th></th>\n",
              "      <th>ds</th>\n",
              "      <th>Vol_Port_Basic_CDMA</th>\n",
              "    </tr>\n",
              "  </thead>\n",
              "  <tbody>\n",
              "    <tr>\n",
              "      <th>1487</th>\n",
              "      <td>2020-12-27</td>\n",
              "      <td>47.850747</td>\n",
              "    </tr>\n",
              "    <tr>\n",
              "      <th>1488</th>\n",
              "      <td>2020-12-28</td>\n",
              "      <td>84.772189</td>\n",
              "    </tr>\n",
              "    <tr>\n",
              "      <th>1489</th>\n",
              "      <td>2020-12-29</td>\n",
              "      <td>82.277771</td>\n",
              "    </tr>\n",
              "    <tr>\n",
              "      <th>1490</th>\n",
              "      <td>2020-12-30</td>\n",
              "      <td>84.655599</td>\n",
              "    </tr>\n",
              "    <tr>\n",
              "      <th>1491</th>\n",
              "      <td>2020-12-31</td>\n",
              "      <td>84.785058</td>\n",
              "    </tr>\n",
              "  </tbody>\n",
              "</table>\n",
              "</div>"
            ],
            "text/plain": [
              "             ds  Vol_Port_Basic_CDMA\n",
              "1487 2020-12-27            47.850747\n",
              "1488 2020-12-28            84.772189\n",
              "1489 2020-12-29            82.277771\n",
              "1490 2020-12-30            84.655599\n",
              "1491 2020-12-31            84.785058"
            ]
          },
          "metadata": {
            "tags": []
          },
          "execution_count": 34
        }
      ]
    },
    {
      "cell_type": "code",
      "metadata": {
        "id": "5XrR_uTnC4M6",
        "colab_type": "code",
        "colab": {}
      },
      "source": [
        "# Growth multiplier\n",
        "gm = 1.00"
      ],
      "execution_count": 0,
      "outputs": []
    },
    {
      "cell_type": "code",
      "metadata": {
        "id": "3QezWJW-DCC9",
        "colab_type": "code",
        "colab": {}
      },
      "source": [
        "# Replace any negative values and scale the forecast using the growth multiplier\n",
        "# Voluntary Port Outs \n",
        "vol_port_basic_cdma_forecast_subset['Vol_Port_Basic_CDMA'] = vol_port_basic_cdma_forecast_subset['Vol_Port_Basic_CDMA'].abs() * gm\n",
        "vol_port_basic_non_cdma_forecast_subset['Vol_Port_Basic_non_CDMA'] = vol_port_basic_non_cdma_forecast_subset['Vol_Port_Basic_non_CDMA'].abs() * gm\n",
        "vol_port_sp_android_other_forecast_subset['Vol_Port_SP_Android_Other'] = vol_port_sp_android_other_forecast_subset['Vol_Port_SP_Android_Other'].abs() * gm\n",
        "vol_port_sp_apple_forecast_subset['Vol_Port_SP_Apple'] = vol_port_sp_apple_forecast_subset['Vol_Port_SP_Apple'].abs() * gm\n",
        "\n",
        "# Voluntary non Port Outs\n",
        "vol_non_port_basic_cdma_forecast_subset['Vol_Non_Port_Basic_CDMA'] = vol_non_port_basic_cdma_forecast_subset['Vol_Non_Port_Basic_CDMA'].abs() * gm\n",
        "vol_non_port_basic_non_cdma_forecast_subset['Vol_Non_Port_Basic_non_CDMA'] = vol_non_port_basic_non_cdma_forecast_subset['Vol_Non_Port_Basic_non_CDMA'].abs() * gm\n",
        "vol_non_port_sp_android_other_forecast_subset['Vol_Non_Port_SP_Android_Other'] = vol_non_port_sp_android_other_forecast_subset['Vol_Non_Port_SP_Android_Other'].abs() * gm\n",
        "vol_non_port_sp_apple_forecast_subset['Vol_Non_Port_SP_Apple'] = vol_non_port_sp_apple_forecast_subset['Vol_Non_Port_SP_Apple'].abs() * gm\n",
        "\n",
        "# Involuntary\n",
        "invol_basic_cdma_forecast_subset['Invol_Basic_CDMA'] = invol_basic_cdma_forecast_subset['Invol_Basic_CDMA'].abs() * gm\n",
        "invol_basic_non_cdma_forecast_subset['Invol_Basic_non_CDMA'] = invol_basic_non_cdma_forecast_subset['Invol_Basic_non_CDMA'].abs() * gm\n",
        "invol_sp_android_other_forecast_subset['Invol_SP_Android_Other'] = invol_sp_android_other_forecast_subset['Invol_SP_Android_Other'].abs() * gm\n",
        "invol_sp_apple_forecast_subset['Invol_SP_Apple'] = invol_sp_apple_forecast_subset['Invol_SP_Apple'].abs() * gm"
      ],
      "execution_count": 0,
      "outputs": []
    },
    {
      "cell_type": "code",
      "metadata": {
        "id": "3dWhmIu1DTAH",
        "colab_type": "code",
        "outputId": "c348f836-0022-4d2f-80b2-8845e9e09d2b",
        "colab": {
          "base_uri": "https://localhost:8080/",
          "height": 204
        }
      },
      "source": [
        "# Check the format of the adjusted forecasts (testing only)\n",
        "vol_port_sp_apple_forecast_subset.tail()"
      ],
      "execution_count": 37,
      "outputs": [
        {
          "output_type": "execute_result",
          "data": {
            "text/html": [
              "<div>\n",
              "<style scoped>\n",
              "    .dataframe tbody tr th:only-of-type {\n",
              "        vertical-align: middle;\n",
              "    }\n",
              "\n",
              "    .dataframe tbody tr th {\n",
              "        vertical-align: top;\n",
              "    }\n",
              "\n",
              "    .dataframe thead th {\n",
              "        text-align: right;\n",
              "    }\n",
              "</style>\n",
              "<table border=\"1\" class=\"dataframe\">\n",
              "  <thead>\n",
              "    <tr style=\"text-align: right;\">\n",
              "      <th></th>\n",
              "      <th>ds</th>\n",
              "      <th>Vol_Port_SP_Apple</th>\n",
              "    </tr>\n",
              "  </thead>\n",
              "  <tbody>\n",
              "    <tr>\n",
              "      <th>1487</th>\n",
              "      <td>2020-12-27</td>\n",
              "      <td>741.539004</td>\n",
              "    </tr>\n",
              "    <tr>\n",
              "      <th>1488</th>\n",
              "      <td>2020-12-28</td>\n",
              "      <td>901.385531</td>\n",
              "    </tr>\n",
              "    <tr>\n",
              "      <th>1489</th>\n",
              "      <td>2020-12-29</td>\n",
              "      <td>852.198747</td>\n",
              "    </tr>\n",
              "    <tr>\n",
              "      <th>1490</th>\n",
              "      <td>2020-12-30</td>\n",
              "      <td>881.539627</td>\n",
              "    </tr>\n",
              "    <tr>\n",
              "      <th>1491</th>\n",
              "      <td>2020-12-31</td>\n",
              "      <td>863.599657</td>\n",
              "    </tr>\n",
              "  </tbody>\n",
              "</table>\n",
              "</div>"
            ],
            "text/plain": [
              "             ds  Vol_Port_SP_Apple\n",
              "1487 2020-12-27         741.539004\n",
              "1488 2020-12-28         901.385531\n",
              "1489 2020-12-29         852.198747\n",
              "1490 2020-12-30         881.539627\n",
              "1491 2020-12-31         863.599657"
            ]
          },
          "metadata": {
            "tags": []
          },
          "execution_count": 37
        }
      ]
    },
    {
      "cell_type": "code",
      "metadata": {
        "id": "8m446XCi_AqF",
        "colab_type": "code",
        "colab": {}
      },
      "source": [
        "# Combine the forecasts into one table\n",
        "# Voluntary Port Outs\n",
        "discos_device_grp_phone_pred_table = vol_port_basic_cdma_forecast_subset\n",
        "discos_device_grp_phone_pred_table.insert(2, 'Vol_Port_Basic_non_CDMA', vol_port_basic_non_cdma_forecast_subset['Vol_Port_Basic_non_CDMA'])\n",
        "discos_device_grp_phone_pred_table.insert(3, 'Vol_Port_SP_Android_Other', vol_port_sp_android_other_forecast_subset['Vol_Port_SP_Android_Other'])\n",
        "discos_device_grp_phone_pred_table.insert(4, 'Vol_Port_SP_Apple', vol_port_sp_apple_forecast_subset['Vol_Port_SP_Apple'])\n",
        "\n",
        "# Voluntary Non Port Outs\n",
        "discos_device_grp_phone_pred_table.insert(5, 'Vol_Non_Port_Basic_CDMA', vol_non_port_basic_cdma_forecast_subset['Vol_Non_Port_Basic_CDMA'])\n",
        "discos_device_grp_phone_pred_table.insert(6, 'Vol_Non_Port_Basic_non_CDMA', vol_non_port_basic_non_cdma_forecast_subset['Vol_Non_Port_Basic_non_CDMA'])\n",
        "discos_device_grp_phone_pred_table.insert(7, 'Vol_Non_Port_SP_Android_Other', vol_non_port_sp_android_other_forecast_subset['Vol_Non_Port_SP_Android_Other'])\n",
        "discos_device_grp_phone_pred_table.insert(8, 'Vol_Non_Port_SP_Apple', vol_non_port_sp_apple_forecast_subset['Vol_Non_Port_SP_Apple'])\n",
        "\n",
        "# Involuntary\n",
        "discos_device_grp_phone_pred_table.insert(9, 'Invol_Basic_CDMA', invol_basic_cdma_forecast_subset['Invol_Basic_CDMA'])\n",
        "discos_device_grp_phone_pred_table.insert(10, 'Invol_Basic_non_CDMA', invol_basic_non_cdma_forecast_subset['Invol_Basic_non_CDMA'])\n",
        "discos_device_grp_phone_pred_table.insert(11, 'Invol_SP_Android_Other', invol_sp_android_other_forecast_subset['Invol_SP_Android_Other'])\n",
        "discos_device_grp_phone_pred_table.insert(12, 'Invol_SP_Apple', invol_sp_apple_forecast_subset['Invol_SP_Apple'])"
      ],
      "execution_count": 0,
      "outputs": []
    },
    {
      "cell_type": "code",
      "metadata": {
        "id": "HlwvwXItBNPa",
        "colab_type": "code",
        "outputId": "0f0f382a-0401-4dac-9227-862539a092ac",
        "colab": {
          "base_uri": "https://localhost:8080/",
          "height": 309
        }
      },
      "source": [
        "# Check the format of the final predictions table (testing only)\n",
        "discos_device_grp_phone_pred_table.tail()"
      ],
      "execution_count": 39,
      "outputs": [
        {
          "output_type": "execute_result",
          "data": {
            "text/html": [
              "<div>\n",
              "<style scoped>\n",
              "    .dataframe tbody tr th:only-of-type {\n",
              "        vertical-align: middle;\n",
              "    }\n",
              "\n",
              "    .dataframe tbody tr th {\n",
              "        vertical-align: top;\n",
              "    }\n",
              "\n",
              "    .dataframe thead th {\n",
              "        text-align: right;\n",
              "    }\n",
              "</style>\n",
              "<table border=\"1\" class=\"dataframe\">\n",
              "  <thead>\n",
              "    <tr style=\"text-align: right;\">\n",
              "      <th></th>\n",
              "      <th>ds</th>\n",
              "      <th>Vol_Port_Basic_CDMA</th>\n",
              "      <th>Vol_Port_Basic_non_CDMA</th>\n",
              "      <th>Vol_Port_SP_Android_Other</th>\n",
              "      <th>Vol_Port_SP_Apple</th>\n",
              "      <th>Vol_Non_Port_Basic_CDMA</th>\n",
              "      <th>Vol_Non_Port_Basic_non_CDMA</th>\n",
              "      <th>Vol_Non_Port_SP_Android_Other</th>\n",
              "      <th>Vol_Non_Port_SP_Apple</th>\n",
              "      <th>Invol_Basic_CDMA</th>\n",
              "      <th>Invol_Basic_non_CDMA</th>\n",
              "      <th>Invol_SP_Android_Other</th>\n",
              "      <th>Invol_SP_Apple</th>\n",
              "    </tr>\n",
              "  </thead>\n",
              "  <tbody>\n",
              "    <tr>\n",
              "      <th>1487</th>\n",
              "      <td>2020-12-27</td>\n",
              "      <td>47.850747</td>\n",
              "      <td>22.114245</td>\n",
              "      <td>314.672966</td>\n",
              "      <td>741.539004</td>\n",
              "      <td>169.677473</td>\n",
              "      <td>181.144159</td>\n",
              "      <td>130.038046</td>\n",
              "      <td>697.759634</td>\n",
              "      <td>5.808099</td>\n",
              "      <td>64.376668</td>\n",
              "      <td>906.974917</td>\n",
              "      <td>707.753562</td>\n",
              "    </tr>\n",
              "    <tr>\n",
              "      <th>1488</th>\n",
              "      <td>2020-12-28</td>\n",
              "      <td>84.772189</td>\n",
              "      <td>28.571652</td>\n",
              "      <td>458.891740</td>\n",
              "      <td>901.385531</td>\n",
              "      <td>502.539938</td>\n",
              "      <td>261.644824</td>\n",
              "      <td>877.999231</td>\n",
              "      <td>1507.587158</td>\n",
              "      <td>3.583417</td>\n",
              "      <td>55.590434</td>\n",
              "      <td>865.297687</td>\n",
              "      <td>662.056382</td>\n",
              "    </tr>\n",
              "    <tr>\n",
              "      <th>1489</th>\n",
              "      <td>2020-12-29</td>\n",
              "      <td>82.277771</td>\n",
              "      <td>28.230498</td>\n",
              "      <td>430.785473</td>\n",
              "      <td>852.198747</td>\n",
              "      <td>432.038577</td>\n",
              "      <td>260.273670</td>\n",
              "      <td>801.792882</td>\n",
              "      <td>1416.449928</td>\n",
              "      <td>2.356995</td>\n",
              "      <td>55.710192</td>\n",
              "      <td>1063.287866</td>\n",
              "      <td>896.304643</td>\n",
              "    </tr>\n",
              "    <tr>\n",
              "      <th>1490</th>\n",
              "      <td>2020-12-30</td>\n",
              "      <td>84.655599</td>\n",
              "      <td>28.519153</td>\n",
              "      <td>456.433586</td>\n",
              "      <td>881.539627</td>\n",
              "      <td>387.829651</td>\n",
              "      <td>254.197102</td>\n",
              "      <td>765.074942</td>\n",
              "      <td>1355.578962</td>\n",
              "      <td>44.542803</td>\n",
              "      <td>60.359177</td>\n",
              "      <td>1278.544538</td>\n",
              "      <td>1072.815977</td>\n",
              "    </tr>\n",
              "    <tr>\n",
              "      <th>1491</th>\n",
              "      <td>2020-12-31</td>\n",
              "      <td>84.785058</td>\n",
              "      <td>28.306462</td>\n",
              "      <td>459.281872</td>\n",
              "      <td>863.599657</td>\n",
              "      <td>376.364379</td>\n",
              "      <td>256.891596</td>\n",
              "      <td>757.986520</td>\n",
              "      <td>1344.180983</td>\n",
              "      <td>58.956108</td>\n",
              "      <td>71.563497</td>\n",
              "      <td>1271.060195</td>\n",
              "      <td>1102.969511</td>\n",
              "    </tr>\n",
              "  </tbody>\n",
              "</table>\n",
              "</div>"
            ],
            "text/plain": [
              "             ds  Vol_Port_Basic_CDMA  ...  Invol_SP_Android_Other  Invol_SP_Apple\n",
              "1487 2020-12-27            47.850747  ...              906.974917      707.753562\n",
              "1488 2020-12-28            84.772189  ...              865.297687      662.056382\n",
              "1489 2020-12-29            82.277771  ...             1063.287866      896.304643\n",
              "1490 2020-12-30            84.655599  ...             1278.544538     1072.815977\n",
              "1491 2020-12-31            84.785058  ...             1271.060195     1102.969511\n",
              "\n",
              "[5 rows x 13 columns]"
            ]
          },
          "metadata": {
            "tags": []
          },
          "execution_count": 39
        }
      ]
    },
    {
      "cell_type": "code",
      "metadata": {
        "id": "_znvxmQ6b4ix",
        "colab_type": "code",
        "colab": {}
      },
      "source": [
        "# Save the predictions table to a csv file\n",
        "discos_device_grp_phone_pred_table.to_csv('drive/My Drive/Churn/discos_device_grp_phone_same_day_pred_table.csv')"
      ],
      "execution_count": 0,
      "outputs": []
    }
  ]
}