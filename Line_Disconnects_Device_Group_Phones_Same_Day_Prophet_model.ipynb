{
  "nbformat": 4,
  "nbformat_minor": 0,
  "metadata": {
    "colab": {
      "name": "Copy of Upgrades Samsung Phone Prophet model.ipynb",
      "provenance": [],
      "include_colab_link": true
    },
    "kernelspec": {
      "name": "python3",
      "display_name": "Python 3"
    }
  },
  "cells": [
    {
      "cell_type": "markdown",
      "metadata": {
        "id": "view-in-github",
        "colab_type": "text"
      },
      "source": [
        "<a href=\"https://colab.research.google.com/github/JSunkel/Forecasting-Models/blob/master/Line_Disconnects_Device_Group_Phones_Same_Day_Prophet_model.ipynb\" target=\"_parent\"><img src=\"https://colab.research.google.com/assets/colab-badge.svg\" alt=\"Open In Colab\"/></a>"
      ]
    },
    {
      "cell_type": "code",
      "metadata": {
        "id": "127ZL5DNa_DK",
        "colab_type": "code",
        "colab": {}
      },
      "source": [
        "import pandas as pd\n",
        "import numpy as np\n",
        "from fbprophet import Prophet"
      ],
      "execution_count": 63,
      "outputs": []
    },
    {
      "cell_type": "code",
      "metadata": {
        "id": "7L_hdOufbEyU",
        "colab_type": "code",
        "colab": {}
      },
      "source": [
        "# Read a comma-separated values (csv) file into a Pandas DataFrame.\n",
        "fact_table = pd.read_csv('drive/My Drive/Churn/discos_device_grp_fact_table_phone_vol_invol_same_day_jun.csv')"
      ],
      "execution_count": 64,
      "outputs": []
    },
    {
      "cell_type": "code",
      "metadata": {
        "id": "b2k68K1N-REn",
        "colab_type": "code",
        "colab": {
          "base_uri": "https://localhost:8080/",
          "height": 224
        },
        "outputId": "3ee4b832-99c9-4bf5-a38c-ed8dbcf7ea3e"
      },
      "source": [
        "# Check the full dataset format (testing only)\n",
        "fact_table.head()"
      ],
      "execution_count": 65,
      "outputs": [
        {
          "output_type": "execute_result",
          "data": {
            "text/html": [
              "<div>\n",
              "<style scoped>\n",
              "    .dataframe tbody tr th:only-of-type {\n",
              "        vertical-align: middle;\n",
              "    }\n",
              "\n",
              "    .dataframe tbody tr th {\n",
              "        vertical-align: top;\n",
              "    }\n",
              "\n",
              "    .dataframe thead th {\n",
              "        text-align: right;\n",
              "    }\n",
              "</style>\n",
              "<table border=\"1\" class=\"dataframe\">\n",
              "  <thead>\n",
              "    <tr style=\"text-align: right;\">\n",
              "      <th></th>\n",
              "      <th>ds</th>\n",
              "      <th>vol_port_basic_cdma</th>\n",
              "      <th>vol_port_basic_non_cdma</th>\n",
              "      <th>vol_port_sp_android_other</th>\n",
              "      <th>vol_port_sp_apple</th>\n",
              "      <th>vol_non_port_basic_cdma</th>\n",
              "      <th>vol_non_port_basic_non_cdma</th>\n",
              "      <th>vol_non_port_sp_android_other</th>\n",
              "      <th>vol_non_port_sp_apple</th>\n",
              "      <th>invol_basic_cdma</th>\n",
              "      <th>invol_basic_non_cdma</th>\n",
              "      <th>invol_sp_android_other</th>\n",
              "      <th>invol_sp_apple</th>\n",
              "    </tr>\n",
              "  </thead>\n",
              "  <tbody>\n",
              "    <tr>\n",
              "      <th>0</th>\n",
              "      <td>12/1/2016</td>\n",
              "      <td>218</td>\n",
              "      <td>NaN</td>\n",
              "      <td>961</td>\n",
              "      <td>1034</td>\n",
              "      <td>1415</td>\n",
              "      <td>NaN</td>\n",
              "      <td>1502</td>\n",
              "      <td>1152</td>\n",
              "      <td>411</td>\n",
              "      <td>NaN</td>\n",
              "      <td>2126</td>\n",
              "      <td>1731</td>\n",
              "    </tr>\n",
              "    <tr>\n",
              "      <th>1</th>\n",
              "      <td>12/2/2016</td>\n",
              "      <td>197</td>\n",
              "      <td>NaN</td>\n",
              "      <td>1192</td>\n",
              "      <td>1117</td>\n",
              "      <td>1367</td>\n",
              "      <td>NaN</td>\n",
              "      <td>1989</td>\n",
              "      <td>1076</td>\n",
              "      <td>269</td>\n",
              "      <td>NaN</td>\n",
              "      <td>1491</td>\n",
              "      <td>1312</td>\n",
              "    </tr>\n",
              "    <tr>\n",
              "      <th>2</th>\n",
              "      <td>12/3/2016</td>\n",
              "      <td>268</td>\n",
              "      <td>NaN</td>\n",
              "      <td>1357</td>\n",
              "      <td>1566</td>\n",
              "      <td>921</td>\n",
              "      <td>NaN</td>\n",
              "      <td>846</td>\n",
              "      <td>784</td>\n",
              "      <td>263</td>\n",
              "      <td>NaN</td>\n",
              "      <td>1728</td>\n",
              "      <td>1370</td>\n",
              "    </tr>\n",
              "    <tr>\n",
              "      <th>3</th>\n",
              "      <td>12/4/2016</td>\n",
              "      <td>239</td>\n",
              "      <td>NaN</td>\n",
              "      <td>925</td>\n",
              "      <td>1356</td>\n",
              "      <td>534</td>\n",
              "      <td>NaN</td>\n",
              "      <td>593</td>\n",
              "      <td>525</td>\n",
              "      <td>239</td>\n",
              "      <td>NaN</td>\n",
              "      <td>1226</td>\n",
              "      <td>1007</td>\n",
              "    </tr>\n",
              "    <tr>\n",
              "      <th>4</th>\n",
              "      <td>12/5/2016</td>\n",
              "      <td>198</td>\n",
              "      <td>NaN</td>\n",
              "      <td>1088</td>\n",
              "      <td>1154</td>\n",
              "      <td>1533</td>\n",
              "      <td>NaN</td>\n",
              "      <td>1412</td>\n",
              "      <td>1129</td>\n",
              "      <td>307</td>\n",
              "      <td>NaN</td>\n",
              "      <td>1960</td>\n",
              "      <td>1456</td>\n",
              "    </tr>\n",
              "  </tbody>\n",
              "</table>\n",
              "</div>"
            ],
            "text/plain": [
              "          ds  vol_port_basic_cdma  ...  invol_sp_android_other  invol_sp_apple\n",
              "0  12/1/2016                  218  ...                    2126            1731\n",
              "1  12/2/2016                  197  ...                    1491            1312\n",
              "2  12/3/2016                  268  ...                    1728            1370\n",
              "3  12/4/2016                  239  ...                    1226            1007\n",
              "4  12/5/2016                  198  ...                    1960            1456\n",
              "\n",
              "[5 rows x 13 columns]"
            ]
          },
          "metadata": {
            "tags": []
          },
          "execution_count": 65
        }
      ]
    },
    {
      "cell_type": "code",
      "metadata": {
        "id": "gB5Ps8AauIU2",
        "colab_type": "code",
        "colab": {}
      },
      "source": [
        "# Split out indivudal datasets for forecasting.\n",
        "# Voluntary Port Outs\n",
        "vol_port_basic_cdma = fact_table[['ds', 'vol_port_basic_cdma']].rename(columns = {'vol_port_basic_cdma': 'y'})\n",
        "vol_port_basic_non_cdma = fact_table[['ds', 'vol_port_basic_non_cdma']].rename(columns = {'vol_port_basic_non_cdma': 'y'})\n",
        "vol_port_sp_android_other = fact_table[['ds', 'vol_port_sp_android_other']].rename(columns = {'vol_port_sp_android_other': 'y'})\n",
        "vol_port_sp_apple = fact_table[['ds', 'vol_port_sp_apple']].rename(columns = {'vol_port_sp_apple': 'y'})\n",
        "\n",
        "# Voluntary non Port Outs\n",
        "vol_non_port_basic_cdma = fact_table[['ds', 'vol_non_port_basic_cdma']].rename(columns = {'vol_non_port_basic_cdma': 'y'})\n",
        "vol_non_port_basic_non_cdma = fact_table[['ds', 'vol_non_port_basic_non_cdma']].rename(columns = {'vol_non_port_basic_non_cdma': 'y'})\n",
        "vol_non_port_sp_android_other = fact_table[['ds', 'vol_non_port_sp_android_other']].rename(columns = {'vol_non_port_sp_android_other': 'y'})\n",
        "vol_non_port_sp_apple = fact_table[['ds', 'vol_non_port_sp_apple']].rename(columns = {'vol_non_port_sp_apple': 'y'})\n",
        "\n",
        "# Involuntary\n",
        "invol_basic_cdma = fact_table[['ds', 'invol_basic_cdma']].rename(columns = {'invol_basic_cdma': 'y'})\n",
        "invol_basic_non_cdma = fact_table[['ds', 'invol_basic_non_cdma']].rename(columns = {'invol_basic_non_cdma': 'y'})\n",
        "invol_sp_android_other = fact_table[['ds', 'invol_sp_android_other']].rename(columns = {'invol_sp_android_other': 'y'})\n",
        "invol_sp_apple = fact_table[['ds', 'invol_sp_apple']].rename(columns = {'invol_sp_apple': 'y'})"
      ],
      "execution_count": 66,
      "outputs": []
    },
    {
      "cell_type": "code",
      "metadata": {
        "id": "w-J4F09yvCsP",
        "colab_type": "code",
        "colab": {
          "base_uri": "https://localhost:8080/",
          "height": 204
        },
        "outputId": "2b60b5e6-8d63-4d5f-eee7-af3eb0d5417b"
      },
      "source": [
        "# Check the individual dataset format (testing only)\n",
        "vol_port_basic_cdma.head()"
      ],
      "execution_count": 67,
      "outputs": [
        {
          "output_type": "execute_result",
          "data": {
            "text/html": [
              "<div>\n",
              "<style scoped>\n",
              "    .dataframe tbody tr th:only-of-type {\n",
              "        vertical-align: middle;\n",
              "    }\n",
              "\n",
              "    .dataframe tbody tr th {\n",
              "        vertical-align: top;\n",
              "    }\n",
              "\n",
              "    .dataframe thead th {\n",
              "        text-align: right;\n",
              "    }\n",
              "</style>\n",
              "<table border=\"1\" class=\"dataframe\">\n",
              "  <thead>\n",
              "    <tr style=\"text-align: right;\">\n",
              "      <th></th>\n",
              "      <th>ds</th>\n",
              "      <th>y</th>\n",
              "    </tr>\n",
              "  </thead>\n",
              "  <tbody>\n",
              "    <tr>\n",
              "      <th>0</th>\n",
              "      <td>12/1/2016</td>\n",
              "      <td>218</td>\n",
              "    </tr>\n",
              "    <tr>\n",
              "      <th>1</th>\n",
              "      <td>12/2/2016</td>\n",
              "      <td>197</td>\n",
              "    </tr>\n",
              "    <tr>\n",
              "      <th>2</th>\n",
              "      <td>12/3/2016</td>\n",
              "      <td>268</td>\n",
              "    </tr>\n",
              "    <tr>\n",
              "      <th>3</th>\n",
              "      <td>12/4/2016</td>\n",
              "      <td>239</td>\n",
              "    </tr>\n",
              "    <tr>\n",
              "      <th>4</th>\n",
              "      <td>12/5/2016</td>\n",
              "      <td>198</td>\n",
              "    </tr>\n",
              "  </tbody>\n",
              "</table>\n",
              "</div>"
            ],
            "text/plain": [
              "          ds    y\n",
              "0  12/1/2016  218\n",
              "1  12/2/2016  197\n",
              "2  12/3/2016  268\n",
              "3  12/4/2016  239\n",
              "4  12/5/2016  198"
            ]
          },
          "metadata": {
            "tags": []
          },
          "execution_count": 67
        }
      ]
    },
    {
      "cell_type": "code",
      "metadata": {
        "id": "qd0uiS7nbKIQ",
        "colab_type": "code",
        "colab": {}
      },
      "source": [
        "# Define the holidays\n",
        "new_years_day = pd.DataFrame({\n",
        "    'holiday': 'new_years_day',\n",
        "    'ds': pd.to_datetime(['2017-01-01',\n",
        "                          '2018-01-01',\n",
        "                          '2019-01-01',\n",
        "                          '2020-01-01']),\n",
        "    'lower_window': 0,\n",
        "    'upper_window': 0,\n",
        "})\n",
        "\n",
        "mlk_day = pd.DataFrame({\n",
        "    'holiday': 'mlk_day',\n",
        "    'ds': pd.to_datetime(['2017-01-16',\n",
        "                          '2018-01-15',\n",
        "                          '2019-01-21',\n",
        "                          '2020-01-20']),\n",
        "    'lower_window': 0,\n",
        "    'upper_window': 0,\n",
        "})\n",
        "\n",
        "easter_sunday = pd.DataFrame({\n",
        "    'holiday': 'easter_sunday',\n",
        "    'ds': pd.to_datetime(['2017-04-16',\n",
        "                          '2018-04-01',\n",
        "                          '2019-04-21',\n",
        "                          '2020-04-12']),\n",
        "    'lower_window': 0,\n",
        "    'upper_window': 0,\n",
        "})\n",
        "\n",
        "memorial_day = pd.DataFrame({\n",
        "    'holiday': 'memorial_day',\n",
        "    'ds': pd.to_datetime(['2017-05-29',\n",
        "                          '2018-05-28',\n",
        "                          '2019-05-27',\n",
        "                          '2020-05-25']),\n",
        "    'lower_window': 0,\n",
        "    'upper_window': 0,\n",
        "})\n",
        "\n",
        "independence_day = pd.DataFrame({\n",
        "    'holiday': 'independence_day',\n",
        "    'ds': pd.to_datetime(['2017-07-04',\n",
        "                          '2018-07-04',\n",
        "                          '2019-07-04',\n",
        "                          '2020-07-04']),\n",
        "    'lower_window': 0,\n",
        "    'upper_window': 0,\n",
        "})\n",
        "\n",
        "labor_day = pd.DataFrame({\n",
        "    'holiday': 'labor_day',\n",
        "    'ds': pd.to_datetime(['2017-09-04',\n",
        "                          '2018-09-03',\n",
        "                          '2019-09-02',\n",
        "                          '2020-09-07']),\n",
        "    'lower_window': 0,\n",
        "    'upper_window': 0,\n",
        "})\n",
        "\n",
        "thanksgiving_day = pd.DataFrame({\n",
        "    'holiday': 'thanksgiving_day',\n",
        "    'ds': pd.to_datetime(['2017-11-23',\n",
        "                          '2018-11-22',\n",
        "                          '2019-11-28',\n",
        "                          '2020-11-26']),\n",
        "    'lower_window': 0,\n",
        "    'upper_window': 0,\n",
        "})\n",
        "\n",
        "black_friday = pd.DataFrame({\n",
        "    'holiday': 'black_friday',\n",
        "    'ds': pd.to_datetime(['2017-11-24',\n",
        "                          '2018-11-23',\n",
        "                          '2019-11-29',\n",
        "                          '2020-11-27']),\n",
        "    'lower_window': 0,\n",
        "    'upper_window': 0,\n",
        "})\n",
        "\n",
        "cyber_monday = pd.DataFrame({\n",
        "    'holiday': 'cyber_monday',\n",
        "    'ds': pd.to_datetime(['2017-11-27',\n",
        "                          '2018-11-26',\n",
        "                          '2019-12-02',\n",
        "                          '2020-11-30']),\n",
        "    'lower_window': 0,\n",
        "    'upper_window': 0,\n",
        "})\n",
        "\n",
        "christmas_day = pd.DataFrame({\n",
        "    'holiday': 'christmas_day',\n",
        "    'ds': pd.to_datetime(['2017-12-25',\n",
        "                          '2018-12-25',\n",
        "                          '2019-12-25',\n",
        "                          '2020-12-25']),\n",
        "    'lower_window': 0,\n",
        "    'upper_window': 0,\n",
        "})"
      ],
      "execution_count": 68,
      "outputs": []
    },
    {
      "cell_type": "code",
      "metadata": {
        "id": "u_wSeXwgsSRo",
        "colab_type": "code",
        "colab": {}
      },
      "source": [
        "holidays = pd.concat((new_years_day,\n",
        "                      mlk_day,\n",
        "                      easter_sunday,\n",
        "                      memorial_day,\n",
        "                      independence_day,\n",
        "                      labor_day,\n",
        "                      thanksgiving_day,\n",
        "                      black_friday,\n",
        "                      cyber_monday,\n",
        "                      christmas_day))"
      ],
      "execution_count": 69,
      "outputs": []
    },
    {
      "cell_type": "code",
      "metadata": {
        "id": "LehjGgIJbf8D",
        "colab_type": "code",
        "colab": {}
      },
      "source": [
        "# Define the models\n",
        "# Voluntary Port Outs\n",
        "vol_port_basic_cdma_model = Prophet(holidays = holidays)\n",
        "vol_port_basic_non_cdma_model = Prophet(holidays = holidays)\n",
        "vol_port_sp_android_other_model = Prophet(holidays = holidays)\n",
        "vol_port_sp_apple_model = Prophet(holidays = holidays)\n",
        "\n",
        "# Voluntary non Port Outs\n",
        "vol_non_port_basic_cdma_model = Prophet(holidays = holidays)\n",
        "vol_non_port_basic_non_cdma_model = Prophet(holidays = holidays)\n",
        "vol_non_port_sp_android_other_model = Prophet(holidays = holidays)\n",
        "vol_non_port_sp_apple_model = Prophet(holidays = holidays)\n",
        "\n",
        "# Involuntary \n",
        "invol_basic_cdma_model = Prophet(holidays = holidays)\n",
        "invol_basic_non_cdma_model = Prophet(holidays = holidays)\n",
        "invol_sp_android_other_model = Prophet(holidays = holidays)\n",
        "invol_sp_apple_model = Prophet(holidays = holidays)"
      ],
      "execution_count": 70,
      "outputs": []
    },
    {
      "cell_type": "code",
      "metadata": {
        "id": "Ppqqyuwceczl",
        "colab_type": "code",
        "colab": {
          "base_uri": "https://localhost:8080/",
          "height": 34
        },
        "outputId": "90249563-2351-4fd3-fb76-35447f2eb263"
      },
      "source": [
        "# Add seasonality\n",
        "# Voluntary Port Outs\n",
        "vol_port_basic_cdma_model.add_seasonality(name = 'monthly', period = 30.5, fourier_order = 5)\n",
        "vol_port_basic_non_cdma_model.add_seasonality(name = 'monthly', period = 30.5, fourier_order = 5)\n",
        "vol_port_sp_android_other_model.add_seasonality(name = 'monthly', period = 30.5, fourier_order = 5)\n",
        "vol_port_sp_apple_model.add_seasonality(name = 'monthly', period = 30.5, fourier_order = 5)\n",
        "\n",
        "# Voluntary non Port Outs\n",
        "vol_non_port_basic_cdma_model.add_seasonality(name = 'monthly', period = 30.5, fourier_order = 5)\n",
        "vol_non_port_basic_non_cdma_model.add_seasonality(name = 'monthly', period = 30.5, fourier_order = 5)\n",
        "vol_non_port_sp_android_other_model.add_seasonality(name = 'monthly', period = 30.5, fourier_order = 5)\n",
        "vol_non_port_sp_apple_model.add_seasonality(name = 'monthly', period = 30.5, fourier_order = 5)\n",
        "\n",
        "# Involuntary \n",
        "invol_basic_cdma_model.add_seasonality(name = 'monthly', period = 30.5, fourier_order = 5)\n",
        "invol_basic_non_cdma_model.add_seasonality(name = 'monthly', period = 30.5, fourier_order = 5)\n",
        "invol_sp_android_other_model.add_seasonality(name = 'monthly', period = 30.5, fourier_order = 5)\n",
        "invol_sp_apple_model.add_seasonality(name = 'monthly', period = 30.5, fourier_order = 5)"
      ],
      "execution_count": 72,
      "outputs": [
        {
          "output_type": "execute_result",
          "data": {
            "text/plain": [
              "<fbprophet.forecaster.Prophet at 0x7fdc5adf7748>"
            ]
          },
          "metadata": {
            "tags": []
          },
          "execution_count": 72
        }
      ]
    },
    {
      "cell_type": "code",
      "metadata": {
        "id": "VB9qPMgqetKz",
        "colab_type": "code",
        "colab": {
          "base_uri": "https://localhost:8080/",
          "height": 238
        },
        "outputId": "4bb454c9-dea0-45f5-f137-952850c677a6"
      },
      "source": [
        "# Fit the models\n",
        "# Voluntary Port Outs\n",
        "vol_port_basic_cdma_model.fit(vol_port_basic_cdma)\n",
        "vol_port_basic_non_cdma_model.fit(vol_port_basic_non_cdma)\n",
        "vol_port_sp_android_other_model.fit(vol_port_sp_android_other)\n",
        "vol_port_sp_apple_model.fit(vol_port_sp_apple)\n",
        "\n",
        "# Voluntary non Port Outs\n",
        "vol_non_port_basic_cdma_model.fit(vol_non_port_basic_cdma)\n",
        "vol_non_port_basic_non_cdma_model.fit(vol_non_port_basic_non_cdma)\n",
        "vol_non_port_sp_android_other_model.fit(vol_non_port_sp_android_other)\n",
        "vol_non_port_sp_apple_model.fit(vol_non_port_sp_apple)\n",
        "\n",
        "# Involuntary \n",
        "invol_basic_cdma_model.fit(invol_basic_cdma)\n",
        "invol_basic_non_cdma_model.fit(invol_basic_non_cdma)\n",
        "invol_sp_android_other_model.fit(invol_sp_android_other)\n",
        "invol_sp_apple_model.fit(invol_sp_apple)"
      ],
      "execution_count": 73,
      "outputs": [
        {
          "output_type": "stream",
          "text": [
            "INFO:fbprophet:Disabling daily seasonality. Run prophet with daily_seasonality=True to override this.\n",
            "INFO:fbprophet:Disabling daily seasonality. Run prophet with daily_seasonality=True to override this.\n",
            "INFO:fbprophet:Disabling daily seasonality. Run prophet with daily_seasonality=True to override this.\n",
            "INFO:fbprophet:Disabling daily seasonality. Run prophet with daily_seasonality=True to override this.\n",
            "INFO:fbprophet:Disabling daily seasonality. Run prophet with daily_seasonality=True to override this.\n",
            "INFO:fbprophet:Disabling daily seasonality. Run prophet with daily_seasonality=True to override this.\n",
            "INFO:fbprophet:Disabling daily seasonality. Run prophet with daily_seasonality=True to override this.\n",
            "INFO:fbprophet:Disabling daily seasonality. Run prophet with daily_seasonality=True to override this.\n",
            "INFO:fbprophet:Disabling daily seasonality. Run prophet with daily_seasonality=True to override this.\n",
            "INFO:fbprophet:Disabling daily seasonality. Run prophet with daily_seasonality=True to override this.\n",
            "INFO:fbprophet:Disabling daily seasonality. Run prophet with daily_seasonality=True to override this.\n",
            "INFO:fbprophet:Disabling daily seasonality. Run prophet with daily_seasonality=True to override this.\n"
          ],
          "name": "stderr"
        },
        {
          "output_type": "execute_result",
          "data": {
            "text/plain": [
              "<fbprophet.forecaster.Prophet at 0x7fdc5adf7748>"
            ]
          },
          "metadata": {
            "tags": []
          },
          "execution_count": 73
        }
      ]
    },
    {
      "cell_type": "code",
      "metadata": {
        "id": "Dr1zK_B1s806",
        "colab_type": "code",
        "colab": {}
      },
      "source": [
        "# Number of periods into the future to forecast\n",
        "n = 184"
      ],
      "execution_count": 74,
      "outputs": []
    },
    {
      "cell_type": "code",
      "metadata": {
        "id": "dWot8dxibsxd",
        "colab_type": "code",
        "colab": {}
      },
      "source": [
        "# Create dataframes to hold predictions\n",
        "# Voluntary Port Outs\n",
        "vol_port_basic_cdma_future = vol_port_basic_cdma_model.make_future_dataframe(periods = n)\n",
        "vol_port_basic_non_cdma_future = vol_port_basic_non_cdma_model.make_future_dataframe(periods = n)\n",
        "vol_port_sp_android_other_future = vol_port_sp_android_other_model.make_future_dataframe(periods = n)\n",
        "vol_port_sp_apple_future = vol_port_sp_apple_model.make_future_dataframe(periods = n)\n",
        "\n",
        "# Voluntary non Port Outs\n",
        "vol_non_port_basic_cdma_future = vol_non_port_basic_cdma_model.make_future_dataframe(periods = n)\n",
        "vol_non_port_basic_non_cdma_future = vol_non_port_basic_non_cdma_model.make_future_dataframe(periods = n)\n",
        "vol_non_port_sp_android_other_future = vol_non_port_sp_android_other_model.make_future_dataframe(periods = n)\n",
        "vol_non_port_sp_apple_future = vol_non_port_sp_apple_model.make_future_dataframe(periods = n)\n",
        "\n",
        "# Involuntary\n",
        "invol_basic_cdma_future = invol_basic_cdma_model.make_future_dataframe(periods = n)\n",
        "invol_basic_non_cdma_future = invol_basic_non_cdma_model.make_future_dataframe(periods = n)\n",
        "invol_sp_android_other_future = invol_sp_android_other_model.make_future_dataframe(periods = n)\n",
        "invol_sp_apple_future = invol_sp_apple_model.make_future_dataframe(periods = n)"
      ],
      "execution_count": 75,
      "outputs": []
    },
    {
      "cell_type": "code",
      "metadata": {
        "id": "Q_Donl0Tbygx",
        "colab_type": "code",
        "colab": {}
      },
      "source": [
        "# Make predictions\n",
        "# Voluntary Port Outs\n",
        "vol_port_basic_cdma_forecast = vol_port_basic_cdma_model.predict(vol_port_basic_cdma_future)\n",
        "vol_port_basic_non_cdma_forecast = vol_port_basic_non_cdma_model.predict(vol_port_basic_non_cdma_future)\n",
        "vol_port_sp_android_other_forecast = vol_port_sp_android_other_model.predict(vol_port_sp_android_other_future)\n",
        "vol_port_sp_apple_forecast = vol_port_sp_apple_model.predict(vol_port_sp_apple_future)\n",
        "\n",
        "# Voluntary non Port Outs\n",
        "vol_non_port_basic_cdma_forecast = vol_non_port_basic_cdma_model.predict(vol_non_port_basic_cdma_future)\n",
        "vol_non_port_basic_non_cdma_forecast = vol_non_port_basic_non_cdma_model.predict(vol_non_port_basic_non_cdma_future)\n",
        "vol_non_port_sp_android_other_forecast = vol_non_port_sp_android_other_model.predict(vol_non_port_sp_android_other_future)\n",
        "vol_non_port_sp_apple_forecast = vol_non_port_sp_apple_model.predict(vol_non_port_sp_apple_future)\n",
        "\n",
        "# Involuntary\n",
        "invol_basic_cdma_forecast = invol_basic_cdma_model.predict(invol_basic_cdma_future)\n",
        "invol_basic_non_cdma_forecast = invol_basic_non_cdma_model.predict(invol_basic_non_cdma_future)\n",
        "invol_sp_android_other_forecast = invol_sp_android_other_model.predict(invol_sp_android_other_future)\n",
        "invol_sp_apple_forecast = invol_sp_apple_model.predict(invol_sp_apple_future)"
      ],
      "execution_count": 76,
      "outputs": []
    },
    {
      "cell_type": "code",
      "metadata": {
        "id": "gvPtOAf2sDOD",
        "colab_type": "code",
        "colab": {}
      },
      "source": [
        "# Get the datestamp and prediction columns\n",
        "# Voluntary Port Outs\n",
        "vol_port_basic_cdma_forecast_subset = vol_port_basic_cdma_forecast[['ds', 'yhat']].rename(columns = {'yhat': 'Vol_Port_Basic_CDMA'})\n",
        "vol_port_basic_non_cdma_forecast_subset = vol_port_basic_non_cdma_forecast[['ds', 'yhat']].rename(columns = {'yhat': 'Vol_Port_Basic_non_CDMA'})\n",
        "vol_port_sp_android_other_forecast_subset = vol_port_sp_android_other_forecast[['ds', 'yhat']].rename(columns = {'yhat': 'Vol_Port_SP_Android_Other'})\n",
        "vol_port_sp_apple_forecast_subset = vol_port_sp_apple_forecast[['ds', 'yhat']].rename(columns = {'yhat': 'Vol_Port_SP_Apple'})\n",
        "\n",
        "# Voluntary non Port Outs\n",
        "vol_non_port_basic_cdma_forecast_subset = vol_non_port_basic_cdma_forecast[['ds', 'yhat']].rename(columns = {'yhat': 'Vol_Non_Port_Basic_CDMA'})\n",
        "vol_non_port_basic_non_cdma_forecast_subset = vol_non_port_basic_non_cdma_forecast[['ds', 'yhat']].rename(columns = {'yhat': 'Vol_Non_Port_Basic_non_CDMA'})\n",
        "vol_non_port_sp_android_other_forecast_subset = vol_non_port_sp_android_other_forecast[['ds', 'yhat']].rename(columns = {'yhat': 'Vol_Non_Port_SP_Android_Other'})\n",
        "vol_non_port_sp_apple_forecast_subset = vol_non_port_sp_apple_forecast[['ds', 'yhat']].rename(columns = {'yhat': 'Vol_Non_Port_SP_Apple'})\n",
        "\n",
        "# Involuntary\n",
        "invol_basic_cdma_forecast_subset = invol_basic_cdma_forecast[['ds', 'yhat']].rename(columns = {'yhat': 'Invol_Basic_CDMA'})\n",
        "invol_basic_non_cdma_forecast_subset = invol_basic_non_cdma_forecast[['ds', 'yhat']].rename(columns = {'yhat': 'Invol_Basic_non_CDMA'})\n",
        "invol_sp_android_other_forecast_subset = invol_sp_android_other_forecast[['ds', 'yhat']].rename(columns = {'yhat': 'Invol_SP_Android_Other'})\n",
        "invol_sp_apple_forecast_subset = invol_sp_apple_forecast[['ds', 'yhat']].rename(columns = {'yhat': 'Invol_SP_Apple'})"
      ],
      "execution_count": 77,
      "outputs": []
    },
    {
      "cell_type": "code",
      "metadata": {
        "id": "Er7OBgy4sI_I",
        "colab_type": "code",
        "colab": {
          "base_uri": "https://localhost:8080/",
          "height": 204
        },
        "outputId": "d49abfe1-0b0d-4c3b-80ba-05bb254408e1"
      },
      "source": [
        "# Check the format of the subsetted forecasts (testing only)\n",
        "vol_port_basic_cdma_forecast_subset.tail()"
      ],
      "execution_count": 78,
      "outputs": [
        {
          "output_type": "execute_result",
          "data": {
            "text/html": [
              "<div>\n",
              "<style scoped>\n",
              "    .dataframe tbody tr th:only-of-type {\n",
              "        vertical-align: middle;\n",
              "    }\n",
              "\n",
              "    .dataframe tbody tr th {\n",
              "        vertical-align: top;\n",
              "    }\n",
              "\n",
              "    .dataframe thead th {\n",
              "        text-align: right;\n",
              "    }\n",
              "</style>\n",
              "<table border=\"1\" class=\"dataframe\">\n",
              "  <thead>\n",
              "    <tr style=\"text-align: right;\">\n",
              "      <th></th>\n",
              "      <th>ds</th>\n",
              "      <th>Vol_Port_Basic_CDMA</th>\n",
              "    </tr>\n",
              "  </thead>\n",
              "  <tbody>\n",
              "    <tr>\n",
              "      <th>1487</th>\n",
              "      <td>2020-12-27</td>\n",
              "      <td>44.272012</td>\n",
              "    </tr>\n",
              "    <tr>\n",
              "      <th>1488</th>\n",
              "      <td>2020-12-28</td>\n",
              "      <td>79.550874</td>\n",
              "    </tr>\n",
              "    <tr>\n",
              "      <th>1489</th>\n",
              "      <td>2020-12-29</td>\n",
              "      <td>75.066539</td>\n",
              "    </tr>\n",
              "    <tr>\n",
              "      <th>1490</th>\n",
              "      <td>2020-12-30</td>\n",
              "      <td>70.412974</td>\n",
              "    </tr>\n",
              "    <tr>\n",
              "      <th>1491</th>\n",
              "      <td>2020-12-31</td>\n",
              "      <td>60.935597</td>\n",
              "    </tr>\n",
              "  </tbody>\n",
              "</table>\n",
              "</div>"
            ],
            "text/plain": [
              "             ds  Vol_Port_Basic_CDMA\n",
              "1487 2020-12-27            44.272012\n",
              "1488 2020-12-28            79.550874\n",
              "1489 2020-12-29            75.066539\n",
              "1490 2020-12-30            70.412974\n",
              "1491 2020-12-31            60.935597"
            ]
          },
          "metadata": {
            "tags": []
          },
          "execution_count": 78
        }
      ]
    },
    {
      "cell_type": "code",
      "metadata": {
        "id": "5XrR_uTnC4M6",
        "colab_type": "code",
        "colab": {}
      },
      "source": [
        "# Growth multiplier\n",
        "gm = 1.00"
      ],
      "execution_count": 79,
      "outputs": []
    },
    {
      "cell_type": "code",
      "metadata": {
        "id": "3QezWJW-DCC9",
        "colab_type": "code",
        "colab": {}
      },
      "source": [
        "# Replace any negative values and scale the forecast using the growth multiplier\n",
        "# Voluntary Port Outs \n",
        "vol_port_basic_cdma_forecast_subset['Vol_Port_Basic_CDMA'] = vol_port_basic_cdma_forecast_subset['Vol_Port_Basic_CDMA'].abs() * gm\n",
        "vol_port_basic_non_cdma_forecast_subset['Vol_Port_Basic_non_CDMA'] = vol_port_basic_non_cdma_forecast_subset['Vol_Port_Basic_non_CDMA'].abs() * gm\n",
        "vol_port_sp_android_other_forecast_subset['Vol_Port_SP_Android_Other'] = vol_port_sp_android_other_forecast_subset['Vol_Port_SP_Android_Other'].abs() * gm\n",
        "vol_port_sp_apple_forecast_subset['Vol_Port_SP_Apple'] = vol_port_sp_apple_forecast_subset['Vol_Port_SP_Apple'].abs() * gm\n",
        "\n",
        "# Voluntary non Port Outs\n",
        "vol_non_port_basic_cdma_forecast_subset['Vol_Non_Port_Basic_CDMA'] = vol_non_port_basic_cdma_forecast_subset['Vol_Non_Port_Basic_CDMA'].abs() * gm\n",
        "vol_non_port_basic_non_cdma_forecast_subset['Vol_Non_Port_Basic_non_CDMA'] = vol_non_port_basic_non_cdma_forecast_subset['Vol_Non_Port_Basic_non_CDMA'].abs() * gm\n",
        "vol_non_port_sp_android_other_forecast_subset['Vol_Non_Port_SP_Android_Other'] = vol_non_port_sp_android_other_forecast_subset['Vol_Non_Port_SP_Android_Other'].abs() * gm\n",
        "vol_non_port_sp_apple_forecast_subset['Vol_Non_Port_SP_Apple'] = vol_non_port_sp_apple_forecast_subset['Vol_Non_Port_SP_Apple'].abs() * gm\n",
        "\n",
        "# Involuntary\n",
        "invol_basic_cdma_forecast_subset['Invol_Basic_CDMA'] = invol_basic_cdma_forecast_subset['Invol_Basic_CDMA'].abs() * gm\n",
        "invol_basic_non_cdma_forecast_subset['Invol_Basic_non_CDMA'] = invol_basic_non_cdma_forecast_subset['Invol_Basic_non_CDMA'].abs() * gm\n",
        "invol_sp_android_other_forecast_subset['Invol_SP_Android_Other'] = invol_sp_android_other_forecast_subset['Invol_SP_Android_Other'].abs() * gm\n",
        "invol_sp_apple_forecast_subset['Invol_SP_Apple'] = invol_sp_apple_forecast_subset['Invol_SP_Apple'].abs() * gm"
      ],
      "execution_count": 80,
      "outputs": []
    },
    {
      "cell_type": "code",
      "metadata": {
        "id": "3dWhmIu1DTAH",
        "colab_type": "code",
        "colab": {
          "base_uri": "https://localhost:8080/",
          "height": 204
        },
        "outputId": "888b59b6-4b74-4077-8637-3960e23936e8"
      },
      "source": [
        "# Check the format of the adjusted forecasts (testing only)\n",
        "vol_port_sp_apple_forecast_subset.tail()"
      ],
      "execution_count": 81,
      "outputs": [
        {
          "output_type": "execute_result",
          "data": {
            "text/html": [
              "<div>\n",
              "<style scoped>\n",
              "    .dataframe tbody tr th:only-of-type {\n",
              "        vertical-align: middle;\n",
              "    }\n",
              "\n",
              "    .dataframe tbody tr th {\n",
              "        vertical-align: top;\n",
              "    }\n",
              "\n",
              "    .dataframe thead th {\n",
              "        text-align: right;\n",
              "    }\n",
              "</style>\n",
              "<table border=\"1\" class=\"dataframe\">\n",
              "  <thead>\n",
              "    <tr style=\"text-align: right;\">\n",
              "      <th></th>\n",
              "      <th>ds</th>\n",
              "      <th>Vol_Port_SP_Apple</th>\n",
              "    </tr>\n",
              "  </thead>\n",
              "  <tbody>\n",
              "    <tr>\n",
              "      <th>1487</th>\n",
              "      <td>2020-12-27</td>\n",
              "      <td>604.890140</td>\n",
              "    </tr>\n",
              "    <tr>\n",
              "      <th>1488</th>\n",
              "      <td>2020-12-28</td>\n",
              "      <td>752.548508</td>\n",
              "    </tr>\n",
              "    <tr>\n",
              "      <th>1489</th>\n",
              "      <td>2020-12-29</td>\n",
              "      <td>669.052253</td>\n",
              "    </tr>\n",
              "    <tr>\n",
              "      <th>1490</th>\n",
              "      <td>2020-12-30</td>\n",
              "      <td>626.121062</td>\n",
              "    </tr>\n",
              "    <tr>\n",
              "      <th>1491</th>\n",
              "      <td>2020-12-31</td>\n",
              "      <td>545.259661</td>\n",
              "    </tr>\n",
              "  </tbody>\n",
              "</table>\n",
              "</div>"
            ],
            "text/plain": [
              "             ds  Vol_Port_SP_Apple\n",
              "1487 2020-12-27         604.890140\n",
              "1488 2020-12-28         752.548508\n",
              "1489 2020-12-29         669.052253\n",
              "1490 2020-12-30         626.121062\n",
              "1491 2020-12-31         545.259661"
            ]
          },
          "metadata": {
            "tags": []
          },
          "execution_count": 81
        }
      ]
    },
    {
      "cell_type": "code",
      "metadata": {
        "id": "8m446XCi_AqF",
        "colab_type": "code",
        "colab": {}
      },
      "source": [
        "# Combine the forecasts into one table\n",
        "# Voluntary Port Outs\n",
        "discos_device_grp_phone_pred_table = vol_port_basic_cdma_forecast_subset\n",
        "discos_device_grp_phone_pred_table.insert(2, 'Vol_Port_Basic_non_CDMA', vol_port_basic_non_cdma_forecast_subset['Vol_Port_Basic_non_CDMA'])\n",
        "discos_device_grp_phone_pred_table.insert(3, 'Vol_Port_SP_Android_Other', vol_port_sp_android_other_forecast_subset['Vol_Port_SP_Android_Other'])\n",
        "discos_device_grp_phone_pred_table.insert(4, 'Vol_Port_SP_Apple', vol_port_sp_apple_forecast_subset['Vol_Port_SP_Apple'])\n",
        "\n",
        "# Voluntary Non Port Outs\n",
        "discos_device_grp_phone_pred_table.insert(5, 'Vol_Non_Port_Basic_CDMA', vol_non_port_basic_cdma_forecast_subset['Vol_Non_Port_Basic_CDMA'])\n",
        "discos_device_grp_phone_pred_table.insert(6, 'Vol_Non_Port_Basic_non_CDMA', vol_non_port_basic_non_cdma_forecast_subset['Vol_Non_Port_Basic_non_CDMA'])\n",
        "discos_device_grp_phone_pred_table.insert(7, 'Vol_Non_Port_SP_Android_Other', vol_non_port_sp_android_other_forecast_subset['Vol_Non_Port_SP_Android_Other'])\n",
        "discos_device_grp_phone_pred_table.insert(8, 'Vol_Non_Port_SP_Apple', vol_non_port_sp_apple_forecast_subset['Vol_Non_Port_SP_Apple'])\n",
        "\n",
        "# Involuntary\n",
        "discos_device_grp_phone_pred_table.insert(9, 'Invol_Basic_CDMA', invol_basic_cdma_forecast_subset['Invol_Basic_CDMA'])\n",
        "discos_device_grp_phone_pred_table.insert(10, 'Invol_Basic_non_CDMA', invol_basic_non_cdma_forecast_subset['Invol_Basic_non_CDMA'])\n",
        "discos_device_grp_phone_pred_table.insert(11, 'Invol_SP_Android_Other', invol_sp_android_other_forecast_subset['Invol_SP_Android_Other'])\n",
        "discos_device_grp_phone_pred_table.insert(12, 'Invol_SP_Apple', invol_sp_apple_forecast_subset['Invol_SP_Apple'])"
      ],
      "execution_count": 82,
      "outputs": []
    },
    {
      "cell_type": "code",
      "metadata": {
        "id": "HlwvwXItBNPa",
        "colab_type": "code",
        "colab": {
          "base_uri": "https://localhost:8080/",
          "height": 309
        },
        "outputId": "0684c4ad-9e48-4bba-ee27-be21d1d9fe5d"
      },
      "source": [
        "# Check the format of the final predictions table (testing only)\n",
        "discos_device_grp_phone_pred_table.tail()"
      ],
      "execution_count": 83,
      "outputs": [
        {
          "output_type": "execute_result",
          "data": {
            "text/html": [
              "<div>\n",
              "<style scoped>\n",
              "    .dataframe tbody tr th:only-of-type {\n",
              "        vertical-align: middle;\n",
              "    }\n",
              "\n",
              "    .dataframe tbody tr th {\n",
              "        vertical-align: top;\n",
              "    }\n",
              "\n",
              "    .dataframe thead th {\n",
              "        text-align: right;\n",
              "    }\n",
              "</style>\n",
              "<table border=\"1\" class=\"dataframe\">\n",
              "  <thead>\n",
              "    <tr style=\"text-align: right;\">\n",
              "      <th></th>\n",
              "      <th>ds</th>\n",
              "      <th>Vol_Port_Basic_CDMA</th>\n",
              "      <th>Vol_Port_Basic_non_CDMA</th>\n",
              "      <th>Vol_Port_SP_Android_Other</th>\n",
              "      <th>Vol_Port_SP_Apple</th>\n",
              "      <th>Vol_Non_Port_Basic_CDMA</th>\n",
              "      <th>Vol_Non_Port_Basic_non_CDMA</th>\n",
              "      <th>Vol_Non_Port_SP_Android_Other</th>\n",
              "      <th>Vol_Non_Port_SP_Apple</th>\n",
              "      <th>Invol_Basic_CDMA</th>\n",
              "      <th>Invol_Basic_non_CDMA</th>\n",
              "      <th>Invol_SP_Android_Other</th>\n",
              "      <th>Invol_SP_Apple</th>\n",
              "    </tr>\n",
              "  </thead>\n",
              "  <tbody>\n",
              "    <tr>\n",
              "      <th>1487</th>\n",
              "      <td>2020-12-27</td>\n",
              "      <td>44.272012</td>\n",
              "      <td>18.862850</td>\n",
              "      <td>245.454826</td>\n",
              "      <td>604.890140</td>\n",
              "      <td>151.437162</td>\n",
              "      <td>169.985009</td>\n",
              "      <td>144.156704</td>\n",
              "      <td>657.955498</td>\n",
              "      <td>20.123929</td>\n",
              "      <td>69.770051</td>\n",
              "      <td>674.352861</td>\n",
              "      <td>452.902667</td>\n",
              "    </tr>\n",
              "    <tr>\n",
              "      <th>1488</th>\n",
              "      <td>2020-12-28</td>\n",
              "      <td>79.550874</td>\n",
              "      <td>25.092570</td>\n",
              "      <td>382.878598</td>\n",
              "      <td>752.548508</td>\n",
              "      <td>523.633119</td>\n",
              "      <td>256.063982</td>\n",
              "      <td>902.192774</td>\n",
              "      <td>1479.325317</td>\n",
              "      <td>15.425919</td>\n",
              "      <td>61.378219</td>\n",
              "      <td>629.189026</td>\n",
              "      <td>410.352992</td>\n",
              "    </tr>\n",
              "    <tr>\n",
              "      <th>1489</th>\n",
              "      <td>2020-12-29</td>\n",
              "      <td>75.066539</td>\n",
              "      <td>23.924327</td>\n",
              "      <td>338.445033</td>\n",
              "      <td>669.052253</td>\n",
              "      <td>464.437069</td>\n",
              "      <td>256.436950</td>\n",
              "      <td>829.655273</td>\n",
              "      <td>1394.189719</td>\n",
              "      <td>10.689919</td>\n",
              "      <td>61.984608</td>\n",
              "      <td>829.129673</td>\n",
              "      <td>632.522270</td>\n",
              "    </tr>\n",
              "    <tr>\n",
              "      <th>1490</th>\n",
              "      <td>2020-12-30</td>\n",
              "      <td>70.412974</td>\n",
              "      <td>23.173120</td>\n",
              "      <td>324.498999</td>\n",
              "      <td>626.121062</td>\n",
              "      <td>426.681300</td>\n",
              "      <td>249.628354</td>\n",
              "      <td>789.545750</td>\n",
              "      <td>1331.575512</td>\n",
              "      <td>59.978676</td>\n",
              "      <td>66.318027</td>\n",
              "      <td>1053.552342</td>\n",
              "      <td>805.313300</td>\n",
              "    </tr>\n",
              "    <tr>\n",
              "      <th>1491</th>\n",
              "      <td>2020-12-31</td>\n",
              "      <td>60.935597</td>\n",
              "      <td>22.528869</td>\n",
              "      <td>292.537490</td>\n",
              "      <td>545.259661</td>\n",
              "      <td>418.326072</td>\n",
              "      <td>251.333441</td>\n",
              "      <td>787.018772</td>\n",
              "      <td>1325.658233</td>\n",
              "      <td>78.163611</td>\n",
              "      <td>76.947047</td>\n",
              "      <td>1057.268041</td>\n",
              "      <td>844.756262</td>\n",
              "    </tr>\n",
              "  </tbody>\n",
              "</table>\n",
              "</div>"
            ],
            "text/plain": [
              "             ds  Vol_Port_Basic_CDMA  ...  Invol_SP_Android_Other  Invol_SP_Apple\n",
              "1487 2020-12-27            44.272012  ...              674.352861      452.902667\n",
              "1488 2020-12-28            79.550874  ...              629.189026      410.352992\n",
              "1489 2020-12-29            75.066539  ...              829.129673      632.522270\n",
              "1490 2020-12-30            70.412974  ...             1053.552342      805.313300\n",
              "1491 2020-12-31            60.935597  ...             1057.268041      844.756262\n",
              "\n",
              "[5 rows x 13 columns]"
            ]
          },
          "metadata": {
            "tags": []
          },
          "execution_count": 83
        }
      ]
    },
    {
      "cell_type": "code",
      "metadata": {
        "id": "zBq194QZF-zG",
        "colab_type": "code",
        "colab": {
          "base_uri": "https://localhost:8080/",
          "height": 85
        },
        "outputId": "5fce049c-375c-4d7e-a848-1317edb544eb"
      },
      "source": [
        "# Calculate the root mean squared error (testing only)\n",
        "print(\"Vol Port Basic CDMA RMSE: %f\" % np.sqrt(np.mean((discos_device_grp_phone_pred_table.loc[:1307, 'Vol_Port_Basic_CDMA'] - fact_table['vol_port_basic_cdma']) ** 2)))\n",
        "print(\"Vol Port Basic Non CDMA RMSE: %f\" % np.sqrt(np.mean((discos_device_grp_phone_pred_table.loc[:1307, 'Vol_Port_Basic_non_CDMA'] - fact_table['vol_port_basic_non_cdma']) ** 2)))\n",
        "print(\"Vol Port SP Android Other RMSE: %f\" % np.sqrt(np.mean((discos_device_grp_phone_pred_table.loc[:1307, 'Vol_Port_SP_Android_Other'] - fact_table['vol_port_sp_android_other']) ** 2)))\n",
        "print(\"Vol Port SP Apple RMSE: %f\" % np.sqrt(np.mean((discos_device_grp_phone_pred_table.loc[:1307, 'Vol_Port_SP_Apple'] - fact_table['vol_port_sp_apple']) ** 2)))"
      ],
      "execution_count": 84,
      "outputs": [
        {
          "output_type": "stream",
          "text": [
            "Vol Port Basic CDMA RMSE: 25.761902\n",
            "Vol Port Basic Non CDMA RMSE: 4.281291\n",
            "Vol Port SP Android Other RMSE: 108.461777\n",
            "Vol Port SP Apple RMSE: 167.216404\n"
          ],
          "name": "stdout"
        }
      ]
    },
    {
      "cell_type": "code",
      "metadata": {
        "id": "_znvxmQ6b4ix",
        "colab_type": "code",
        "colab": {}
      },
      "source": [
        "# Save the predictions table to a csv file\n",
        "discos_device_grp_phone_pred_table.to_csv('drive/My Drive/Churn/discos_device_grp_phone_same_day_pred_table.csv')"
      ],
      "execution_count": 85,
      "outputs": []
    }
  ]
}