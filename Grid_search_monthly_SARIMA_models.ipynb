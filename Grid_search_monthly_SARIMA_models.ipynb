{
  "nbformat": 4,
  "nbformat_minor": 0,
  "metadata": {
    "colab": {
      "name": "Grid search monthly SARIMA models.ipynb",
      "provenance": [],
      "mount_file_id": "https://github.com/JSunkel/Forecasting-Models/blob/master/Grid_search_monthly_SARIMA_models.ipynb",
      "authorship_tag": "ABX9TyMilat7eljOQ60weqTwYNsg",
      "include_colab_link": true
    },
    "kernelspec": {
      "name": "python3",
      "display_name": "Python 3"
    }
  },
  "cells": [
    {
      "cell_type": "markdown",
      "metadata": {
        "id": "view-in-github",
        "colab_type": "text"
      },
      "source": [
        "<a href=\"https://colab.research.google.com/github/JSunkel/Forecasting-Models/blob/master/Grid_search_monthly_SARIMA_models.ipynb\" target=\"_parent\"><img src=\"https://colab.research.google.com/assets/colab-badge.svg\" alt=\"Open In Colab\"/></a>"
      ]
    },
    {
      "cell_type": "code",
      "metadata": {
        "id": "M7Gxqf1zCa0Q",
        "colab_type": "code",
        "colab": {}
      },
      "source": [
        "from math import sqrt\n",
        "from pandas import read_csv\n",
        "from multiprocess import cpu_count\n",
        "from joblib import Parallel, delayed\n",
        "from warnings import catch_warnings, filterwarnings\n",
        "from statsmodels.tsa.statespace.sarimax import SARIMAX\n",
        "from sklearn.metrics import mean_squared_error"
      ],
      "execution_count": 0,
      "outputs": []
    },
    {
      "cell_type": "code",
      "metadata": {
        "id": "cfOtElRWEOZn",
        "colab_type": "code",
        "colab": {}
      },
      "source": [
        "# One step SARIMA forecast\n",
        "def sarima_forecast(history, config):\n",
        "  order, sorder, trend = config\n",
        "  # Define the model\n",
        "  model = SARIMAX(history,\n",
        "                  order = order,\n",
        "                  seasonal_order = sorder,\n",
        "                  trend = trend,\n",
        "                  enforce_stationarity = False,\n",
        "                  enforce_invertibility = False)\n",
        "  # Fit the model\n",
        "  model_fit = model.fit(disp = False)\n",
        "  # Make a one step forecast\n",
        "  y_hat = model_fit.predict(len(history), len(history))\n",
        "  return y_hat[0]"
      ],
      "execution_count": 0,
      "outputs": []
    },
    {
      "cell_type": "code",
      "metadata": {
        "id": "EwrjYoKQFSyi",
        "colab_type": "code",
        "colab": {}
      },
      "source": [
        "# Calculate errors using RMSE\n",
        "def measure_rmse(actual, predicted):\n",
        "  return sqrt(mean_squared_error(actual, predicted))"
      ],
      "execution_count": 0,
      "outputs": []
    },
    {
      "cell_type": "code",
      "metadata": {
        "id": "aw-KxLSZGBhf",
        "colab_type": "code",
        "colab": {}
      },
      "source": [
        "# Split a univariate dataset into train/test sets\n",
        "def train_test_split(data, n_test):\n",
        "  return data[:-n_test], data[-n_test:]"
      ],
      "execution_count": 0,
      "outputs": []
    },
    {
      "cell_type": "code",
      "metadata": {
        "id": "tkgCG7gXGXDr",
        "colab_type": "code",
        "colab": {}
      },
      "source": [
        "# Walk forward validation for univariate data\n",
        "def walk_forward_validation(data, n_test, cfg):\n",
        "  predictions = list()\n",
        "  # Split the dataset\n",
        "  train, test = train_test_split(data, n_test)\n",
        "  # Seed history with training dataset\n",
        "  history = [x for x in train]\n",
        "  # Step over each time step in the test set\n",
        "  for i in range(len(test)):\n",
        "    # Fit the model and make a forecast for history\n",
        "    y_hat = sarima_forecast(history, cfg)\n",
        "    # Store the forecast in a list of predictions\n",
        "    predictions.append(y_hat)\n",
        "    # Add an actual observation to history for the next loop\n",
        "    history.append(test[i])\n",
        "  # Estimate the prediction error\n",
        "  error = measure_rmse(test, predictions)\n",
        "  return error"
      ],
      "execution_count": 0,
      "outputs": []
    },
    {
      "cell_type": "code",
      "metadata": {
        "id": "YZOSOhTbIO13",
        "colab_type": "code",
        "colab": {}
      },
      "source": [
        "# Score a model, return None on failure\n",
        "def score_model(data, n_test, cfg, debug = False):\n",
        "  result = None\n",
        "  # Convert config to a key\n",
        "  key = str(cfg)\n",
        "  # Show all warnings and fail on exception if debugging\n",
        "  if debug:\n",
        "    result = walk_forward_validation(data, n_test, cfg)\n",
        "  else:\n",
        "    # One failure during model validation suggests an unstable config\n",
        "    try:\n",
        "      # Never show warnings when grid searching\n",
        "      with catch_warnings():\n",
        "        filterwarnings('ignore')\n",
        "        result = walk_forward_validation(data, n_test, cfg)\n",
        "    except:\n",
        "      error = None\n",
        "  # Check for an interesting result\n",
        "  if result is not None:\n",
        "    print(' > Model[%s] %.3f' % (key, result))\n",
        "  return (key, result)"
      ],
      "execution_count": 0,
      "outputs": []
    },
    {
      "cell_type": "code",
      "metadata": {
        "id": "gsYG-JAvKxwo",
        "colab_type": "code",
        "colab": {}
      },
      "source": [
        "# Grid search configs\n",
        "def grid_search(data, cfg_list, n_test, parallel = True):\n",
        "  scores = None\n",
        "  if parallel:\n",
        "    # Execute configs in parallel\n",
        "    executor = Parallel(n_jobs = cpu_count(), backend = 'multiprocessing')\n",
        "    tasks = (delayed(score_model)(data, n_test, cfg) for cfg in cfg_list)\n",
        "    scores = executor(tasks)\n",
        "  else:\n",
        "    scores = [score_model(data, n_test, cfg) for cfg in cfg_list]\n",
        "  # Remove empty results\n",
        "  scores = [r for r in scores if r[1] != None]\n",
        "  # Sort configs by error in ascending order\n",
        "  scores.sort(key = lambda tup: tup[1])\n",
        "  return scores"
      ],
      "execution_count": 0,
      "outputs": []
    },
    {
      "cell_type": "code",
      "metadata": {
        "id": "PtvnTD46NlJV",
        "colab_type": "code",
        "colab": {}
      },
      "source": [
        "# Create a set of SARIMA configs to try\n",
        "def sarima_configs(seasonal = [0]):\n",
        "  models = list()\n",
        "  # Define config lists\n",
        "  p_params = [0, 1, 2]\n",
        "  d_params = [0, 1]\n",
        "  q_params = [0, 1, 2]\n",
        "  t_params = ['n', 'c', 't', 'ct']\n",
        "  P_params = [0, 1, 2]\n",
        "  D_params = [0, 1]\n",
        "  Q_params = [0, 1, 2]\n",
        "  m_params = seasonal\n",
        "  # Create config instances\n",
        "  for p in p_params:\n",
        "    for d in d_params:\n",
        "      for q in q_params:\n",
        "        for t in t_params:\n",
        "          for P in P_params:\n",
        "            for D in D_params:\n",
        "              for Q in Q_params:\n",
        "                for m in m_params:\n",
        "                  cfg = [(p, d, q), (P, D, Q, m), t]\n",
        "                  models.append(cfg)\n",
        "  return models"
      ],
      "execution_count": 0,
      "outputs": []
    },
    {
      "cell_type": "code",
      "metadata": {
        "id": "_WSUIWeRPcCN",
        "colab_type": "code",
        "colab": {}
      },
      "source": [
        "if __name__ == '__main__':\n",
        "  # Load the dataset\n",
        "  series = read_csv('drive/My Drive/Churn/monthly_churn_false_churn_oct.csv',\n",
        "                    header = 0,\n",
        "                    index_col = 0)\n",
        "  data = series.values\n",
        "  # Split the data\n",
        "  n_test = 3\n",
        "  # Model configs\n",
        "  cfg_list = sarima_configs(seasonal = [0, 12])\n",
        "  # Grid search\n",
        "  scores = grid_search(data, cfg_list, n_test)\n",
        "  print('Done')\n",
        "  # List the top 3 configs\n",
        "  for cfg, error in scores[:3]:\n",
        "    print(cfg, error)"
      ],
      "execution_count": 0,
      "outputs": []
    },
    {
      "cell_type": "code",
      "metadata": {
        "id": "3H42PlorbbRS",
        "colab_type": "code",
        "colab": {}
      },
      "source": [
        "# Define the model\n",
        "model = SARIMAX(data, \n",
        "                order = (0, 0, 1),\n",
        "                seasonal_order = (1, 0, 0, 12),\n",
        "                trend = 'ct')"
      ],
      "execution_count": 0,
      "outputs": []
    },
    {
      "cell_type": "code",
      "metadata": {
        "id": "B1yZa3GKb15Z",
        "colab_type": "code",
        "colab": {}
      },
      "source": [
        "# Fit the model\n",
        "model_fit = model.fit()"
      ],
      "execution_count": 0,
      "outputs": []
    },
    {
      "cell_type": "code",
      "metadata": {
        "id": "RiOGmt5TcMrT",
        "colab_type": "code",
        "colab": {}
      },
      "source": [
        "# Make predictions\n",
        "y_hat = model_fit.forecast(3)\n",
        "print(y_hat)"
      ],
      "execution_count": 0,
      "outputs": []
    }
  ]
}