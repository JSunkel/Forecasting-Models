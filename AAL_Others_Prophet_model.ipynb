{
  "nbformat": 4,
  "nbformat_minor": 0,
  "metadata": {
    "colab": {
      "name": "Copy of Upgrades Samsung Phone Prophet model.ipynb",
      "provenance": [],
      "include_colab_link": true
    },
    "kernelspec": {
      "name": "python3",
      "display_name": "Python 3"
    }
  },
  "cells": [
    {
      "cell_type": "markdown",
      "metadata": {
        "id": "view-in-github",
        "colab_type": "text"
      },
      "source": [
        "<a href=\"https://colab.research.google.com/github/JSunkel/Forecasting-Models/blob/master/AAL_Others_Prophet_model.ipynb\" target=\"_parent\"><img src=\"https://colab.research.google.com/assets/colab-badge.svg\" alt=\"Open In Colab\"/></a>"
      ]
    },
    {
      "cell_type": "code",
      "metadata": {
        "id": "127ZL5DNa_DK",
        "colab_type": "code",
        "colab": {}
      },
      "source": [
        "import pandas as pd\n",
        "from fbprophet import Prophet\n",
        "from fbprophet.diagnostics import cross_validation, performance_metrics"
      ],
      "execution_count": 0,
      "outputs": []
    },
    {
      "cell_type": "code",
      "metadata": {
        "id": "7L_hdOufbEyU",
        "colab_type": "code",
        "colab": {}
      },
      "source": [
        "# Load the dataset\n",
        "df = pd.read_csv('drive/My Drive/AAL/daily_aal_others_jan.csv')"
      ],
      "execution_count": 0,
      "outputs": []
    },
    {
      "cell_type": "code",
      "metadata": {
        "id": "qd0uiS7nbKIQ",
        "colab_type": "code",
        "colab": {}
      },
      "source": [
        "# Define the holidays\n",
        "new_years_day = pd.DataFrame({\n",
        "    'holiday': 'new_years_day',\n",
        "    'ds': pd.to_datetime(['2017-01-01',\n",
        "                          '2018-01-01',\n",
        "                          '2019-01-01',\n",
        "                          '2020-01-01']),\n",
        "    'lower_window': 0,\n",
        "    'upper_window': 0,\n",
        "})\n",
        "\n",
        "mlk_day = pd.DataFrame({\n",
        "    'holiday': 'mlk_day',\n",
        "    'ds': pd.to_datetime(['2017-01-16',\n",
        "                          '2018-01-15',\n",
        "                          '2019-01-21',\n",
        "                          '2020-01-20']),\n",
        "    'lower_window': 0,\n",
        "    'upper_window': 0,\n",
        "})\n",
        "\n",
        "easter_sunday = pd.DataFrame({\n",
        "    'holiday': 'easter_sunday',\n",
        "    'ds': pd.to_datetime(['2017-04-16',\n",
        "                          '2018-04-01',\n",
        "                          '2019-04-21',\n",
        "                          '2020-04-12']),\n",
        "    'lower_window': 0,\n",
        "    'upper_window': 0,\n",
        "})\n",
        "\n",
        "memorial_day = pd.DataFrame({\n",
        "    'holiday': 'memorial_day',\n",
        "    'ds': pd.to_datetime(['2017-05-29',\n",
        "                          '2018-05-28',\n",
        "                          '2019-05-27',\n",
        "                          '2020-05-25']),\n",
        "    'lower_window': 0,\n",
        "    'upper_window': 0,\n",
        "})\n",
        "\n",
        "independence_day = pd.DataFrame({\n",
        "    'holiday': 'independence_day',\n",
        "    'ds': pd.to_datetime(['2017-07-04',\n",
        "                          '2018-07-04',\n",
        "                          '2019-07-04',\n",
        "                          '2020-07-04']),\n",
        "    'lower_window': 0,\n",
        "    'upper_window': 0,\n",
        "})\n",
        "\n",
        "thanksgiving_day = pd.DataFrame({\n",
        "    'holiday': 'thanksgiving_day',\n",
        "    'ds': pd.to_datetime(['2017-11-23',\n",
        "                          '2018-11-22',\n",
        "                          '2019-11-28',\n",
        "                          '2020-11-26']),\n",
        "    'lower_window': -3,\n",
        "    'upper_window': 0,\n",
        "})\n",
        "\n",
        "black_friday = pd.DataFrame({\n",
        "    'holiday': 'black_friday',\n",
        "    'ds': pd.to_datetime(['2017-11-24',\n",
        "                          '2018-11-23',\n",
        "                          '2019-11-29',\n",
        "                          '2020-11-27']),\n",
        "    'lower_window': 0,\n",
        "    'upper_window': 1,\n",
        "})\n",
        "\n",
        "cyber_monday = pd.DataFrame({\n",
        "    'holiday': 'cyber_monday',\n",
        "    'ds': pd.to_datetime(['2017-11-27',\n",
        "                          '2018-11-26',\n",
        "                          '2019-12-02',\n",
        "                          '2020-11-30']),\n",
        "    'lower_window': 0,\n",
        "    'upper_window': 1,\n",
        "})\n",
        "\n",
        "christmas_day = pd.DataFrame({\n",
        "    'holiday': 'christmas_day',\n",
        "    'ds': pd.to_datetime(['2017-12-25',\n",
        "                          '2018-12-25',\n",
        "                          '2019-12-25',\n",
        "                          '2020-12-25']),\n",
        "    'lower_window': -8,\n",
        "    'upper_window': 3,\n",
        "})"
      ],
      "execution_count": 0,
      "outputs": []
    },
    {
      "cell_type": "code",
      "metadata": {
        "id": "u_wSeXwgsSRo",
        "colab_type": "code",
        "colab": {}
      },
      "source": [
        "holidays = pd.concat((new_years_day,\n",
        "                      mlk_day,\n",
        "                      easter_sunday,\n",
        "                      memorial_day,\n",
        "                      independence_day,\n",
        "                      thanksgiving_day,\n",
        "                      black_friday,\n",
        "                      cyber_monday,\n",
        "                      christmas_day))"
      ],
      "execution_count": 0,
      "outputs": []
    },
    {
      "cell_type": "code",
      "metadata": {
        "id": "LehjGgIJbf8D",
        "colab_type": "code",
        "colab": {
          "base_uri": "https://localhost:8080/",
          "height": 51
        },
        "outputId": "86f96b87-48a7-4318-a3e6-e97efc512ec2"
      },
      "source": [
        "# Define and fit the model\n",
        "model = Prophet(holidays = holidays)\n",
        "model.fit(df)"
      ],
      "execution_count": 69,
      "outputs": [
        {
          "output_type": "stream",
          "text": [
            "INFO:fbprophet:Disabling daily seasonality. Run prophet with daily_seasonality=True to override this.\n"
          ],
          "name": "stderr"
        },
        {
          "output_type": "execute_result",
          "data": {
            "text/plain": [
              "<fbprophet.forecaster.Prophet at 0x7fad4b370208>"
            ]
          },
          "metadata": {
            "tags": []
          },
          "execution_count": 69
        }
      ]
    },
    {
      "cell_type": "code",
      "metadata": {
        "id": "dWot8dxibsxd",
        "colab_type": "code",
        "colab": {}
      },
      "source": [
        "# Create a dataframe to hold predictions\n",
        "future = model.make_future_dataframe(periods = 60)"
      ],
      "execution_count": 0,
      "outputs": []
    },
    {
      "cell_type": "code",
      "metadata": {
        "id": "Q_Donl0Tbygx",
        "colab_type": "code",
        "colab": {}
      },
      "source": [
        "# Make predictions\n",
        "forecast = model.predict(future)"
      ],
      "execution_count": 0,
      "outputs": []
    },
    {
      "cell_type": "code",
      "metadata": {
        "id": "C0WEPilVd1HG",
        "colab_type": "code",
        "colab": {
          "base_uri": "https://localhost:8080/",
          "height": 221
        },
        "outputId": "cd9614d6-074f-4618-bd36-b2a0cf40a860"
      },
      "source": [
        "# Cross validation\n",
        "df_cv = cross_validation(model, initial = '730 days', period = '30 days', horizon = '180 days')\n",
        "df_cv.head()"
      ],
      "execution_count": 72,
      "outputs": [
        {
          "output_type": "stream",
          "text": [
            "INFO:fbprophet:Making 8 forecasts with cutoffs between 2019-01-06 00:00:00 and 2019-08-04 00:00:00\n"
          ],
          "name": "stderr"
        },
        {
          "output_type": "execute_result",
          "data": {
            "text/html": [
              "<div>\n",
              "<style scoped>\n",
              "    .dataframe tbody tr th:only-of-type {\n",
              "        vertical-align: middle;\n",
              "    }\n",
              "\n",
              "    .dataframe tbody tr th {\n",
              "        vertical-align: top;\n",
              "    }\n",
              "\n",
              "    .dataframe thead th {\n",
              "        text-align: right;\n",
              "    }\n",
              "</style>\n",
              "<table border=\"1\" class=\"dataframe\">\n",
              "  <thead>\n",
              "    <tr style=\"text-align: right;\">\n",
              "      <th></th>\n",
              "      <th>ds</th>\n",
              "      <th>yhat</th>\n",
              "      <th>yhat_lower</th>\n",
              "      <th>yhat_upper</th>\n",
              "      <th>y</th>\n",
              "      <th>cutoff</th>\n",
              "    </tr>\n",
              "  </thead>\n",
              "  <tbody>\n",
              "    <tr>\n",
              "      <th>0</th>\n",
              "      <td>2019-01-07</td>\n",
              "      <td>2228.709141</td>\n",
              "      <td>1877.075718</td>\n",
              "      <td>2565.204108</td>\n",
              "      <td>1883</td>\n",
              "      <td>2019-01-06</td>\n",
              "    </tr>\n",
              "    <tr>\n",
              "      <th>1</th>\n",
              "      <td>2019-01-08</td>\n",
              "      <td>2329.579109</td>\n",
              "      <td>1961.756257</td>\n",
              "      <td>2682.084087</td>\n",
              "      <td>1959</td>\n",
              "      <td>2019-01-06</td>\n",
              "    </tr>\n",
              "    <tr>\n",
              "      <th>2</th>\n",
              "      <td>2019-01-09</td>\n",
              "      <td>2403.574673</td>\n",
              "      <td>2025.441459</td>\n",
              "      <td>2752.958631</td>\n",
              "      <td>1965</td>\n",
              "      <td>2019-01-06</td>\n",
              "    </tr>\n",
              "    <tr>\n",
              "      <th>3</th>\n",
              "      <td>2019-01-10</td>\n",
              "      <td>2305.565615</td>\n",
              "      <td>1947.451248</td>\n",
              "      <td>2645.790410</td>\n",
              "      <td>1888</td>\n",
              "      <td>2019-01-06</td>\n",
              "    </tr>\n",
              "    <tr>\n",
              "      <th>4</th>\n",
              "      <td>2019-01-11</td>\n",
              "      <td>2696.718022</td>\n",
              "      <td>2366.115623</td>\n",
              "      <td>3047.072812</td>\n",
              "      <td>2261</td>\n",
              "      <td>2019-01-06</td>\n",
              "    </tr>\n",
              "  </tbody>\n",
              "</table>\n",
              "</div>"
            ],
            "text/plain": [
              "          ds         yhat   yhat_lower   yhat_upper     y     cutoff\n",
              "0 2019-01-07  2228.709141  1877.075718  2565.204108  1883 2019-01-06\n",
              "1 2019-01-08  2329.579109  1961.756257  2682.084087  1959 2019-01-06\n",
              "2 2019-01-09  2403.574673  2025.441459  2752.958631  1965 2019-01-06\n",
              "3 2019-01-10  2305.565615  1947.451248  2645.790410  1888 2019-01-06\n",
              "4 2019-01-11  2696.718022  2366.115623  3047.072812  2261 2019-01-06"
            ]
          },
          "metadata": {
            "tags": []
          },
          "execution_count": 72
        }
      ]
    },
    {
      "cell_type": "code",
      "metadata": {
        "id": "PB_8kSSgeekw",
        "colab_type": "code",
        "colab": {
          "base_uri": "https://localhost:8080/",
          "height": 204
        },
        "outputId": "1254aab2-f8aa-45ae-b13c-942448d58f40"
      },
      "source": [
        "# Performance metrics\n",
        "df_p = performance_metrics(df_cv)\n",
        "df_p.head()"
      ],
      "execution_count": 73,
      "outputs": [
        {
          "output_type": "execute_result",
          "data": {
            "text/html": [
              "<div>\n",
              "<style scoped>\n",
              "    .dataframe tbody tr th:only-of-type {\n",
              "        vertical-align: middle;\n",
              "    }\n",
              "\n",
              "    .dataframe tbody tr th {\n",
              "        vertical-align: top;\n",
              "    }\n",
              "\n",
              "    .dataframe thead th {\n",
              "        text-align: right;\n",
              "    }\n",
              "</style>\n",
              "<table border=\"1\" class=\"dataframe\">\n",
              "  <thead>\n",
              "    <tr style=\"text-align: right;\">\n",
              "      <th></th>\n",
              "      <th>horizon</th>\n",
              "      <th>mse</th>\n",
              "      <th>rmse</th>\n",
              "      <th>mae</th>\n",
              "      <th>mape</th>\n",
              "      <th>coverage</th>\n",
              "    </tr>\n",
              "  </thead>\n",
              "  <tbody>\n",
              "    <tr>\n",
              "      <th>0</th>\n",
              "      <td>18 days</td>\n",
              "      <td>95897.341716</td>\n",
              "      <td>309.672959</td>\n",
              "      <td>254.770185</td>\n",
              "      <td>0.146463</td>\n",
              "      <td>0.750000</td>\n",
              "    </tr>\n",
              "    <tr>\n",
              "      <th>1</th>\n",
              "      <td>19 days</td>\n",
              "      <td>97750.738837</td>\n",
              "      <td>312.651146</td>\n",
              "      <td>253.594814</td>\n",
              "      <td>0.147621</td>\n",
              "      <td>0.750000</td>\n",
              "    </tr>\n",
              "    <tr>\n",
              "      <th>2</th>\n",
              "      <td>20 days</td>\n",
              "      <td>105593.769842</td>\n",
              "      <td>324.951950</td>\n",
              "      <td>260.261953</td>\n",
              "      <td>0.151449</td>\n",
              "      <td>0.743056</td>\n",
              "    </tr>\n",
              "    <tr>\n",
              "      <th>3</th>\n",
              "      <td>21 days</td>\n",
              "      <td>107679.405671</td>\n",
              "      <td>328.145403</td>\n",
              "      <td>262.382750</td>\n",
              "      <td>0.153811</td>\n",
              "      <td>0.743056</td>\n",
              "    </tr>\n",
              "    <tr>\n",
              "      <th>4</th>\n",
              "      <td>22 days</td>\n",
              "      <td>109752.116443</td>\n",
              "      <td>331.288570</td>\n",
              "      <td>267.011600</td>\n",
              "      <td>0.157503</td>\n",
              "      <td>0.743056</td>\n",
              "    </tr>\n",
              "  </tbody>\n",
              "</table>\n",
              "</div>"
            ],
            "text/plain": [
              "  horizon            mse        rmse         mae      mape  coverage\n",
              "0 18 days   95897.341716  309.672959  254.770185  0.146463  0.750000\n",
              "1 19 days   97750.738837  312.651146  253.594814  0.147621  0.750000\n",
              "2 20 days  105593.769842  324.951950  260.261953  0.151449  0.743056\n",
              "3 21 days  107679.405671  328.145403  262.382750  0.153811  0.743056\n",
              "4 22 days  109752.116443  331.288570  267.011600  0.157503  0.743056"
            ]
          },
          "metadata": {
            "tags": []
          },
          "execution_count": 73
        }
      ]
    },
    {
      "cell_type": "code",
      "metadata": {
        "id": "_znvxmQ6b4ix",
        "colab_type": "code",
        "colab": {}
      },
      "source": [
        "# Output forecasts to a csv file\n",
        "forecast.to_csv('drive/My Drive/AAL/feb_mar_aal_others_forecast.csv')"
      ],
      "execution_count": 0,
      "outputs": []
    }
  ]
}