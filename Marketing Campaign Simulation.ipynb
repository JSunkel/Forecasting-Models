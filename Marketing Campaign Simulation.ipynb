{
  "nbformat": 4,
  "nbformat_minor": 0,
  "metadata": {
    "colab": {
      "name": "Untitled9.ipynb",
      "provenance": [],
      "authorship_tag": "ABX9TyM7sJDaFRmM13j4esnpznWd",
      "include_colab_link": true
    },
    "kernelspec": {
      "name": "python3",
      "display_name": "Python 3"
    }
  },
  "cells": [
    {
      "cell_type": "markdown",
      "metadata": {
        "id": "view-in-github",
        "colab_type": "text"
      },
      "source": [
        "<a href=\"https://colab.research.google.com/github/JSunkel/Forecasting-Models/blob/master/Marketing%20Campaign%20Simulation.ipynb\" target=\"_parent\"><img src=\"https://colab.research.google.com/assets/colab-badge.svg\" alt=\"Open In Colab\"/></a>"
      ]
    },
    {
      "cell_type": "code",
      "metadata": {
        "id": "fxLJt109iKxo",
        "colab_type": "code",
        "colab": {}
      },
      "source": [
        "import numpy as np\n",
        "import pandas as pd"
      ],
      "execution_count": 0,
      "outputs": []
    },
    {
      "cell_type": "code",
      "metadata": {
        "id": "WCj9xZuVi5Mx",
        "colab_type": "code",
        "colab": {}
      },
      "source": [
        "# Define a function to calculate the results of a marketing campaign\n",
        "def run_campaign(spend, cpm, conversion_rate):\n",
        "  return np.random.binomial(spend / cpm * 1000, conversion_rate)"
      ],
      "execution_count": 0,
      "outputs": []
    },
    {
      "cell_type": "code",
      "metadata": {
        "id": "7aHhoqRzjTbb",
        "colab_type": "code",
        "colab": {}
      },
      "source": [
        "# From the expected conversion rate and standard deviation, get the realized conversion rate\n",
        "def get_conversion_rate(expected, stdev):\n",
        "  conversion_rate = max(expected + np.random.normal() * stdev, 0.000001)\n",
        "  return conversion_rate"
      ],
      "execution_count": 0,
      "outputs": []
    },
    {
      "cell_type": "code",
      "metadata": {
        "id": "0QzfxPdoj7aY",
        "colab_type": "code",
        "colab": {}
      },
      "source": [
        "# Budget\n",
        "spend = 50000"
      ],
      "execution_count": 0,
      "outputs": []
    },
    {
      "cell_type": "code",
      "metadata": {
        "id": "8cFDaQbGkBML",
        "colab_type": "code",
        "colab": {}
      },
      "source": [
        "# Cost per thousand\n",
        "cpm = 2"
      ],
      "execution_count": 0,
      "outputs": []
    },
    {
      "cell_type": "code",
      "metadata": {
        "id": "UqcOSH-KkF8W",
        "colab_type": "code",
        "colab": {}
      },
      "source": [
        "# Conversion rate\n",
        "conversion_rate_expected = 0.00005\n",
        "conversion_rate_stdev = 0.00002"
      ],
      "execution_count": 0,
      "outputs": []
    },
    {
      "cell_type": "code",
      "metadata": {
        "id": "_eCjWW3IkZ0J",
        "colab_type": "code",
        "colab": {
          "base_uri": "https://localhost:8080/",
          "height": 51
        },
        "outputId": "0d40dba1-aec0-460c-dd99-d20deb42b066"
      },
      "source": [
        "# Estimate the number of new customers from the campaign\n",
        "conversion_rate = get_conversion_rate(conversion_rate_expected,\n",
        "                                      conversion_rate_stdev)\n",
        "cohort_size = run_campaign(spend, cpm, conversion_rate)\n",
        "\n",
        "# Calculate Customer Acquiaition Cost\n",
        "CAC = spend / cohort_size\n",
        "\n",
        "print('Customers gained: ', cohort_size)\n",
        "print('CAC (Customer Acquisition Cost): ', round(CAC, 2))"
      ],
      "execution_count": 83,
      "outputs": [
        {
          "output_type": "stream",
          "text": [
            "Customers gained:  1666\n",
            "CAC (Customer Acquisition Cost):  30.01\n"
          ],
          "name": "stdout"
        }
      ]
    },
    {
      "cell_type": "code",
      "metadata": {
        "id": "WOr-_F8nNicu",
        "colab_type": "code",
        "colab": {}
      },
      "source": [
        "# Define a function that models the progression of a cohort over time\n",
        "def simulate_cohort(cohort_size, \n",
        "                    churn_rate, \n",
        "                    transactions, \n",
        "                    price, \n",
        "                    retention_cost, \n",
        "                    yrs = 5):\n",
        "  customers_left = []\n",
        "  spending = []\n",
        "  profit = []\n",
        "  for i in range(yrs):\n",
        "    for customer in range(cohort_size):\n",
        "      # For simplicity, assume cancels happen at the start of the year\n",
        "      churn_random_num = np.random.random()\n",
        "      # Generate a random number between 0 and 1. If less than churn_rate then\n",
        "      # the customer churned and we subtract 1 from cohort_size\n",
        "      if churn_random_num <= churn_rate:\n",
        "        cohort_size += -1\n",
        "      # Calculate and record cohort's data\n",
        "      customers_left.append(cohort_size)\n",
        "      spending.append(cohort_size * transactions * price)\n",
        "      profit.append(cohort_size * (transactions * price - retention_cost))\n",
        "  return customers_left, spending, profit"
      ],
      "execution_count": 0,
      "outputs": []
    },
    {
      "cell_type": "code",
      "metadata": {
        "id": "ZGbEgiodQJm8",
        "colab_type": "code",
        "colab": {}
      },
      "source": [
        "churn_rate = 0.20"
      ],
      "execution_count": 0,
      "outputs": []
    },
    {
      "cell_type": "code",
      "metadata": {
        "id": "oHRPaoM-TccM",
        "colab_type": "code",
        "colab": {}
      },
      "source": [
        "# NUmber of annual transactions per average cohort member\n",
        "transactions = 6"
      ],
      "execution_count": 0,
      "outputs": []
    },
    {
      "cell_type": "code",
      "metadata": {
        "id": "75tUZr-WTly0",
        "colab_type": "code",
        "colab": {}
      },
      "source": [
        "# Price of goods sold per average transaction\n",
        "price = 10"
      ],
      "execution_count": 0,
      "outputs": []
    },
    {
      "cell_type": "code",
      "metadata": {
        "id": "t-VkknivTsNX",
        "colab_type": "code",
        "colab": {}
      },
      "source": [
        "# Annual cost of retaining/servicing customer\n",
        "retention_cost = 20"
      ],
      "execution_count": 0,
      "outputs": []
    },
    {
      "cell_type": "code",
      "metadata": {
        "id": "fX8unqNQT1Ue",
        "colab_type": "code",
        "colab": {}
      },
      "source": [
        "# Run the function\n",
        "customers_left, spending, profit = simulate_cohort(cohort_size, \n",
        "                                                   churn_rate, \n",
        "                                                   transactions, \n",
        "                                                   price, \n",
        "                                                   retention_cost, \n",
        "                                                   yrs = 5)"
      ],
      "execution_count": 0,
      "outputs": []
    },
    {
      "cell_type": "code",
      "metadata": {
        "id": "F121LIzbUJPL",
        "colab_type": "code",
        "colab": {}
      },
      "source": [
        "# Define a function to calculate present value\n",
        "def present_value(cashflows, rate):\n",
        "  pvs = []\n",
        "  for i, val in enumerate(cashflows):\n",
        "    pvs.append(val / (1 + rate) ** (i + 1))\n",
        "  return pvs"
      ],
      "execution_count": 0,
      "outputs": []
    },
    {
      "cell_type": "code",
      "metadata": {
        "id": "bXm6ADE2U0KO",
        "colab_type": "code",
        "colab": {
          "base_uri": "https://localhost:8080/",
          "height": 68
        },
        "outputId": "bbb8b8cd-6563-4922-8439-0f9c5b1743bb"
      },
      "source": [
        "# Calculate CLTV\n",
        "rate = 0.10\n",
        "\n",
        "# Get the PV of the profits\n",
        "pvs = present_value(profit, rate)\n",
        "\n",
        "# Value of the cohort in today's dollars is the sum of the PVs\n",
        "cohort_value = sum(pvs)\n",
        "\n",
        "print('Total Cohort Value: ', int(cohort_value))\n",
        "print('CLTV: ', int(cohort_value / cohort_size))\n",
        "print('CLTV - CAC Spread: ', int(cohort_value / cohort_size - CAC))"
      ],
      "execution_count": 91,
      "outputs": [
        {
          "output_type": "stream",
          "text": [
            "Total Cohort Value:  665795\n",
            "CLTV:  399\n",
            "CLTV - CAC Spread:  369\n"
          ],
          "name": "stdout"
        }
      ]
    }
  ]
}