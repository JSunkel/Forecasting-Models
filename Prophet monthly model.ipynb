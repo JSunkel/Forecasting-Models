{
  "nbformat": 4,
  "nbformat_minor": 0,
  "metadata": {
    "colab": {
      "name": "Untitled7.ipynb",
      "provenance": [],
      "mount_file_id": "https://github.com/JSunkel/Forecasting-Models/blob/master/Prophet%20monthly%20model.ipynb",
      "authorship_tag": "ABX9TyN5v6Srv1ntVsgLBZsBndsl",
      "include_colab_link": true
    },
    "kernelspec": {
      "name": "python3",
      "display_name": "Python 3"
    }
  },
  "cells": [
    {
      "cell_type": "markdown",
      "metadata": {
        "id": "view-in-github",
        "colab_type": "text"
      },
      "source": [
        "<a href=\"https://colab.research.google.com/github/JSunkel/Forecasting-Models/blob/master/Prophet%20monthly%20model.ipynb\" target=\"_parent\"><img src=\"https://colab.research.google.com/assets/colab-badge.svg\" alt=\"Open In Colab\"/></a>"
      ]
    },
    {
      "cell_type": "code",
      "metadata": {
        "id": "Q7NQzapscyd6",
        "colab_type": "code",
        "colab": {}
      },
      "source": [
        "'''\n",
        "Use Facebook's Prophet model to make monthly predictions for account level disconnects:\n",
        "1) import packages\n",
        "2) import the data from a csv file and assign it to a variable\n",
        "3) define the model\n",
        "4) fit the model to the data\n",
        "5) create a dataframe to hold model predictions and assign it to a variable\n",
        "6) use the model to make predictions\n",
        "7) save the predictions to a csv file\n",
        "'''"
      ],
      "execution_count": null,
      "outputs": []
    },
    {
      "cell_type": "code",
      "metadata": {
        "id": "ThID9xYG1XJ_",
        "colab_type": "code",
        "colab": {}
      },
      "source": [
        "# 1) import packages\n",
        "import pandas as pd\n",
        "from fbprophet import Prophet"
      ],
      "execution_count": 87,
      "outputs": []
    },
    {
      "cell_type": "code",
      "metadata": {
        "id": "Z5WaUqFn1338",
        "colab_type": "code",
        "colab": {}
      },
      "source": [
        "# 2) import the data from a csv file and assign it to a variable\n",
        "df = pd.read_csv('drive/My Drive/Churn/apple_base_monthly_jul.csv')"
      ],
      "execution_count": 89,
      "outputs": []
    },
    {
      "cell_type": "code",
      "metadata": {
        "id": "yATMV7UmcbQY",
        "colab_type": "code",
        "colab": {
          "base_uri": "https://localhost:8080/",
          "height": 204
        },
        "outputId": "dbc39dff-3fb1-4ced-c94b-5f6a03a9fb64"
      },
      "source": [
        "df.tail(5)"
      ],
      "execution_count": 90,
      "outputs": [
        {
          "output_type": "execute_result",
          "data": {
            "text/html": [
              "<div>\n",
              "<style scoped>\n",
              "    .dataframe tbody tr th:only-of-type {\n",
              "        vertical-align: middle;\n",
              "    }\n",
              "\n",
              "    .dataframe tbody tr th {\n",
              "        vertical-align: top;\n",
              "    }\n",
              "\n",
              "    .dataframe thead th {\n",
              "        text-align: right;\n",
              "    }\n",
              "</style>\n",
              "<table border=\"1\" class=\"dataframe\">\n",
              "  <thead>\n",
              "    <tr style=\"text-align: right;\">\n",
              "      <th></th>\n",
              "      <th>ds</th>\n",
              "      <th>y</th>\n",
              "    </tr>\n",
              "  </thead>\n",
              "  <tbody>\n",
              "    <tr>\n",
              "      <th>27</th>\n",
              "      <td>2020-03</td>\n",
              "      <td>46050400</td>\n",
              "    </tr>\n",
              "    <tr>\n",
              "      <th>28</th>\n",
              "      <td>2020-04</td>\n",
              "      <td>46200121</td>\n",
              "    </tr>\n",
              "    <tr>\n",
              "      <th>29</th>\n",
              "      <td>2020-05</td>\n",
              "      <td>46394741</td>\n",
              "    </tr>\n",
              "    <tr>\n",
              "      <th>30</th>\n",
              "      <td>2020-06</td>\n",
              "      <td>46662708</td>\n",
              "    </tr>\n",
              "    <tr>\n",
              "      <th>31</th>\n",
              "      <td>2020-07</td>\n",
              "      <td>46888945</td>\n",
              "    </tr>\n",
              "  </tbody>\n",
              "</table>\n",
              "</div>"
            ],
            "text/plain": [
              "         ds         y\n",
              "27  2020-03  46050400\n",
              "28  2020-04  46200121\n",
              "29  2020-05  46394741\n",
              "30  2020-06  46662708\n",
              "31  2020-07  46888945"
            ]
          },
          "metadata": {
            "tags": []
          },
          "execution_count": 90
        }
      ]
    },
    {
      "cell_type": "code",
      "metadata": {
        "id": "p9aU6Ol52cMY",
        "colab_type": "code",
        "colab": {}
      },
      "source": [
        "# 3) define the model \n",
        "model = Prophet()"
      ],
      "execution_count": 91,
      "outputs": []
    },
    {
      "cell_type": "code",
      "metadata": {
        "id": "mW9Uz81gf9Pn",
        "colab_type": "code",
        "colab": {
          "base_uri": "https://localhost:8080/",
          "height": 85
        },
        "outputId": "a0b01ff7-f9c3-4867-9a8a-1f9d67c9361c"
      },
      "source": [
        "# 4) fit the model to the data\n",
        "model.fit(df)"
      ],
      "execution_count": 92,
      "outputs": [
        {
          "output_type": "stream",
          "text": [
            "INFO:fbprophet:Disabling weekly seasonality. Run prophet with weekly_seasonality=True to override this.\n",
            "INFO:fbprophet:Disabling daily seasonality. Run prophet with daily_seasonality=True to override this.\n",
            "INFO:fbprophet:n_changepoints greater than number of observations. Using 24.\n"
          ],
          "name": "stderr"
        },
        {
          "output_type": "execute_result",
          "data": {
            "text/plain": [
              "<fbprophet.forecaster.Prophet at 0x7fae4bc61b38>"
            ]
          },
          "metadata": {
            "tags": []
          },
          "execution_count": 92
        }
      ]
    },
    {
      "cell_type": "code",
      "metadata": {
        "id": "KGeZwjUg3WGq",
        "colab_type": "code",
        "colab": {}
      },
      "source": [
        "# 5) create a dataframe to hold model predictions and assign it to a variable\n",
        "future = model.make_future_dataframe(periods = 10, freq = 'M')"
      ],
      "execution_count": 93,
      "outputs": []
    },
    {
      "cell_type": "code",
      "metadata": {
        "id": "CnfXysgM3oi3",
        "colab_type": "code",
        "colab": {}
      },
      "source": [
        "# 6) use the model to make predictions\n",
        "forecast = model.predict(future)"
      ],
      "execution_count": 94,
      "outputs": []
    },
    {
      "cell_type": "code",
      "metadata": {
        "id": "z-fHUzXw3xwz",
        "colab_type": "code",
        "colab": {
          "base_uri": "https://localhost:8080/",
          "height": 441
        },
        "outputId": "3adb6edb-c523-41e7-d69a-3307750d809d"
      },
      "source": [
        "fig = model.plot(forecast)"
      ],
      "execution_count": 95,
      "outputs": [
        {
          "output_type": "display_data",
          "data": {
            "image/png": "[encoded data removed]",
            "text/plain": [
              "<Figure size 720x432 with 1 Axes>"
            ]
          },
          "metadata": {
            "tags": []
          }
        }
      ]
    },
    {
      "cell_type": "code",
      "metadata": {
        "id": "lsB5kEsv5iTh",
        "colab_type": "code",
        "colab": {
          "base_uri": "https://localhost:8080/",
          "height": 421
        },
        "outputId": "62db3d68-c090-4b47-fb7c-4ca441af85c1"
      },
      "source": [
        "forecast[['ds', 'yhat']].tail(12)"
      ],
      "execution_count": 96,
      "outputs": [
        {
          "output_type": "execute_result",
          "data": {
            "text/html": [
              "<div>\n",
              "<style scoped>\n",
              "    .dataframe tbody tr th:only-of-type {\n",
              "        vertical-align: middle;\n",
              "    }\n",
              "\n",
              "    .dataframe tbody tr th {\n",
              "        vertical-align: top;\n",
              "    }\n",
              "\n",
              "    .dataframe thead th {\n",
              "        text-align: right;\n",
              "    }\n",
              "</style>\n",
              "<table border=\"1\" class=\"dataframe\">\n",
              "  <thead>\n",
              "    <tr style=\"text-align: right;\">\n",
              "      <th></th>\n",
              "      <th>ds</th>\n",
              "      <th>yhat</th>\n",
              "    </tr>\n",
              "  </thead>\n",
              "  <tbody>\n",
              "    <tr>\n",
              "      <th>30</th>\n",
              "      <td>2020-06-01</td>\n",
              "      <td>4.666271e+07</td>\n",
              "    </tr>\n",
              "    <tr>\n",
              "      <th>31</th>\n",
              "      <td>2020-07-01</td>\n",
              "      <td>4.688894e+07</td>\n",
              "    </tr>\n",
              "    <tr>\n",
              "      <th>32</th>\n",
              "      <td>2020-07-31</td>\n",
              "      <td>4.734229e+07</td>\n",
              "    </tr>\n",
              "    <tr>\n",
              "      <th>33</th>\n",
              "      <td>2020-08-31</td>\n",
              "      <td>4.733423e+07</td>\n",
              "    </tr>\n",
              "    <tr>\n",
              "      <th>34</th>\n",
              "      <td>2020-09-30</td>\n",
              "      <td>4.760344e+07</td>\n",
              "    </tr>\n",
              "    <tr>\n",
              "      <th>35</th>\n",
              "      <td>2020-10-31</td>\n",
              "      <td>4.819746e+07</td>\n",
              "    </tr>\n",
              "    <tr>\n",
              "      <th>36</th>\n",
              "      <td>2020-11-30</td>\n",
              "      <td>4.839183e+07</td>\n",
              "    </tr>\n",
              "    <tr>\n",
              "      <th>37</th>\n",
              "      <td>2020-12-31</td>\n",
              "      <td>4.853603e+07</td>\n",
              "    </tr>\n",
              "    <tr>\n",
              "      <th>38</th>\n",
              "      <td>2021-01-31</td>\n",
              "      <td>4.862003e+07</td>\n",
              "    </tr>\n",
              "    <tr>\n",
              "      <th>39</th>\n",
              "      <td>2021-02-28</td>\n",
              "      <td>4.846695e+07</td>\n",
              "    </tr>\n",
              "    <tr>\n",
              "      <th>40</th>\n",
              "      <td>2021-03-31</td>\n",
              "      <td>4.856911e+07</td>\n",
              "    </tr>\n",
              "    <tr>\n",
              "      <th>41</th>\n",
              "      <td>2021-04-30</td>\n",
              "      <td>4.892784e+07</td>\n",
              "    </tr>\n",
              "  </tbody>\n",
              "</table>\n",
              "</div>"
            ],
            "text/plain": [
              "           ds          yhat\n",
              "30 2020-06-01  4.666271e+07\n",
              "31 2020-07-01  4.688894e+07\n",
              "32 2020-07-31  4.734229e+07\n",
              "33 2020-08-31  4.733423e+07\n",
              "34 2020-09-30  4.760344e+07\n",
              "35 2020-10-31  4.819746e+07\n",
              "36 2020-11-30  4.839183e+07\n",
              "37 2020-12-31  4.853603e+07\n",
              "38 2021-01-31  4.862003e+07\n",
              "39 2021-02-28  4.846695e+07\n",
              "40 2021-03-31  4.856911e+07\n",
              "41 2021-04-30  4.892784e+07"
            ]
          },
          "metadata": {
            "tags": []
          },
          "execution_count": 96
        }
      ]
    },
    {
      "cell_type": "code",
      "metadata": {
        "id": "MsRj-RSp8zXI",
        "colab_type": "code",
        "colab": {}
      },
      "source": [
        "# 7) save the predictions to a csv file\n",
        "forecast.to_csv('drive/My Drive/Churn/apple_base_forecast_jul.csv')"
      ],
      "execution_count": 97,
      "outputs": []
    }
  ]
}