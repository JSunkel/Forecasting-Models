{
  "nbformat": 4,
  "nbformat_minor": 0,
  "metadata": {
    "colab": {
      "name": "Simple Reinforcement Learning Environment and Agent.ipynb",
      "provenance": [],
      "authorship_tag": "ABX9TyMQxWD8cpP142/0uB6r4L/Y",
      "include_colab_link": true
    },
    "kernelspec": {
      "name": "python3",
      "display_name": "Python 3"
    }
  },
  "cells": [
    {
      "cell_type": "markdown",
      "metadata": {
        "id": "view-in-github",
        "colab_type": "text"
      },
      "source": [
        "<a href=\"https://colab.research.google.com/github/JSunkel/Forecasting-Models/blob/master/Simple_Reinforcement_Learning_Environment_and_Agent.ipynb\" target=\"_parent\"><img src=\"https://colab.research.google.com/assets/colab-badge.svg\" alt=\"Open In Colab\"/></a>"
      ]
    },
    {
      "cell_type": "code",
      "metadata": {
        "id": "ycxwAKGTYSTD",
        "colab_type": "code",
        "colab": {}
      },
      "source": [
        "from typing import List\n",
        "import random"
      ],
      "execution_count": 6,
      "outputs": []
    },
    {
      "cell_type": "code",
      "metadata": {
        "id": "3-mu1U2-V4Cl",
        "colab_type": "code",
        "colab": {}
      },
      "source": [
        "class Environment:\n",
        "  def __init__(self):\n",
        "    self.steps_left = 10\n",
        "\n",
        "  def get_observation(self) -> List[float]:\n",
        "    return [0.0, 0.0, 0.0]\n",
        "\n",
        "  def get_actions(self) -> List[int]:\n",
        "    return [0, 1]\n",
        "\n",
        "  def is_done(self) -> bool:\n",
        "    return self.steps_left == 0\n",
        "\n",
        "  def action(self, action: int) -> float:\n",
        "    if self.is_done():\n",
        "      raise Exception(\"Game is over\")\n",
        "    self.steps_left -= 1\n",
        "    return random.random()"
      ],
      "execution_count": 7,
      "outputs": []
    },
    {
      "cell_type": "code",
      "metadata": {
        "id": "NBtXmfJHYdbu",
        "colab_type": "code",
        "colab": {}
      },
      "source": [
        "class Agent:\n",
        "  def __init__(self):\n",
        "    self.total_reward = 0.0\n",
        "\n",
        "  def step(self, env: Environment):\n",
        "    current_obs = env.get_observation()\n",
        "    actions = env.get_actions()\n",
        "    reward = env.action(random.choice(actions))\n",
        "    self.total_reward += reward"
      ],
      "execution_count": 8,
      "outputs": []
    },
    {
      "cell_type": "code",
      "metadata": {
        "id": "yV0tQbhEZDKl",
        "colab_type": "code",
        "colab": {
          "base_uri": "https://localhost:8080/",
          "height": 34
        },
        "outputId": "8b9941e3-ff67-46e0-b6f3-20496ac89e3f"
      },
      "source": [
        "if __name__ == \"__main__\":\n",
        "  env = Environment()\n",
        "  agent = Agent()\n",
        "  while not env.is_done():\n",
        "    agent.step(env)\n",
        "  print(\"Total reward: %.4f\" % agent.total_reward)"
      ],
      "execution_count": 14,
      "outputs": [
        {
          "output_type": "stream",
          "text": [
            "Total reward: 4.7309\n"
          ],
          "name": "stdout"
        }
      ]
    }
  ]
}