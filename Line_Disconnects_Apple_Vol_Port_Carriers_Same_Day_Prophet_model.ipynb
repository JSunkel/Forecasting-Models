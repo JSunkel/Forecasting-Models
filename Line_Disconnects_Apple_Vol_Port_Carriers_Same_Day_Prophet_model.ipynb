{
  "nbformat": 4,
  "nbformat_minor": 0,
  "metadata": {
    "colab": {
      "name": "Copy of Upgrades Samsung Phone Prophet model.ipynb",
      "provenance": [],
      "include_colab_link": true
    },
    "kernelspec": {
      "name": "python3",
      "display_name": "Python 3"
    }
  },
  "cells": [
    {
      "cell_type": "markdown",
      "metadata": {
        "id": "view-in-github",
        "colab_type": "text"
      },
      "source": [
        "<a href=\"https://colab.research.google.com/github/JSunkel/Forecasting-Models/blob/master/Line_Disconnects_Apple_Vol_Port_Carriers_Same_Day_Prophet_model.ipynb\" target=\"_parent\"><img src=\"https://colab.research.google.com/assets/colab-badge.svg\" alt=\"Open In Colab\"/></a>"
      ]
    },
    {
      "cell_type": "code",
      "metadata": {
        "id": "127ZL5DNa_DK",
        "colab_type": "code",
        "colab": {}
      },
      "source": [
        "import pandas as pd\n",
        "import numpy as np\n",
        "from fbprophet import Prophet"
      ],
      "execution_count": 2,
      "outputs": []
    },
    {
      "cell_type": "code",
      "metadata": {
        "id": "7L_hdOufbEyU",
        "colab_type": "code",
        "colab": {}
      },
      "source": [
        "# Read a comma-separated values (csv) file into a Pandas DataFrame.\n",
        "fact_table = pd.read_csv('drive/My Drive/Churn/discos_fact_table_apple_vol_port_carriers_same_day_may.csv')"
      ],
      "execution_count": 3,
      "outputs": []
    },
    {
      "cell_type": "code",
      "metadata": {
        "id": "b2k68K1N-REn",
        "colab_type": "code",
        "colab": {
          "base_uri": "https://localhost:8080/",
          "height": 224
        },
        "outputId": "af734c4f-606e-404f-8fb1-8712580531a9"
      },
      "source": [
        "# Check the full dataset format (testing only)\n",
        "fact_table.head()"
      ],
      "execution_count": 4,
      "outputs": [
        {
          "output_type": "execute_result",
          "data": {
            "text/html": [
              "<div>\n",
              "<style scoped>\n",
              "    .dataframe tbody tr th:only-of-type {\n",
              "        vertical-align: middle;\n",
              "    }\n",
              "\n",
              "    .dataframe tbody tr th {\n",
              "        vertical-align: top;\n",
              "    }\n",
              "\n",
              "    .dataframe thead th {\n",
              "        text-align: right;\n",
              "    }\n",
              "</style>\n",
              "<table border=\"1\" class=\"dataframe\">\n",
              "  <thead>\n",
              "    <tr style=\"text-align: right;\">\n",
              "      <th></th>\n",
              "      <th>ds</th>\n",
              "      <th>vol_port_attonly</th>\n",
              "      <th>vol_port_attcc</th>\n",
              "      <th>vol_port_sprint</th>\n",
              "      <th>vol_port_tmo_only</th>\n",
              "      <th>vol_port_metro</th>\n",
              "      <th>vol_port_spectrum</th>\n",
              "      <th>vol_port_xfinity</th>\n",
              "      <th>vol_port_reseller</th>\n",
              "      <th>vol_port_other</th>\n",
              "    </tr>\n",
              "  </thead>\n",
              "  <tbody>\n",
              "    <tr>\n",
              "      <th>0</th>\n",
              "      <td>12/1/2016</td>\n",
              "      <td>318</td>\n",
              "      <td>67</td>\n",
              "      <td>242</td>\n",
              "      <td>264</td>\n",
              "      <td>44</td>\n",
              "      <td>0</td>\n",
              "      <td>0</td>\n",
              "      <td>80</td>\n",
              "      <td>18</td>\n",
              "    </tr>\n",
              "    <tr>\n",
              "      <th>1</th>\n",
              "      <td>12/2/2016</td>\n",
              "      <td>401</td>\n",
              "      <td>69</td>\n",
              "      <td>247</td>\n",
              "      <td>288</td>\n",
              "      <td>41</td>\n",
              "      <td>0</td>\n",
              "      <td>0</td>\n",
              "      <td>47</td>\n",
              "      <td>24</td>\n",
              "    </tr>\n",
              "    <tr>\n",
              "      <th>2</th>\n",
              "      <td>12/3/2016</td>\n",
              "      <td>625</td>\n",
              "      <td>63</td>\n",
              "      <td>378</td>\n",
              "      <td>364</td>\n",
              "      <td>45</td>\n",
              "      <td>0</td>\n",
              "      <td>0</td>\n",
              "      <td>61</td>\n",
              "      <td>30</td>\n",
              "    </tr>\n",
              "    <tr>\n",
              "      <th>3</th>\n",
              "      <td>12/4/2016</td>\n",
              "      <td>480</td>\n",
              "      <td>56</td>\n",
              "      <td>326</td>\n",
              "      <td>372</td>\n",
              "      <td>57</td>\n",
              "      <td>0</td>\n",
              "      <td>0</td>\n",
              "      <td>52</td>\n",
              "      <td>13</td>\n",
              "    </tr>\n",
              "    <tr>\n",
              "      <th>4</th>\n",
              "      <td>12/5/2016</td>\n",
              "      <td>426</td>\n",
              "      <td>55</td>\n",
              "      <td>281</td>\n",
              "      <td>287</td>\n",
              "      <td>42</td>\n",
              "      <td>0</td>\n",
              "      <td>0</td>\n",
              "      <td>45</td>\n",
              "      <td>18</td>\n",
              "    </tr>\n",
              "  </tbody>\n",
              "</table>\n",
              "</div>"
            ],
            "text/plain": [
              "          ds  vol_port_attonly  ...  vol_port_reseller  vol_port_other\n",
              "0  12/1/2016               318  ...                 80              18\n",
              "1  12/2/2016               401  ...                 47              24\n",
              "2  12/3/2016               625  ...                 61              30\n",
              "3  12/4/2016               480  ...                 52              13\n",
              "4  12/5/2016               426  ...                 45              18\n",
              "\n",
              "[5 rows x 10 columns]"
            ]
          },
          "metadata": {
            "tags": []
          },
          "execution_count": 4
        }
      ]
    },
    {
      "cell_type": "code",
      "metadata": {
        "id": "gB5Ps8AauIU2",
        "colab_type": "code",
        "colab": {}
      },
      "source": [
        "# Split out indivudal datasets for forecasting.\n",
        "# AT&T\n",
        "vol_port_attonly = fact_table[['ds', 'vol_port_attonly']].rename(columns = {'vol_port_attonly': 'y'})\n",
        "vol_port_attcc = fact_table[['ds', 'vol_port_attcc']].rename(columns = {'vol_port_attcc': 'y'})\n",
        "\n",
        "# Sprint\n",
        "vol_port_sprint = fact_table[['ds', 'vol_port_sprint']].rename(columns = {'vol_port_sprint': 'y'})\n",
        "\n",
        "# T-Mobile\n",
        "vol_port_tmo_only = fact_table[['ds', 'vol_port_tmo_only']].rename(columns = {'vol_port_tmo_only': 'y'})\n",
        "vol_port_metro = fact_table[['ds', 'vol_port_metro']].rename(columns = {'vol_port_metro': 'y'})\n",
        "\n",
        "# Spectrum\n",
        "vol_port_spectrum = fact_table[['ds', 'vol_port_spectrum']].rename(columns = {'vol_port_spectrum': 'y'})\n",
        "\n",
        "# Xfinity\n",
        "vol_port_xfinity = fact_table[['ds', 'vol_port_xfinity']].rename(columns = {'vol_port_xfinity': 'y'})\n",
        "\n",
        "# Reseller\n",
        "vol_port_reseller = fact_table[['ds', 'vol_port_reseller']].rename(columns = {'vol_port_reseller': 'y'})\n",
        "\n",
        "# Other\n",
        "vol_port_other = fact_table[['ds', 'vol_port_other']].rename(columns = {'vol_port_other': 'y'})"
      ],
      "execution_count": 6,
      "outputs": []
    },
    {
      "cell_type": "code",
      "metadata": {
        "id": "w-J4F09yvCsP",
        "colab_type": "code",
        "colab": {
          "base_uri": "https://localhost:8080/",
          "height": 204
        },
        "outputId": "343cdf7c-1004-447b-8e2a-9283fd004016"
      },
      "source": [
        "# Check the individual dataset format (testing only)\n",
        "vol_port_sprint.head()"
      ],
      "execution_count": 7,
      "outputs": [
        {
          "output_type": "execute_result",
          "data": {
            "text/html": [
              "<div>\n",
              "<style scoped>\n",
              "    .dataframe tbody tr th:only-of-type {\n",
              "        vertical-align: middle;\n",
              "    }\n",
              "\n",
              "    .dataframe tbody tr th {\n",
              "        vertical-align: top;\n",
              "    }\n",
              "\n",
              "    .dataframe thead th {\n",
              "        text-align: right;\n",
              "    }\n",
              "</style>\n",
              "<table border=\"1\" class=\"dataframe\">\n",
              "  <thead>\n",
              "    <tr style=\"text-align: right;\">\n",
              "      <th></th>\n",
              "      <th>ds</th>\n",
              "      <th>y</th>\n",
              "    </tr>\n",
              "  </thead>\n",
              "  <tbody>\n",
              "    <tr>\n",
              "      <th>0</th>\n",
              "      <td>12/1/2016</td>\n",
              "      <td>242</td>\n",
              "    </tr>\n",
              "    <tr>\n",
              "      <th>1</th>\n",
              "      <td>12/2/2016</td>\n",
              "      <td>247</td>\n",
              "    </tr>\n",
              "    <tr>\n",
              "      <th>2</th>\n",
              "      <td>12/3/2016</td>\n",
              "      <td>378</td>\n",
              "    </tr>\n",
              "    <tr>\n",
              "      <th>3</th>\n",
              "      <td>12/4/2016</td>\n",
              "      <td>326</td>\n",
              "    </tr>\n",
              "    <tr>\n",
              "      <th>4</th>\n",
              "      <td>12/5/2016</td>\n",
              "      <td>281</td>\n",
              "    </tr>\n",
              "  </tbody>\n",
              "</table>\n",
              "</div>"
            ],
            "text/plain": [
              "          ds    y\n",
              "0  12/1/2016  242\n",
              "1  12/2/2016  247\n",
              "2  12/3/2016  378\n",
              "3  12/4/2016  326\n",
              "4  12/5/2016  281"
            ]
          },
          "metadata": {
            "tags": []
          },
          "execution_count": 7
        }
      ]
    },
    {
      "cell_type": "code",
      "metadata": {
        "id": "qd0uiS7nbKIQ",
        "colab_type": "code",
        "colab": {}
      },
      "source": [
        "# Define the holidays\n",
        "new_years_day = pd.DataFrame({\n",
        "    'holiday': 'new_years_day',\n",
        "    'ds': pd.to_datetime(['2017-01-01',\n",
        "                          '2018-01-01',\n",
        "                          '2019-01-01',\n",
        "                          '2020-01-01']),\n",
        "    'lower_window': 0,\n",
        "    'upper_window': 0,\n",
        "})\n",
        "\n",
        "mlk_day = pd.DataFrame({\n",
        "    'holiday': 'mlk_day',\n",
        "    'ds': pd.to_datetime(['2017-01-16',\n",
        "                          '2018-01-15',\n",
        "                          '2019-01-21',\n",
        "                          '2020-01-20']),\n",
        "    'lower_window': 0,\n",
        "    'upper_window': 0,\n",
        "})\n",
        "\n",
        "easter_sunday = pd.DataFrame({\n",
        "    'holiday': 'easter_sunday',\n",
        "    'ds': pd.to_datetime(['2017-04-16',\n",
        "                          '2018-04-01',\n",
        "                          '2019-04-21',\n",
        "                          '2020-04-12']),\n",
        "    'lower_window': 0,\n",
        "    'upper_window': 0,\n",
        "})\n",
        "\n",
        "memorial_day = pd.DataFrame({\n",
        "    'holiday': 'memorial_day',\n",
        "    'ds': pd.to_datetime(['2017-05-29',\n",
        "                          '2018-05-28',\n",
        "                          '2019-05-27',\n",
        "                          '2020-05-25']),\n",
        "    'lower_window': 0,\n",
        "    'upper_window': 0,\n",
        "})\n",
        "\n",
        "independence_day = pd.DataFrame({\n",
        "    'holiday': 'independence_day',\n",
        "    'ds': pd.to_datetime(['2017-07-04',\n",
        "                          '2018-07-04',\n",
        "                          '2019-07-04',\n",
        "                          '2020-07-04']),\n",
        "    'lower_window': 0,\n",
        "    'upper_window': 0,\n",
        "})\n",
        "\n",
        "labor_day = pd.DataFrame({\n",
        "    'holiday': 'labor_day',\n",
        "    'ds': pd.to_datetime(['2017-09-04',\n",
        "                          '2018-09-03',\n",
        "                          '2019-09-02',\n",
        "                          '2020-09-07']),\n",
        "    'lower_window': 0,\n",
        "    'upper_window': 0,\n",
        "})\n",
        "\n",
        "thanksgiving_day = pd.DataFrame({\n",
        "    'holiday': 'thanksgiving_day',\n",
        "    'ds': pd.to_datetime(['2017-11-23',\n",
        "                          '2018-11-22',\n",
        "                          '2019-11-28',\n",
        "                          '2020-11-26']),\n",
        "    'lower_window': 0,\n",
        "    'upper_window': 0,\n",
        "})\n",
        "\n",
        "black_friday = pd.DataFrame({\n",
        "    'holiday': 'black_friday',\n",
        "    'ds': pd.to_datetime(['2017-11-24',\n",
        "                          '2018-11-23',\n",
        "                          '2019-11-29',\n",
        "                          '2020-11-27']),\n",
        "    'lower_window': 0,\n",
        "    'upper_window': 0,\n",
        "})\n",
        "\n",
        "cyber_monday = pd.DataFrame({\n",
        "    'holiday': 'cyber_monday',\n",
        "    'ds': pd.to_datetime(['2017-11-27',\n",
        "                          '2018-11-26',\n",
        "                          '2019-12-02',\n",
        "                          '2020-11-30']),\n",
        "    'lower_window': 0,\n",
        "    'upper_window': 0,\n",
        "})\n",
        "\n",
        "christmas_day = pd.DataFrame({\n",
        "    'holiday': 'christmas_day',\n",
        "    'ds': pd.to_datetime(['2017-12-25',\n",
        "                          '2018-12-25',\n",
        "                          '2019-12-25',\n",
        "                          '2020-12-25']),\n",
        "    'lower_window': 0,\n",
        "    'upper_window': 0,\n",
        "})"
      ],
      "execution_count": 8,
      "outputs": []
    },
    {
      "cell_type": "code",
      "metadata": {
        "id": "u_wSeXwgsSRo",
        "colab_type": "code",
        "colab": {}
      },
      "source": [
        "holidays = pd.concat((new_years_day,\n",
        "                      mlk_day,\n",
        "                      easter_sunday,\n",
        "                      memorial_day,\n",
        "                      independence_day,\n",
        "                      labor_day,\n",
        "                      thanksgiving_day,\n",
        "                      black_friday,\n",
        "                      cyber_monday,\n",
        "                      christmas_day))"
      ],
      "execution_count": 9,
      "outputs": []
    },
    {
      "cell_type": "code",
      "metadata": {
        "id": "LehjGgIJbf8D",
        "colab_type": "code",
        "colab": {}
      },
      "source": [
        "# Define the models\n",
        "# AT&T\n",
        "vol_port_attonly_model = Prophet(holidays = holidays)\n",
        "vol_port_attcc_model = Prophet(holidays = holidays)\n",
        "\n",
        "# Sprint\n",
        "vol_port_sprint_model = Prophet(holidays = holidays)\n",
        "\n",
        "# T-Mobile\n",
        "vol_port_tmo_only_model = Prophet(holidays = holidays)\n",
        "vol_port_metro_model = Prophet(holidays = holidays)\n",
        "\n",
        "# Spectrum\n",
        "vol_port_spectrum_model = Prophet(holidays = holidays)\n",
        "\n",
        "# Xfinity\n",
        "vol_port_xfinity_model = Prophet(holidays = holidays)\n",
        "\n",
        "# Reseller\n",
        "vol_port_reseller_model = Prophet(holidays = holidays)\n",
        "\n",
        "# Other\n",
        "vol_port_other_model = Prophet(holidays = holidays)"
      ],
      "execution_count": 10,
      "outputs": []
    },
    {
      "cell_type": "code",
      "metadata": {
        "id": "VB9qPMgqetKz",
        "colab_type": "code",
        "colab": {
          "base_uri": "https://localhost:8080/",
          "height": 204
        },
        "outputId": "b76c2184-2e9d-47a2-a4f5-c2193b3f59b9"
      },
      "source": [
        "# Fit the models\n",
        "# AT&T\n",
        "vol_port_attonly_model.fit(vol_port_attonly)\n",
        "vol_port_attcc_model.fit(vol_port_attcc)\n",
        "\n",
        "# Sprint\n",
        "vol_port_sprint_model.fit(vol_port_sprint)\n",
        "\n",
        "# T-Mobile\n",
        "vol_port_tmo_only_model.fit(vol_port_tmo_only)\n",
        "vol_port_metro_model.fit(vol_port_metro)\n",
        "\n",
        "# Spectrum\n",
        "vol_port_spectrum_model.fit(vol_port_spectrum)\n",
        "\n",
        "# Xfinity\n",
        "vol_port_xfinity_model.fit(vol_port_xfinity)\n",
        "\n",
        "# Reseller\n",
        "vol_port_reseller_model.fit(vol_port_reseller)\n",
        "\n",
        "# Other\n",
        "vol_port_other_model.fit(vol_port_other)"
      ],
      "execution_count": 11,
      "outputs": [
        {
          "output_type": "stream",
          "text": [
            "INFO:numexpr.utils:NumExpr defaulting to 2 threads.\n",
            "INFO:fbprophet:Disabling daily seasonality. Run prophet with daily_seasonality=True to override this.\n",
            "INFO:fbprophet:Disabling daily seasonality. Run prophet with daily_seasonality=True to override this.\n",
            "INFO:fbprophet:Disabling daily seasonality. Run prophet with daily_seasonality=True to override this.\n",
            "INFO:fbprophet:Disabling daily seasonality. Run prophet with daily_seasonality=True to override this.\n",
            "INFO:fbprophet:Disabling daily seasonality. Run prophet with daily_seasonality=True to override this.\n",
            "INFO:fbprophet:Disabling daily seasonality. Run prophet with daily_seasonality=True to override this.\n",
            "INFO:fbprophet:Disabling daily seasonality. Run prophet with daily_seasonality=True to override this.\n",
            "INFO:fbprophet:Disabling daily seasonality. Run prophet with daily_seasonality=True to override this.\n",
            "INFO:fbprophet:Disabling daily seasonality. Run prophet with daily_seasonality=True to override this.\n"
          ],
          "name": "stderr"
        },
        {
          "output_type": "execute_result",
          "data": {
            "text/plain": [
              "<fbprophet.forecaster.Prophet at 0x7f3b4aa23198>"
            ]
          },
          "metadata": {
            "tags": []
          },
          "execution_count": 11
        }
      ]
    },
    {
      "cell_type": "code",
      "metadata": {
        "id": "Dr1zK_B1s806",
        "colab_type": "code",
        "colab": {}
      },
      "source": [
        "# Number of periods into the future to forecast\n",
        "n = 214"
      ],
      "execution_count": 12,
      "outputs": []
    },
    {
      "cell_type": "code",
      "metadata": {
        "id": "dWot8dxibsxd",
        "colab_type": "code",
        "colab": {}
      },
      "source": [
        "# Create dataframes to hold predictions\n",
        "# AT&T\n",
        "vol_port_attonly_future = vol_port_attonly_model.make_future_dataframe(periods = n)\n",
        "vol_port_attcc_future = vol_port_attcc_model.make_future_dataframe(periods = n)\n",
        "\n",
        "# Sprint\n",
        "vol_port_sprint_future = vol_port_sprint_model.make_future_dataframe(periods = n)\n",
        "\n",
        "# T-Mobile\n",
        "vol_port_tmo_only_future = vol_port_tmo_only_model.make_future_dataframe(periods = n)\n",
        "vol_port_metro_future = vol_port_metro_model.make_future_dataframe(periods = n)\n",
        "\n",
        "# Spectrum\n",
        "vol_port_spectrum_future = vol_port_spectrum_model.make_future_dataframe(periods = n)\n",
        "\n",
        "# Xfinity\n",
        "vol_port_xfinity_future = vol_port_xfinity_model.make_future_dataframe(periods = n)\n",
        "\n",
        "# Reseller\n",
        "vol_port_reseller_future = vol_port_reseller_model.make_future_dataframe(periods = n)\n",
        "\n",
        "# Other\n",
        "vol_port_other_future = vol_port_other_model.make_future_dataframe(periods = n)"
      ],
      "execution_count": 14,
      "outputs": []
    },
    {
      "cell_type": "code",
      "metadata": {
        "id": "Q_Donl0Tbygx",
        "colab_type": "code",
        "colab": {}
      },
      "source": [
        "# Make predictions\n",
        "# AT&T\n",
        "vol_port_att_only_forecast = vol_port_att_only_model.predict(vol_port_att_only_future)\n",
        "vol_port_attcc_forecast = vol_port_attcc_model.predict(vol_port_attcc_future)\n",
        "\n",
        "# Sprint\n",
        "vol_port_sprint_forecast = vol_port_sprint_model.predict(vol_port_sprint_future)\n",
        "\n",
        "# T-Mobile\n",
        "vol_port_tmo_only_forecast = vol_port_tmo_only_model.predict(vol_port_tmo_only_future)\n",
        "vol_port_metro_forecast = vol_port_metro_model.predict(vol_port_metro_future)\n",
        "\n",
        "# Spectrum\n",
        "vol_port_spectrum_forecast = vol_port_spectrum_model.predict(vol_port_spectrum_future)\n",
        "\n",
        "# Xfinity\n",
        "vol_port_xfinity_forecast = vol_port_xfinity_model.predict(vol_port_xfinity_future)\n",
        "\n",
        "# Reseller\n",
        "vol_port_reseller_forecast = vol_port_reseller_model.predict(vol_port_reseller_future)\n",
        "\n",
        "# Other\n",
        "vol_port_other_forecast = vol_port_other_model.predict(vol_port_other_future)"
      ],
      "execution_count": null,
      "outputs": []
    },
    {
      "cell_type": "code",
      "metadata": {
        "id": "gvPtOAf2sDOD",
        "colab_type": "code",
        "colab": {}
      },
      "source": [
        "# Get the datestamp and prediction columns\n",
        "# AT&T\n",
        "vol_port_basic_cdma_forecast_subset = vol_port_basic_cdma_forecast[['ds', 'yhat']].rename(columns = {'yhat': 'Vol_Port_Basic_CDMA'})\n",
        "vol_port_basic_non_cdma_forecast_subset = vol_port_basic_non_cdma_forecast[['ds', 'yhat']].rename(columns = {'yhat': 'Vol_Port_Basic_non_CDMA'})\n",
        "\n",
        "\n",
        "vol_port_sp_android_other_forecast_subset = vol_port_sp_android_other_forecast[['ds', 'yhat']].rename(columns = {'yhat': 'Vol_Port_SP_Android_Other'})\n",
        "vol_port_sp_apple_forecast_subset = vol_port_sp_apple_forecast[['ds', 'yhat']].rename(columns = {'yhat': 'Vol_Port_SP_Apple'})\n",
        "\n",
        "# Voluntary non Port Outs\n",
        "vol_non_port_basic_cdma_forecast_subset = vol_non_port_basic_cdma_forecast[['ds', 'yhat']].rename(columns = {'yhat': 'Vol_Non_Port_Basic_CDMA'})\n",
        "vol_non_port_basic_non_cdma_forecast_subset = vol_non_port_basic_non_cdma_forecast[['ds', 'yhat']].rename(columns = {'yhat': 'Vol_Non_Port_Basic_non_CDMA'})\n",
        "vol_non_port_sp_android_other_forecast_subset = vol_non_port_sp_android_other_forecast[['ds', 'yhat']].rename(columns = {'yhat': 'Vol_Non_Port_SP_Android_Other'})\n",
        "vol_non_port_sp_apple_forecast_subset = vol_non_port_sp_apple_forecast[['ds', 'yhat']].rename(columns = {'yhat': 'Vol_Non_Port_SP_Apple'})\n",
        "\n",
        "# Involuntary\n",
        "invol_basic_cdma_forecast_subset = invol_basic_cdma_forecast[['ds', 'yhat']].rename(columns = {'yhat': 'Invol_Basic_CDMA'})\n",
        "invol_basic_non_cdma_forecast_subset = invol_basic_non_cdma_forecast[['ds', 'yhat']].rename(columns = {'yhat': 'Invol_Basic_non_CDMA'})\n",
        "invol_sp_android_other_forecast_subset = invol_sp_android_other_forecast[['ds', 'yhat']].rename(columns = {'yhat': 'Invol_SP_Android_Other'})\n",
        "invol_sp_apple_forecast_subset = invol_sp_apple_forecast[['ds', 'yhat']].rename(columns = {'yhat': 'Invol_SP_Apple'})"
      ],
      "execution_count": null,
      "outputs": []
    },
    {
      "cell_type": "code",
      "metadata": {
        "id": "Er7OBgy4sI_I",
        "colab_type": "code",
        "colab": {
          "base_uri": "https://localhost:8080/",
          "height": 204
        },
        "outputId": "ff1aa205-a2fa-41ca-826c-7e8d4d44f488"
      },
      "source": [
        "# Check the format of the subsetted forecasts (testing only)\n",
        "vol_port_basic_cdma_forecast_subset.tail()"
      ],
      "execution_count": null,
      "outputs": [
        {
          "output_type": "execute_result",
          "data": {
            "text/html": [
              "<div>\n",
              "<style scoped>\n",
              "    .dataframe tbody tr th:only-of-type {\n",
              "        vertical-align: middle;\n",
              "    }\n",
              "\n",
              "    .dataframe tbody tr th {\n",
              "        vertical-align: top;\n",
              "    }\n",
              "\n",
              "    .dataframe thead th {\n",
              "        text-align: right;\n",
              "    }\n",
              "</style>\n",
              "<table border=\"1\" class=\"dataframe\">\n",
              "  <thead>\n",
              "    <tr style=\"text-align: right;\">\n",
              "      <th></th>\n",
              "      <th>ds</th>\n",
              "      <th>Vol_Port_Basic_CDMA</th>\n",
              "    </tr>\n",
              "  </thead>\n",
              "  <tbody>\n",
              "    <tr>\n",
              "      <th>1487</th>\n",
              "      <td>2020-12-27</td>\n",
              "      <td>44.519242</td>\n",
              "    </tr>\n",
              "    <tr>\n",
              "      <th>1488</th>\n",
              "      <td>2020-12-28</td>\n",
              "      <td>80.730564</td>\n",
              "    </tr>\n",
              "    <tr>\n",
              "      <th>1489</th>\n",
              "      <td>2020-12-29</td>\n",
              "      <td>78.378351</td>\n",
              "    </tr>\n",
              "    <tr>\n",
              "      <th>1490</th>\n",
              "      <td>2020-12-30</td>\n",
              "      <td>80.871392</td>\n",
              "    </tr>\n",
              "    <tr>\n",
              "      <th>1491</th>\n",
              "      <td>2020-12-31</td>\n",
              "      <td>81.132873</td>\n",
              "    </tr>\n",
              "  </tbody>\n",
              "</table>\n",
              "</div>"
            ],
            "text/plain": [
              "             ds  Vol_Port_Basic_CDMA\n",
              "1487 2020-12-27            44.519242\n",
              "1488 2020-12-28            80.730564\n",
              "1489 2020-12-29            78.378351\n",
              "1490 2020-12-30            80.871392\n",
              "1491 2020-12-31            81.132873"
            ]
          },
          "metadata": {
            "tags": []
          },
          "execution_count": 109
        }
      ]
    },
    {
      "cell_type": "code",
      "metadata": {
        "id": "5XrR_uTnC4M6",
        "colab_type": "code",
        "colab": {}
      },
      "source": [
        "# Growth multiplier\n",
        "gm = 1.00"
      ],
      "execution_count": null,
      "outputs": []
    },
    {
      "cell_type": "code",
      "metadata": {
        "id": "3QezWJW-DCC9",
        "colab_type": "code",
        "colab": {}
      },
      "source": [
        "# Replace any negative values and scale the forecast using the growth multiplier\n",
        "# Voluntary Port Outs \n",
        "vol_port_basic_cdma_forecast_subset['Vol_Port_Basic_CDMA'] = vol_port_basic_cdma_forecast_subset['Vol_Port_Basic_CDMA'].abs() * gm\n",
        "vol_port_basic_non_cdma_forecast_subset['Vol_Port_Basic_non_CDMA'] = vol_port_basic_non_cdma_forecast_subset['Vol_Port_Basic_non_CDMA'].abs() * gm\n",
        "vol_port_sp_android_other_forecast_subset['Vol_Port_SP_Android_Other'] = vol_port_sp_android_other_forecast_subset['Vol_Port_SP_Android_Other'].abs() * gm\n",
        "vol_port_sp_apple_forecast_subset['Vol_Port_SP_Apple'] = vol_port_sp_apple_forecast_subset['Vol_Port_SP_Apple'].abs() * gm\n",
        "\n",
        "# Voluntary non Port Outs\n",
        "vol_non_port_basic_cdma_forecast_subset['Vol_Non_Port_Basic_CDMA'] = vol_non_port_basic_cdma_forecast_subset['Vol_Non_Port_Basic_CDMA'].abs() * gm\n",
        "vol_non_port_basic_non_cdma_forecast_subset['Vol_Non_Port_Basic_non_CDMA'] = vol_non_port_basic_non_cdma_forecast_subset['Vol_Non_Port_Basic_non_CDMA'].abs() * gm\n",
        "vol_non_port_sp_android_other_forecast_subset['Vol_Non_Port_SP_Android_Other'] = vol_non_port_sp_android_other_forecast_subset['Vol_Non_Port_SP_Android_Other'].abs() * gm\n",
        "vol_non_port_sp_apple_forecast_subset['Vol_Non_Port_SP_Apple'] = vol_non_port_sp_apple_forecast_subset['Vol_Non_Port_SP_Apple'].abs() * gm\n",
        "\n",
        "# Involuntary\n",
        "invol_basic_cdma_forecast_subset['Invol_Basic_CDMA'] = invol_basic_cdma_forecast_subset['Invol_Basic_CDMA'].abs() * gm\n",
        "invol_basic_non_cdma_forecast_subset['Invol_Basic_non_CDMA'] = invol_basic_non_cdma_forecast_subset['Invol_Basic_non_CDMA'].abs() * gm\n",
        "invol_sp_android_other_forecast_subset['Invol_SP_Android_Other'] = invol_sp_android_other_forecast_subset['Invol_SP_Android_Other'].abs() * gm\n",
        "invol_sp_apple_forecast_subset['Invol_SP_Apple'] = invol_sp_apple_forecast_subset['Invol_SP_Apple'].abs() * gm"
      ],
      "execution_count": null,
      "outputs": []
    },
    {
      "cell_type": "code",
      "metadata": {
        "id": "3dWhmIu1DTAH",
        "colab_type": "code",
        "colab": {
          "base_uri": "https://localhost:8080/",
          "height": 204
        },
        "outputId": "242fd41c-ec53-43a0-e7da-44563bc74fb0"
      },
      "source": [
        "# Check the format of the adjusted forecasts (testing only)\n",
        "vol_port_sp_apple_forecast_subset.tail()"
      ],
      "execution_count": null,
      "outputs": [
        {
          "output_type": "execute_result",
          "data": {
            "text/html": [
              "<div>\n",
              "<style scoped>\n",
              "    .dataframe tbody tr th:only-of-type {\n",
              "        vertical-align: middle;\n",
              "    }\n",
              "\n",
              "    .dataframe tbody tr th {\n",
              "        vertical-align: top;\n",
              "    }\n",
              "\n",
              "    .dataframe thead th {\n",
              "        text-align: right;\n",
              "    }\n",
              "</style>\n",
              "<table border=\"1\" class=\"dataframe\">\n",
              "  <thead>\n",
              "    <tr style=\"text-align: right;\">\n",
              "      <th></th>\n",
              "      <th>ds</th>\n",
              "      <th>Vol_Port_SP_Apple</th>\n",
              "    </tr>\n",
              "  </thead>\n",
              "  <tbody>\n",
              "    <tr>\n",
              "      <th>1487</th>\n",
              "      <td>2020-12-27</td>\n",
              "      <td>590.533000</td>\n",
              "    </tr>\n",
              "    <tr>\n",
              "      <th>1488</th>\n",
              "      <td>2020-12-28</td>\n",
              "      <td>749.989547</td>\n",
              "    </tr>\n",
              "    <tr>\n",
              "      <th>1489</th>\n",
              "      <td>2020-12-29</td>\n",
              "      <td>704.426314</td>\n",
              "    </tr>\n",
              "    <tr>\n",
              "      <th>1490</th>\n",
              "      <td>2020-12-30</td>\n",
              "      <td>731.146093</td>\n",
              "    </tr>\n",
              "    <tr>\n",
              "      <th>1491</th>\n",
              "      <td>2020-12-31</td>\n",
              "      <td>717.044047</td>\n",
              "    </tr>\n",
              "  </tbody>\n",
              "</table>\n",
              "</div>"
            ],
            "text/plain": [
              "             ds  Vol_Port_SP_Apple\n",
              "1487 2020-12-27         590.533000\n",
              "1488 2020-12-28         749.989547\n",
              "1489 2020-12-29         704.426314\n",
              "1490 2020-12-30         731.146093\n",
              "1491 2020-12-31         717.044047"
            ]
          },
          "metadata": {
            "tags": []
          },
          "execution_count": 112
        }
      ]
    },
    {
      "cell_type": "code",
      "metadata": {
        "id": "8m446XCi_AqF",
        "colab_type": "code",
        "colab": {}
      },
      "source": [
        "# Combine the forecasts into one table\n",
        "# Voluntary Port Outs\n",
        "discos_device_grp_phone_pred_table = vol_port_basic_cdma_forecast_subset\n",
        "discos_device_grp_phone_pred_table.insert(2, 'Vol_Port_Basic_non_CDMA', vol_port_basic_non_cdma_forecast_subset['Vol_Port_Basic_non_CDMA'])\n",
        "discos_device_grp_phone_pred_table.insert(3, 'Vol_Port_SP_Android_Other', vol_port_sp_android_other_forecast_subset['Vol_Port_SP_Android_Other'])\n",
        "discos_device_grp_phone_pred_table.insert(4, 'Vol_Port_SP_Apple', vol_port_sp_apple_forecast_subset['Vol_Port_SP_Apple'])\n",
        "\n",
        "# Voluntary Non Port Outs\n",
        "discos_device_grp_phone_pred_table.insert(5, 'Vol_Non_Port_Basic_CDMA', vol_non_port_basic_cdma_forecast_subset['Vol_Non_Port_Basic_CDMA'])\n",
        "discos_device_grp_phone_pred_table.insert(6, 'Vol_Non_Port_Basic_non_CDMA', vol_non_port_basic_non_cdma_forecast_subset['Vol_Non_Port_Basic_non_CDMA'])\n",
        "discos_device_grp_phone_pred_table.insert(7, 'Vol_Non_Port_SP_Android_Other', vol_non_port_sp_android_other_forecast_subset['Vol_Non_Port_SP_Android_Other'])\n",
        "discos_device_grp_phone_pred_table.insert(8, 'Vol_Non_Port_SP_Apple', vol_non_port_sp_apple_forecast_subset['Vol_Non_Port_SP_Apple'])\n",
        "\n",
        "# Involuntary\n",
        "discos_device_grp_phone_pred_table.insert(9, 'Invol_Basic_CDMA', invol_basic_cdma_forecast_subset['Invol_Basic_CDMA'])\n",
        "discos_device_grp_phone_pred_table.insert(10, 'Invol_Basic_non_CDMA', invol_basic_non_cdma_forecast_subset['Invol_Basic_non_CDMA'])\n",
        "discos_device_grp_phone_pred_table.insert(11, 'Invol_SP_Android_Other', invol_sp_android_other_forecast_subset['Invol_SP_Android_Other'])\n",
        "discos_device_grp_phone_pred_table.insert(12, 'Invol_SP_Apple', invol_sp_apple_forecast_subset['Invol_SP_Apple'])"
      ],
      "execution_count": null,
      "outputs": []
    },
    {
      "cell_type": "code",
      "metadata": {
        "id": "HlwvwXItBNPa",
        "colab_type": "code",
        "colab": {
          "base_uri": "https://localhost:8080/",
          "height": 309
        },
        "outputId": "1301124a-042d-498d-bf4c-dac4b03c15e6"
      },
      "source": [
        "# Check the format of the final predictions table (testing only)\n",
        "discos_device_grp_phone_pred_table.tail()"
      ],
      "execution_count": null,
      "outputs": [
        {
          "output_type": "execute_result",
          "data": {
            "text/html": [
              "<div>\n",
              "<style scoped>\n",
              "    .dataframe tbody tr th:only-of-type {\n",
              "        vertical-align: middle;\n",
              "    }\n",
              "\n",
              "    .dataframe tbody tr th {\n",
              "        vertical-align: top;\n",
              "    }\n",
              "\n",
              "    .dataframe thead th {\n",
              "        text-align: right;\n",
              "    }\n",
              "</style>\n",
              "<table border=\"1\" class=\"dataframe\">\n",
              "  <thead>\n",
              "    <tr style=\"text-align: right;\">\n",
              "      <th></th>\n",
              "      <th>ds</th>\n",
              "      <th>Vol_Port_Basic_CDMA</th>\n",
              "      <th>Vol_Port_Basic_non_CDMA</th>\n",
              "      <th>Vol_Port_SP_Android_Other</th>\n",
              "      <th>Vol_Port_SP_Apple</th>\n",
              "      <th>Vol_Non_Port_Basic_CDMA</th>\n",
              "      <th>Vol_Non_Port_Basic_non_CDMA</th>\n",
              "      <th>Vol_Non_Port_SP_Android_Other</th>\n",
              "      <th>Vol_Non_Port_SP_Apple</th>\n",
              "      <th>Invol_Basic_CDMA</th>\n",
              "      <th>Invol_Basic_non_CDMA</th>\n",
              "      <th>Invol_SP_Android_Other</th>\n",
              "      <th>Invol_SP_Apple</th>\n",
              "    </tr>\n",
              "  </thead>\n",
              "  <tbody>\n",
              "    <tr>\n",
              "      <th>1487</th>\n",
              "      <td>2020-12-27</td>\n",
              "      <td>44.519242</td>\n",
              "      <td>19.331796</td>\n",
              "      <td>257.361528</td>\n",
              "      <td>590.533000</td>\n",
              "      <td>150.685675</td>\n",
              "      <td>166.099860</td>\n",
              "      <td>124.741725</td>\n",
              "      <td>638.994190</td>\n",
              "      <td>21.365664</td>\n",
              "      <td>69.990836</td>\n",
              "      <td>670.992117</td>\n",
              "      <td>476.129166</td>\n",
              "    </tr>\n",
              "    <tr>\n",
              "      <th>1488</th>\n",
              "      <td>2020-12-28</td>\n",
              "      <td>80.730564</td>\n",
              "      <td>25.951822</td>\n",
              "      <td>400.932650</td>\n",
              "      <td>749.989547</td>\n",
              "      <td>513.897692</td>\n",
              "      <td>249.419515</td>\n",
              "      <td>873.858111</td>\n",
              "      <td>1454.143693</td>\n",
              "      <td>19.519478</td>\n",
              "      <td>61.464890</td>\n",
              "      <td>631.724396</td>\n",
              "      <td>432.660557</td>\n",
              "    </tr>\n",
              "    <tr>\n",
              "      <th>1489</th>\n",
              "      <td>2020-12-29</td>\n",
              "      <td>78.378351</td>\n",
              "      <td>25.699094</td>\n",
              "      <td>374.692700</td>\n",
              "      <td>704.426314</td>\n",
              "      <td>445.263706</td>\n",
              "      <td>248.726360</td>\n",
              "      <td>800.203184</td>\n",
              "      <td>1367.257739</td>\n",
              "      <td>13.875853</td>\n",
              "      <td>61.803539</td>\n",
              "      <td>824.207419</td>\n",
              "      <td>659.437236</td>\n",
              "    </tr>\n",
              "    <tr>\n",
              "      <th>1490</th>\n",
              "      <td>2020-12-30</td>\n",
              "      <td>80.871392</td>\n",
              "      <td>25.977188</td>\n",
              "      <td>398.760351</td>\n",
              "      <td>731.146093</td>\n",
              "      <td>400.844418</td>\n",
              "      <td>242.257846</td>\n",
              "      <td>761.999972</td>\n",
              "      <td>1302.489195</td>\n",
              "      <td>59.472005</td>\n",
              "      <td>66.329250</td>\n",
              "      <td>1038.758569</td>\n",
              "      <td>837.135239</td>\n",
              "    </tr>\n",
              "    <tr>\n",
              "      <th>1491</th>\n",
              "      <td>2020-12-31</td>\n",
              "      <td>81.132873</td>\n",
              "      <td>25.687679</td>\n",
              "      <td>404.044583</td>\n",
              "      <td>717.044047</td>\n",
              "      <td>390.211991</td>\n",
              "      <td>244.710362</td>\n",
              "      <td>755.354207</td>\n",
              "      <td>1292.134604</td>\n",
              "      <td>74.350644</td>\n",
              "      <td>77.768386</td>\n",
              "      <td>1034.720937</td>\n",
              "      <td>871.004530</td>\n",
              "    </tr>\n",
              "  </tbody>\n",
              "</table>\n",
              "</div>"
            ],
            "text/plain": [
              "             ds  Vol_Port_Basic_CDMA  ...  Invol_SP_Android_Other  Invol_SP_Apple\n",
              "1487 2020-12-27            44.519242  ...              670.992117      476.129166\n",
              "1488 2020-12-28            80.730564  ...              631.724396      432.660557\n",
              "1489 2020-12-29            78.378351  ...              824.207419      659.437236\n",
              "1490 2020-12-30            80.871392  ...             1038.758569      837.135239\n",
              "1491 2020-12-31            81.132873  ...             1034.720937      871.004530\n",
              "\n",
              "[5 rows x 13 columns]"
            ]
          },
          "metadata": {
            "tags": []
          },
          "execution_count": 114
        }
      ]
    },
    {
      "cell_type": "code",
      "metadata": {
        "id": "zBq194QZF-zG",
        "colab_type": "code",
        "colab": {
          "base_uri": "https://localhost:8080/",
          "height": 221
        },
        "outputId": "b10a1512-bde2-432c-cc1f-b8055de487ed"
      },
      "source": [
        "# Calculate the root mean squared error (testing only)\n",
        "print(\"Vol Port Basic CDMA RMSE: %f\" % np.sqrt(np.mean((discos_device_grp_phone_pred_table.loc[:1307, 'Vol_Port_Basic_CDMA'] - fact_table['vol_port_basic_cdma']) ** 2)))\n",
        "print(\"Vol Port Basic Non CDMA RMSE: %f\" % np.sqrt(np.mean((discos_device_grp_phone_pred_table.loc[:1307, 'Vol_Port_Basic_non_CDMA'] - fact_table['vol_port_basic_non_cdma']) ** 2)))\n",
        "print(\"Vol Port SP Android Other RMSE: %f\" % np.sqrt(np.mean((discos_device_grp_phone_pred_table.loc[:1307, 'Vol_Port_SP_Android_Other'] - fact_table['vol_port_sp_android_other']) ** 2)))\n",
        "print(\"Vol Port SP Apple RMSE: %f\" % np.sqrt(np.mean((discos_device_grp_phone_pred_table.loc[:1307, 'Vol_Port_SP_Apple'] - fact_table['vol_port_sp_apple']) ** 2)))\n",
        "print(\"Vol Non Port Basic CDMA RMSE: %f\" % np.sqrt(np.mean((discos_device_grp_phone_pred_table.loc[:1307, 'Vol_Non_Port_Basic_CDMA'] - fact_table['vol_non_port_basic_cdma']) ** 2)))\n",
        "print(\"Vol Non Port Basic Non CDMA RMSE: %f\" % np.sqrt(np.mean((discos_device_grp_phone_pred_table.loc[:1307, 'Vol_Non_Port_Basic_non_CDMA'] - fact_table['vol_non_port_basic_non_cdma']) ** 2)))\n",
        "print(\"Vol Non Port SP Android Other RMSE: %f\" % np.sqrt(np.mean((discos_device_grp_phone_pred_table.loc[:1307, 'Vol_Non_Port_SP_Android_Other'] - fact_table['vol_non_port_sp_android_other']) ** 2)))\n",
        "print(\"Vol Non Port SP Apple RMSE: %f\" % np.sqrt(np.mean((discos_device_grp_phone_pred_table.loc[:1307, 'Vol_Non_Port_SP_Apple'] - fact_table['vol_non_port_sp_apple']) ** 2)))\n",
        "print(\"Invol Basic CDMA RMSE: %f\" % np.sqrt(np.mean((discos_device_grp_phone_pred_table.loc[:1307, 'Invol_Basic_CDMA'] - fact_table['invol_basic_cdma']) ** 2)))\n",
        "print(\"Invol Basic Non CDMA RMSE: %f\" % np.sqrt(np.mean((discos_device_grp_phone_pred_table.loc[:1307, 'Invol_Basic_non_CDMA'] - fact_table['invol_basic_non_cdma']) ** 2)))\n",
        "print(\"Invol SP Android Other RMSE: %f\" % np.sqrt(np.mean((discos_device_grp_phone_pred_table.loc[:1307, 'Invol_SP_Android_Other'] - fact_table['invol_sp_android_other']) ** 2)))\n",
        "print(\"Invol SP Apple RMSE: %f\" % np.sqrt(np.mean((discos_device_grp_phone_pred_table.loc[:1307, 'Invol_SP_Apple'] - fact_table['invol_sp_apple']) ** 2)))"
      ],
      "execution_count": null,
      "outputs": [
        {
          "output_type": "stream",
          "text": [
            "Vol Port Basic CDMA RMSE: 28.082702\n",
            "Vol Port Basic Non CDMA RMSE: 4.420816\n",
            "Vol Port SP Android Other RMSE: 119.925264\n",
            "Vol Port SP Apple RMSE: 186.529134\n",
            "Vol Non Port Basic CDMA RMSE: 92.249012\n",
            "Vol Non Port Basic Non CDMA RMSE: 26.341819\n",
            "Vol Non Port SP Android Other RMSE: 126.148933\n",
            "Vol Non Port SP Apple RMSE: 150.636193\n",
            "Invol Basic CDMA RMSE: 55.393191\n",
            "Invol Basic Non CDMA RMSE: 17.794407\n",
            "Invol SP Android Other RMSE: 416.901912\n",
            "Invol SP Apple RMSE: 460.589771\n"
          ],
          "name": "stdout"
        }
      ]
    },
    {
      "cell_type": "code",
      "metadata": {
        "id": "_znvxmQ6b4ix",
        "colab_type": "code",
        "colab": {}
      },
      "source": [
        "# Save the predictions table to a csv file\n",
        "discos_device_grp_phone_pred_table.to_csv('drive/My Drive/Churn/discos_device_grp_phone_same_day_pred_table.csv')"
      ],
      "execution_count": null,
      "outputs": []
    }
  ]
}