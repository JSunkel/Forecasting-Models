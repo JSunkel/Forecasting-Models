{
  "nbformat": 4,
  "nbformat_minor": 0,
  "metadata": {
    "colab": {
      "name": "Copy of Upgrades Samsung Phone Prophet model.ipynb",
      "provenance": [],
      "include_colab_link": true
    },
    "kernelspec": {
      "name": "python3",
      "display_name": "Python 3"
    }
  },
  "cells": [
    {
      "cell_type": "markdown",
      "metadata": {
        "id": "view-in-github",
        "colab_type": "text"
      },
      "source": [
        "<a href=\"https://colab.research.google.com/github/JSunkel/Forecasting-Models/blob/master/Line_Disconnects_Apple_Vol_Port_Carriers_Same_Day_Prophet_model.ipynb\" target=\"_parent\"><img src=\"https://colab.research.google.com/assets/colab-badge.svg\" alt=\"Open In Colab\"/></a>"
      ]
    },
    {
      "cell_type": "code",
      "metadata": {
        "id": "127ZL5DNa_DK",
        "colab_type": "code",
        "colab": {}
      },
      "source": [
        "import pandas as pd\n",
        "import numpy as np\n",
        "from fbprophet import Prophet"
      ],
      "execution_count": 2,
      "outputs": []
    },
    {
      "cell_type": "code",
      "metadata": {
        "id": "7L_hdOufbEyU",
        "colab_type": "code",
        "colab": {}
      },
      "source": [
        "# Read a comma-separated values (csv) file into a Pandas DataFrame.\n",
        "fact_table = pd.read_csv('drive/My Drive/Churn/discos_fact_table_apple_vol_port_carriers_same_day_may.csv')"
      ],
      "execution_count": 3,
      "outputs": []
    },
    {
      "cell_type": "code",
      "metadata": {
        "id": "b2k68K1N-REn",
        "colab_type": "code",
        "colab": {
          "base_uri": "https://localhost:8080/",
          "height": 224
        },
        "outputId": "a7a570d5-870c-4b6f-8016-8c167a55e881"
      },
      "source": [
        "# Check the full dataset format (testing only)\n",
        "fact_table.head()"
      ],
      "execution_count": 4,
      "outputs": [
        {
          "output_type": "execute_result",
          "data": {
            "text/html": [
              "<div>\n",
              "<style scoped>\n",
              "    .dataframe tbody tr th:only-of-type {\n",
              "        vertical-align: middle;\n",
              "    }\n",
              "\n",
              "    .dataframe tbody tr th {\n",
              "        vertical-align: top;\n",
              "    }\n",
              "\n",
              "    .dataframe thead th {\n",
              "        text-align: right;\n",
              "    }\n",
              "</style>\n",
              "<table border=\"1\" class=\"dataframe\">\n",
              "  <thead>\n",
              "    <tr style=\"text-align: right;\">\n",
              "      <th></th>\n",
              "      <th>ds</th>\n",
              "      <th>vol_port_attonly</th>\n",
              "      <th>vol_port_attcc</th>\n",
              "      <th>vol_port_sprint</th>\n",
              "      <th>vol_port_tmo_only</th>\n",
              "      <th>vol_port_metro</th>\n",
              "      <th>vol_port_spectrum</th>\n",
              "      <th>vol_port_xfinity</th>\n",
              "      <th>vol_port_reseller</th>\n",
              "      <th>vol_port_other</th>\n",
              "    </tr>\n",
              "  </thead>\n",
              "  <tbody>\n",
              "    <tr>\n",
              "      <th>0</th>\n",
              "      <td>12/1/2016</td>\n",
              "      <td>318</td>\n",
              "      <td>67</td>\n",
              "      <td>242</td>\n",
              "      <td>264</td>\n",
              "      <td>44</td>\n",
              "      <td>0</td>\n",
              "      <td>0</td>\n",
              "      <td>80</td>\n",
              "      <td>18</td>\n",
              "    </tr>\n",
              "    <tr>\n",
              "      <th>1</th>\n",
              "      <td>12/2/2016</td>\n",
              "      <td>401</td>\n",
              "      <td>69</td>\n",
              "      <td>247</td>\n",
              "      <td>288</td>\n",
              "      <td>41</td>\n",
              "      <td>0</td>\n",
              "      <td>0</td>\n",
              "      <td>47</td>\n",
              "      <td>24</td>\n",
              "    </tr>\n",
              "    <tr>\n",
              "      <th>2</th>\n",
              "      <td>12/3/2016</td>\n",
              "      <td>625</td>\n",
              "      <td>63</td>\n",
              "      <td>378</td>\n",
              "      <td>364</td>\n",
              "      <td>45</td>\n",
              "      <td>0</td>\n",
              "      <td>0</td>\n",
              "      <td>61</td>\n",
              "      <td>30</td>\n",
              "    </tr>\n",
              "    <tr>\n",
              "      <th>3</th>\n",
              "      <td>12/4/2016</td>\n",
              "      <td>480</td>\n",
              "      <td>56</td>\n",
              "      <td>326</td>\n",
              "      <td>372</td>\n",
              "      <td>57</td>\n",
              "      <td>0</td>\n",
              "      <td>0</td>\n",
              "      <td>52</td>\n",
              "      <td>13</td>\n",
              "    </tr>\n",
              "    <tr>\n",
              "      <th>4</th>\n",
              "      <td>12/5/2016</td>\n",
              "      <td>426</td>\n",
              "      <td>55</td>\n",
              "      <td>281</td>\n",
              "      <td>287</td>\n",
              "      <td>42</td>\n",
              "      <td>0</td>\n",
              "      <td>0</td>\n",
              "      <td>45</td>\n",
              "      <td>18</td>\n",
              "    </tr>\n",
              "  </tbody>\n",
              "</table>\n",
              "</div>"
            ],
            "text/plain": [
              "          ds  vol_port_attonly  ...  vol_port_reseller  vol_port_other\n",
              "0  12/1/2016               318  ...                 80              18\n",
              "1  12/2/2016               401  ...                 47              24\n",
              "2  12/3/2016               625  ...                 61              30\n",
              "3  12/4/2016               480  ...                 52              13\n",
              "4  12/5/2016               426  ...                 45              18\n",
              "\n",
              "[5 rows x 10 columns]"
            ]
          },
          "metadata": {
            "tags": []
          },
          "execution_count": 4
        }
      ]
    },
    {
      "cell_type": "code",
      "metadata": {
        "id": "gB5Ps8AauIU2",
        "colab_type": "code",
        "colab": {}
      },
      "source": [
        "# Split out indivudal datasets for forecasting.\n",
        "# AT&T\n",
        "vol_port_attonly = fact_table[['ds', 'vol_port_attonly']].rename(columns = {'vol_port_attonly': 'y'})\n",
        "vol_port_attcc = fact_table[['ds', 'vol_port_attcc']].rename(columns = {'vol_port_attcc': 'y'})\n",
        "\n",
        "# Sprint\n",
        "vol_port_sprint = fact_table[['ds', 'vol_port_sprint']].rename(columns = {'vol_port_sprint': 'y'})\n",
        "\n",
        "# T-Mobile\n",
        "vol_port_tmo_only = fact_table[['ds', 'vol_port_tmo_only']].rename(columns = {'vol_port_tmo_only': 'y'})\n",
        "vol_port_metro = fact_table[['ds', 'vol_port_metro']].rename(columns = {'vol_port_metro': 'y'})\n",
        "\n",
        "# Spectrum\n",
        "vol_port_spectrum = fact_table[['ds', 'vol_port_spectrum']].rename(columns = {'vol_port_spectrum': 'y'})\n",
        "\n",
        "# Xfinity\n",
        "vol_port_xfinity = fact_table[['ds', 'vol_port_xfinity']].rename(columns = {'vol_port_xfinity': 'y'})\n",
        "\n",
        "# Reseller\n",
        "vol_port_reseller = fact_table[['ds', 'vol_port_reseller']].rename(columns = {'vol_port_reseller': 'y'})\n",
        "\n",
        "# Other\n",
        "vol_port_other = fact_table[['ds', 'vol_port_other']].rename(columns = {'vol_port_other': 'y'})"
      ],
      "execution_count": 5,
      "outputs": []
    },
    {
      "cell_type": "code",
      "metadata": {
        "id": "w-J4F09yvCsP",
        "colab_type": "code",
        "colab": {
          "base_uri": "https://localhost:8080/",
          "height": 204
        },
        "outputId": "3b65c316-25dd-4e10-8578-c3d66af026dd"
      },
      "source": [
        "# Check the individual dataset format (testing only)\n",
        "vol_port_sprint.head()"
      ],
      "execution_count": 6,
      "outputs": [
        {
          "output_type": "execute_result",
          "data": {
            "text/html": [
              "<div>\n",
              "<style scoped>\n",
              "    .dataframe tbody tr th:only-of-type {\n",
              "        vertical-align: middle;\n",
              "    }\n",
              "\n",
              "    .dataframe tbody tr th {\n",
              "        vertical-align: top;\n",
              "    }\n",
              "\n",
              "    .dataframe thead th {\n",
              "        text-align: right;\n",
              "    }\n",
              "</style>\n",
              "<table border=\"1\" class=\"dataframe\">\n",
              "  <thead>\n",
              "    <tr style=\"text-align: right;\">\n",
              "      <th></th>\n",
              "      <th>ds</th>\n",
              "      <th>y</th>\n",
              "    </tr>\n",
              "  </thead>\n",
              "  <tbody>\n",
              "    <tr>\n",
              "      <th>0</th>\n",
              "      <td>12/1/2016</td>\n",
              "      <td>242</td>\n",
              "    </tr>\n",
              "    <tr>\n",
              "      <th>1</th>\n",
              "      <td>12/2/2016</td>\n",
              "      <td>247</td>\n",
              "    </tr>\n",
              "    <tr>\n",
              "      <th>2</th>\n",
              "      <td>12/3/2016</td>\n",
              "      <td>378</td>\n",
              "    </tr>\n",
              "    <tr>\n",
              "      <th>3</th>\n",
              "      <td>12/4/2016</td>\n",
              "      <td>326</td>\n",
              "    </tr>\n",
              "    <tr>\n",
              "      <th>4</th>\n",
              "      <td>12/5/2016</td>\n",
              "      <td>281</td>\n",
              "    </tr>\n",
              "  </tbody>\n",
              "</table>\n",
              "</div>"
            ],
            "text/plain": [
              "          ds    y\n",
              "0  12/1/2016  242\n",
              "1  12/2/2016  247\n",
              "2  12/3/2016  378\n",
              "3  12/4/2016  326\n",
              "4  12/5/2016  281"
            ]
          },
          "metadata": {
            "tags": []
          },
          "execution_count": 6
        }
      ]
    },
    {
      "cell_type": "code",
      "metadata": {
        "id": "qd0uiS7nbKIQ",
        "colab_type": "code",
        "colab": {}
      },
      "source": [
        "# Define the holidays\n",
        "new_years_day = pd.DataFrame({\n",
        "    'holiday': 'new_years_day',\n",
        "    'ds': pd.to_datetime(['2017-01-01',\n",
        "                          '2018-01-01',\n",
        "                          '2019-01-01',\n",
        "                          '2020-01-01']),\n",
        "    'lower_window': 0,\n",
        "    'upper_window': 0,\n",
        "})\n",
        "\n",
        "mlk_day = pd.DataFrame({\n",
        "    'holiday': 'mlk_day',\n",
        "    'ds': pd.to_datetime(['2017-01-16',\n",
        "                          '2018-01-15',\n",
        "                          '2019-01-21',\n",
        "                          '2020-01-20']),\n",
        "    'lower_window': 0,\n",
        "    'upper_window': 0,\n",
        "})\n",
        "\n",
        "easter_sunday = pd.DataFrame({\n",
        "    'holiday': 'easter_sunday',\n",
        "    'ds': pd.to_datetime(['2017-04-16',\n",
        "                          '2018-04-01',\n",
        "                          '2019-04-21',\n",
        "                          '2020-04-12']),\n",
        "    'lower_window': 0,\n",
        "    'upper_window': 0,\n",
        "})\n",
        "\n",
        "memorial_day = pd.DataFrame({\n",
        "    'holiday': 'memorial_day',\n",
        "    'ds': pd.to_datetime(['2017-05-29',\n",
        "                          '2018-05-28',\n",
        "                          '2019-05-27',\n",
        "                          '2020-05-25']),\n",
        "    'lower_window': 0,\n",
        "    'upper_window': 0,\n",
        "})\n",
        "\n",
        "independence_day = pd.DataFrame({\n",
        "    'holiday': 'independence_day',\n",
        "    'ds': pd.to_datetime(['2017-07-04',\n",
        "                          '2018-07-04',\n",
        "                          '2019-07-04',\n",
        "                          '2020-07-04']),\n",
        "    'lower_window': 0,\n",
        "    'upper_window': 0,\n",
        "})\n",
        "\n",
        "labor_day = pd.DataFrame({\n",
        "    'holiday': 'labor_day',\n",
        "    'ds': pd.to_datetime(['2017-09-04',\n",
        "                          '2018-09-03',\n",
        "                          '2019-09-02',\n",
        "                          '2020-09-07']),\n",
        "    'lower_window': 0,\n",
        "    'upper_window': 0,\n",
        "})\n",
        "\n",
        "thanksgiving_day = pd.DataFrame({\n",
        "    'holiday': 'thanksgiving_day',\n",
        "    'ds': pd.to_datetime(['2017-11-23',\n",
        "                          '2018-11-22',\n",
        "                          '2019-11-28',\n",
        "                          '2020-11-26']),\n",
        "    'lower_window': 0,\n",
        "    'upper_window': 0,\n",
        "})\n",
        "\n",
        "black_friday = pd.DataFrame({\n",
        "    'holiday': 'black_friday',\n",
        "    'ds': pd.to_datetime(['2017-11-24',\n",
        "                          '2018-11-23',\n",
        "                          '2019-11-29',\n",
        "                          '2020-11-27']),\n",
        "    'lower_window': 0,\n",
        "    'upper_window': 0,\n",
        "})\n",
        "\n",
        "cyber_monday = pd.DataFrame({\n",
        "    'holiday': 'cyber_monday',\n",
        "    'ds': pd.to_datetime(['2017-11-27',\n",
        "                          '2018-11-26',\n",
        "                          '2019-12-02',\n",
        "                          '2020-11-30']),\n",
        "    'lower_window': 0,\n",
        "    'upper_window': 0,\n",
        "})\n",
        "\n",
        "christmas_day = pd.DataFrame({\n",
        "    'holiday': 'christmas_day',\n",
        "    'ds': pd.to_datetime(['2017-12-25',\n",
        "                          '2018-12-25',\n",
        "                          '2019-12-25',\n",
        "                          '2020-12-25']),\n",
        "    'lower_window': 0,\n",
        "    'upper_window': 0,\n",
        "})"
      ],
      "execution_count": 7,
      "outputs": []
    },
    {
      "cell_type": "code",
      "metadata": {
        "id": "u_wSeXwgsSRo",
        "colab_type": "code",
        "colab": {}
      },
      "source": [
        "holidays = pd.concat((new_years_day,\n",
        "                      mlk_day,\n",
        "                      easter_sunday,\n",
        "                      memorial_day,\n",
        "                      independence_day,\n",
        "                      labor_day,\n",
        "                      thanksgiving_day,\n",
        "                      black_friday,\n",
        "                      cyber_monday,\n",
        "                      christmas_day))"
      ],
      "execution_count": 8,
      "outputs": []
    },
    {
      "cell_type": "code",
      "metadata": {
        "id": "LehjGgIJbf8D",
        "colab_type": "code",
        "colab": {}
      },
      "source": [
        "# Define the models\n",
        "# AT&T\n",
        "vol_port_att_only_model = Prophet(holidays = holidays)\n",
        "vol_port_att_cc_model = Prophet(holidays = holidays)\n",
        "\n",
        "# Sprint\n",
        "vol_port_sprint_model = Prophet(holidays = holidays)\n",
        "\n",
        "# T-Mobile\n",
        "vol_port_tmo_only_model = Prophet(holidays = holidays)\n",
        "vol_port_metro_model = Prophet(holidays = holidays)\n",
        "\n",
        "# Spectrum\n",
        "vol_port_spectrum_model = Prophet(holidays = holidays)\n",
        "\n",
        "# Xfinity\n",
        "vol_port_xfinity_model = Prophet(holidays = holidays)\n",
        "\n",
        "# Reseller\n",
        "vol_port_reseller_model = Prophet(holidays = holidays)\n",
        "\n",
        "# Other\n",
        "vol_port_other_model = Prophet(holidays = holidays)"
      ],
      "execution_count": 31,
      "outputs": []
    },
    {
      "cell_type": "code",
      "metadata": {
        "id": "VB9qPMgqetKz",
        "colab_type": "code",
        "colab": {
          "base_uri": "https://localhost:8080/",
          "height": 187
        },
        "outputId": "326b73a8-bd12-43e1-dd08-91faab901e49"
      },
      "source": [
        "# Fit the models\n",
        "# AT&T\n",
        "vol_port_att_only_model.fit(vol_port_attonly)\n",
        "vol_port_att_cc_model.fit(vol_port_attcc)\n",
        "\n",
        "# Sprint\n",
        "vol_port_sprint_model.fit(vol_port_sprint)\n",
        "\n",
        "# T-Mobile\n",
        "vol_port_tmo_only_model.fit(vol_port_tmo_only)\n",
        "vol_port_metro_model.fit(vol_port_metro)\n",
        "\n",
        "# Spectrum\n",
        "vol_port_spectrum_model.fit(vol_port_spectrum)\n",
        "\n",
        "# Xfinity\n",
        "vol_port_xfinity_model.fit(vol_port_xfinity)\n",
        "\n",
        "# Reseller\n",
        "vol_port_reseller_model.fit(vol_port_reseller)\n",
        "\n",
        "# Other\n",
        "vol_port_other_model.fit(vol_port_other)"
      ],
      "execution_count": 32,
      "outputs": [
        {
          "output_type": "stream",
          "text": [
            "INFO:fbprophet:Disabling daily seasonality. Run prophet with daily_seasonality=True to override this.\n",
            "INFO:fbprophet:Disabling daily seasonality. Run prophet with daily_seasonality=True to override this.\n",
            "INFO:fbprophet:Disabling daily seasonality. Run prophet with daily_seasonality=True to override this.\n",
            "INFO:fbprophet:Disabling daily seasonality. Run prophet with daily_seasonality=True to override this.\n",
            "INFO:fbprophet:Disabling daily seasonality. Run prophet with daily_seasonality=True to override this.\n",
            "INFO:fbprophet:Disabling daily seasonality. Run prophet with daily_seasonality=True to override this.\n",
            "INFO:fbprophet:Disabling daily seasonality. Run prophet with daily_seasonality=True to override this.\n",
            "INFO:fbprophet:Disabling daily seasonality. Run prophet with daily_seasonality=True to override this.\n",
            "INFO:fbprophet:Disabling daily seasonality. Run prophet with daily_seasonality=True to override this.\n"
          ],
          "name": "stderr"
        },
        {
          "output_type": "execute_result",
          "data": {
            "text/plain": [
              "<fbprophet.forecaster.Prophet at 0x7fb8d1bc44e0>"
            ]
          },
          "metadata": {
            "tags": []
          },
          "execution_count": 32
        }
      ]
    },
    {
      "cell_type": "code",
      "metadata": {
        "id": "Dr1zK_B1s806",
        "colab_type": "code",
        "colab": {}
      },
      "source": [
        "# Number of periods into the future to forecast\n",
        "n = 214"
      ],
      "execution_count": 33,
      "outputs": []
    },
    {
      "cell_type": "code",
      "metadata": {
        "id": "dWot8dxibsxd",
        "colab_type": "code",
        "colab": {}
      },
      "source": [
        "# Create dataframes to hold predictions\n",
        "# AT&T\n",
        "vol_port_att_only_future = vol_port_attonly_model.make_future_dataframe(periods = n)\n",
        "vol_port_att_cc_future = vol_port_attcc_model.make_future_dataframe(periods = n)\n",
        "\n",
        "# Sprint\n",
        "vol_port_sprint_future = vol_port_sprint_model.make_future_dataframe(periods = n)\n",
        "\n",
        "# T-Mobile\n",
        "vol_port_tmo_only_future = vol_port_tmo_only_model.make_future_dataframe(periods = n)\n",
        "vol_port_metro_future = vol_port_metro_model.make_future_dataframe(periods = n)\n",
        "\n",
        "# Spectrum\n",
        "vol_port_spectrum_future = vol_port_spectrum_model.make_future_dataframe(periods = n)\n",
        "\n",
        "# Xfinity\n",
        "vol_port_xfinity_future = vol_port_xfinity_model.make_future_dataframe(periods = n)\n",
        "\n",
        "# Reseller\n",
        "vol_port_reseller_future = vol_port_reseller_model.make_future_dataframe(periods = n)\n",
        "\n",
        "# Other\n",
        "vol_port_other_future = vol_port_other_model.make_future_dataframe(periods = n)"
      ],
      "execution_count": 34,
      "outputs": []
    },
    {
      "cell_type": "code",
      "metadata": {
        "id": "Q_Donl0Tbygx",
        "colab_type": "code",
        "colab": {}
      },
      "source": [
        "# Make predictions\n",
        "# AT&T\n",
        "vol_port_att_only_forecast = vol_port_att_only_model.predict(vol_port_att_only_future)\n",
        "vol_port_att_cc_forecast = vol_port_attcc_model.predict(vol_port_attcc_future)\n",
        "\n",
        "# Sprint\n",
        "vol_port_sprint_forecast = vol_port_sprint_model.predict(vol_port_sprint_future)\n",
        "\n",
        "# T-Mobile\n",
        "vol_port_tmo_only_forecast = vol_port_tmo_only_model.predict(vol_port_tmo_only_future)\n",
        "vol_port_metro_forecast = vol_port_metro_model.predict(vol_port_metro_future)\n",
        "\n",
        "# Spectrum\n",
        "vol_port_spectrum_forecast = vol_port_spectrum_model.predict(vol_port_spectrum_future)\n",
        "\n",
        "# Xfinity\n",
        "vol_port_xfinity_forecast = vol_port_xfinity_model.predict(vol_port_xfinity_future)\n",
        "\n",
        "# Reseller\n",
        "vol_port_reseller_forecast = vol_port_reseller_model.predict(vol_port_reseller_future)\n",
        "\n",
        "# Other\n",
        "vol_port_other_forecast = vol_port_other_model.predict(vol_port_other_future)"
      ],
      "execution_count": 35,
      "outputs": []
    },
    {
      "cell_type": "code",
      "metadata": {
        "id": "gvPtOAf2sDOD",
        "colab_type": "code",
        "colab": {}
      },
      "source": [
        "# Get the datestamp and prediction columns\n",
        "# AT&T\n",
        "vol_port_att_only_forecast_subset = vol_port_att_only_forecast[['ds', 'yhat']].rename(columns = {'yhat': 'Vol_Port_ATT_Only'})\n",
        "vol_port_att_cc_forecast_subset = vol_port_att_cc_forecast[['ds', 'yhat']].rename(columns = {'yhat': 'Vol_Port_ATT_CC'})\n",
        "\n",
        "# Sprint\n",
        "vol_port_sprint_forecast_subset = vol_port_sprint_forecast[['ds', 'yhat']].rename(columns = {'yhat': 'Vol_Port_Sprint'})\n",
        "\n",
        "# T-Mobile\n",
        "vol_port_tmo_only_forecast_subset = vol_port_tmo_only_forecast[['ds', 'yhat']].rename(columns = {'yhat': 'Vol_Port_TMO_Only'})\n",
        "vol_port_metro_forecast_subset = vol_port_metro_forecast[['ds', 'yhat']].rename(columns = {'yhat': 'Vol_Port_Metro'})\n",
        "\n",
        "# Spectrum\n",
        "vol_port_spectrum_forecast_subset = vol_port_spectrum_forecast[['ds', 'yhat']].rename(columns = {'yhat': 'Vol_Port_Spectrum'})\n",
        "\n",
        "# Xfinity\n",
        "vol_port_xfinity_forecast_subset = vol_port_xfinity_forecast[['ds', 'yhat']].rename(columns = {'yhat': 'Vol_Port_Xfinity'})\n",
        "\n",
        "# Reseller\n",
        "vol_port_reseller_forecast_subset = vol_port_reseller_forecast[['ds', 'yhat']].rename(columns = {'yhat': 'Vol_Port_Reseller'})\n",
        "\n",
        "# Other\n",
        "vol_port_other_forecast_subset = vol_port_other_forecast[['ds', 'yhat']].rename(columns = {'yhat': 'Vol_Port_Other'})"
      ],
      "execution_count": 36,
      "outputs": []
    },
    {
      "cell_type": "code",
      "metadata": {
        "id": "Er7OBgy4sI_I",
        "colab_type": "code",
        "colab": {
          "base_uri": "https://localhost:8080/",
          "height": 204
        },
        "outputId": "6ec5f880-af7f-4f57-f001-a74fac71a38b"
      },
      "source": [
        "# Check the format of the subsetted forecasts (testing only)\n",
        "vol_port_reseller_forecast_subset.tail()"
      ],
      "execution_count": 37,
      "outputs": [
        {
          "output_type": "execute_result",
          "data": {
            "text/html": [
              "<div>\n",
              "<style scoped>\n",
              "    .dataframe tbody tr th:only-of-type {\n",
              "        vertical-align: middle;\n",
              "    }\n",
              "\n",
              "    .dataframe tbody tr th {\n",
              "        vertical-align: top;\n",
              "    }\n",
              "\n",
              "    .dataframe thead th {\n",
              "        text-align: right;\n",
              "    }\n",
              "</style>\n",
              "<table border=\"1\" class=\"dataframe\">\n",
              "  <thead>\n",
              "    <tr style=\"text-align: right;\">\n",
              "      <th></th>\n",
              "      <th>ds</th>\n",
              "      <th>Vol_Port_Reseller</th>\n",
              "    </tr>\n",
              "  </thead>\n",
              "  <tbody>\n",
              "    <tr>\n",
              "      <th>1487</th>\n",
              "      <td>2020-12-27</td>\n",
              "      <td>27.766047</td>\n",
              "    </tr>\n",
              "    <tr>\n",
              "      <th>1488</th>\n",
              "      <td>2020-12-28</td>\n",
              "      <td>37.036351</td>\n",
              "    </tr>\n",
              "    <tr>\n",
              "      <th>1489</th>\n",
              "      <td>2020-12-29</td>\n",
              "      <td>35.791833</td>\n",
              "    </tr>\n",
              "    <tr>\n",
              "      <th>1490</th>\n",
              "      <td>2020-12-30</td>\n",
              "      <td>37.127242</td>\n",
              "    </tr>\n",
              "    <tr>\n",
              "      <th>1491</th>\n",
              "      <td>2020-12-31</td>\n",
              "      <td>38.273238</td>\n",
              "    </tr>\n",
              "  </tbody>\n",
              "</table>\n",
              "</div>"
            ],
            "text/plain": [
              "             ds  Vol_Port_Reseller\n",
              "1487 2020-12-27          27.766047\n",
              "1488 2020-12-28          37.036351\n",
              "1489 2020-12-29          35.791833\n",
              "1490 2020-12-30          37.127242\n",
              "1491 2020-12-31          38.273238"
            ]
          },
          "metadata": {
            "tags": []
          },
          "execution_count": 37
        }
      ]
    },
    {
      "cell_type": "code",
      "metadata": {
        "id": "5XrR_uTnC4M6",
        "colab_type": "code",
        "colab": {}
      },
      "source": [
        "# Growth multiplier\n",
        "gm = 1.00"
      ],
      "execution_count": 38,
      "outputs": []
    },
    {
      "cell_type": "code",
      "metadata": {
        "id": "3QezWJW-DCC9",
        "colab_type": "code",
        "colab": {}
      },
      "source": [
        "# Replace any negative values and scale the forecast using the growth multiplier\n",
        "# AT&T \n",
        "vol_port_att_only_forecast_subset['Vol_Port_ATT_Only'] = vol_port_att_only_forecast_subset['Vol_Port_ATT_Only'].abs() * gm\n",
        "vol_port_att_cc_forecast_subset['Vol_Port_ATT_CC'] = vol_port_att_cc_forecast_subset['Vol_Port_ATT_CC'].abs() * gm\n",
        "\n",
        "# Sprint\n",
        "vol_port_sprint_forecast_subset['Vol_Port_Sprint'] = vol_port_sprint_forecast_subset['Vol_Port_Sprint'].abs() * gm\n",
        "\n",
        "# T-Mobile\n",
        "vol_port_tmo_only_forecast_subset['Vol_Port_TMO_Only'] = vol_port_tmo_only_forecast_subset['Vol_Port_TMO_Only'].abs() * gm\n",
        "vol_port_metro_forecast_subset['Vol_Port_Metro'] = vol_port_metro_forecast_subset['Vol_Port_Metro'].abs() * gm\n",
        "\n",
        "# Spectrum\n",
        "vol_port_spectrum_forecast_subset['Vol_Port_Spectrum'] = vol_port_spectrum_forecast_subset['Vol_Port_Spectrum'].abs() * gm\n",
        "\n",
        "# Xfinity\n",
        "vol_port_xfinity_forecast_subset['Vol_Port_Xfinity'] = vol_port_xfinity_forecast_subset['Vol_Port_Xfinity'].abs() * gm\n",
        "\n",
        "# Reseller\n",
        "vol_port_reseller_forecast_subset['Vol_Port_Reseller'] = vol_port_reseller_forecast_subset['Vol_Port_Reseller'].abs() * gm\n",
        "\n",
        "# Other\n",
        "vol_port_other_forecast_subset['Vol_Port_Other'] = vol_port_other_forecast_subset['Vol_Port_Other'].abs() * gm"
      ],
      "execution_count": 39,
      "outputs": []
    },
    {
      "cell_type": "code",
      "metadata": {
        "id": "3dWhmIu1DTAH",
        "colab_type": "code",
        "colab": {
          "base_uri": "https://localhost:8080/",
          "height": 204
        },
        "outputId": "cdd86edc-4804-48a3-af43-2fb47cc60a43"
      },
      "source": [
        "# Check the format of the adjusted forecasts (testing only)\n",
        "vol_port_xfinity_forecast_subset.tail()"
      ],
      "execution_count": 40,
      "outputs": [
        {
          "output_type": "execute_result",
          "data": {
            "text/html": [
              "<div>\n",
              "<style scoped>\n",
              "    .dataframe tbody tr th:only-of-type {\n",
              "        vertical-align: middle;\n",
              "    }\n",
              "\n",
              "    .dataframe tbody tr th {\n",
              "        vertical-align: top;\n",
              "    }\n",
              "\n",
              "    .dataframe thead th {\n",
              "        text-align: right;\n",
              "    }\n",
              "</style>\n",
              "<table border=\"1\" class=\"dataframe\">\n",
              "  <thead>\n",
              "    <tr style=\"text-align: right;\">\n",
              "      <th></th>\n",
              "      <th>ds</th>\n",
              "      <th>Vol_Port_Xfinity</th>\n",
              "    </tr>\n",
              "  </thead>\n",
              "  <tbody>\n",
              "    <tr>\n",
              "      <th>1487</th>\n",
              "      <td>2020-12-27</td>\n",
              "      <td>48.137522</td>\n",
              "    </tr>\n",
              "    <tr>\n",
              "      <th>1488</th>\n",
              "      <td>2020-12-28</td>\n",
              "      <td>59.484934</td>\n",
              "    </tr>\n",
              "    <tr>\n",
              "      <th>1489</th>\n",
              "      <td>2020-12-29</td>\n",
              "      <td>56.066457</td>\n",
              "    </tr>\n",
              "    <tr>\n",
              "      <th>1490</th>\n",
              "      <td>2020-12-30</td>\n",
              "      <td>67.572325</td>\n",
              "    </tr>\n",
              "    <tr>\n",
              "      <th>1491</th>\n",
              "      <td>2020-12-31</td>\n",
              "      <td>63.825316</td>\n",
              "    </tr>\n",
              "  </tbody>\n",
              "</table>\n",
              "</div>"
            ],
            "text/plain": [
              "             ds  Vol_Port_Xfinity\n",
              "1487 2020-12-27         48.137522\n",
              "1488 2020-12-28         59.484934\n",
              "1489 2020-12-29         56.066457\n",
              "1490 2020-12-30         67.572325\n",
              "1491 2020-12-31         63.825316"
            ]
          },
          "metadata": {
            "tags": []
          },
          "execution_count": 40
        }
      ]
    },
    {
      "cell_type": "code",
      "metadata": {
        "id": "8m446XCi_AqF",
        "colab_type": "code",
        "colab": {}
      },
      "source": [
        "# Combine the forecasts into one table\n",
        "# AT&T\n",
        "discos_apple_carrier_vol_port_pred_table = vol_port_att_only_forecast_subset\n",
        "discos_apple_carrier_vol_port_pred_table.insert(2, 'Vol_Port_ATT_CC', vol_port_att_cc_forecast_subset['Vol_Port_ATT_CC'])\n",
        "\n",
        "# Sprint\n",
        "discos_apple_carrier_vol_port_pred_table.insert(3, 'Vol_Port_Sprint', vol_port_sprint_forecast_subset['Vol_Port_Sprint'])\n",
        "\n",
        "# T-Mobile\n",
        "discos_apple_carrier_vol_port_pred_table.insert(4, 'Vol_Port_TMO_Only', vol_port_tmo_only_forecast_subset['Vol_Port_TMO_Only'])\n",
        "discos_apple_carrier_vol_port_pred_table.insert(5, 'Vol_Port_Metro', vol_port_metro_forecast_subset['Vol_Port_Metro'])\n",
        "\n",
        "# Spectrum\n",
        "discos_apple_carrier_vol_port_pred_table.insert(6, 'Vol_Port_Spectrum', vol_port_spectrum_forecast_subset['Vol_Port_Spectrum'])\n",
        "\n",
        "# Xfinity\n",
        "discos_apple_carrier_vol_port_pred_table.insert(7, 'Vol_Port_Xfinity', vol_port_xfinity_forecast_subset['Vol_Port_Xfinity'])\n",
        "\n",
        "# Reseller\n",
        "discos_apple_carrier_vol_port_pred_table.insert(8, 'Vol_Port_Reseller', vol_port_reseller_forecast_subset['Vol_Port_Reseller'])\n",
        "\n",
        "# Other\n",
        "discos_apple_carrier_vol_port_pred_table.insert(9, 'Vol_Port_Other', vol_port_other_forecast_subset['Vol_Port_Other'])"
      ],
      "execution_count": 41,
      "outputs": []
    },
    {
      "cell_type": "code",
      "metadata": {
        "id": "HlwvwXItBNPa",
        "colab_type": "code",
        "colab": {
          "base_uri": "https://localhost:8080/",
          "height": 309
        },
        "outputId": "0af5b40f-21e1-44fc-cc2a-bc99b1e57220"
      },
      "source": [
        "# Check the format of the final predictions table (testing only)\n",
        "discos_apple_carrier_vol_port_pred_table.tail()"
      ],
      "execution_count": 42,
      "outputs": [
        {
          "output_type": "execute_result",
          "data": {
            "text/html": [
              "<div>\n",
              "<style scoped>\n",
              "    .dataframe tbody tr th:only-of-type {\n",
              "        vertical-align: middle;\n",
              "    }\n",
              "\n",
              "    .dataframe tbody tr th {\n",
              "        vertical-align: top;\n",
              "    }\n",
              "\n",
              "    .dataframe thead th {\n",
              "        text-align: right;\n",
              "    }\n",
              "</style>\n",
              "<table border=\"1\" class=\"dataframe\">\n",
              "  <thead>\n",
              "    <tr style=\"text-align: right;\">\n",
              "      <th></th>\n",
              "      <th>ds</th>\n",
              "      <th>Vol_Port_ATT_Only</th>\n",
              "      <th>Vol_Port_ATT_CC</th>\n",
              "      <th>Vol_Port_Sprint</th>\n",
              "      <th>Vol_Port_TMO_Only</th>\n",
              "      <th>Vol_Port_Metro</th>\n",
              "      <th>Vol_Port_Spectrum</th>\n",
              "      <th>Vol_Port_Xfinity</th>\n",
              "      <th>Vol_Port_Reseller</th>\n",
              "      <th>Vol_Port_Other</th>\n",
              "    </tr>\n",
              "  </thead>\n",
              "  <tbody>\n",
              "    <tr>\n",
              "      <th>1487</th>\n",
              "      <td>2020-12-27</td>\n",
              "      <td>248.086328</td>\n",
              "      <td>24.145079</td>\n",
              "      <td>113.216837</td>\n",
              "      <td>155.127749</td>\n",
              "      <td>8.870192</td>\n",
              "      <td>81.137025</td>\n",
              "      <td>48.137522</td>\n",
              "      <td>27.766047</td>\n",
              "      <td>27.238617</td>\n",
              "    </tr>\n",
              "    <tr>\n",
              "      <th>1488</th>\n",
              "      <td>2020-12-28</td>\n",
              "      <td>301.525871</td>\n",
              "      <td>42.203088</td>\n",
              "      <td>138.084991</td>\n",
              "      <td>161.435277</td>\n",
              "      <td>19.474801</td>\n",
              "      <td>97.336973</td>\n",
              "      <td>59.484934</td>\n",
              "      <td>37.036351</td>\n",
              "      <td>37.743513</td>\n",
              "    </tr>\n",
              "    <tr>\n",
              "      <th>1489</th>\n",
              "      <td>2020-12-29</td>\n",
              "      <td>287.574256</td>\n",
              "      <td>39.043216</td>\n",
              "      <td>127.945452</td>\n",
              "      <td>146.318280</td>\n",
              "      <td>17.586608</td>\n",
              "      <td>96.392813</td>\n",
              "      <td>56.066457</td>\n",
              "      <td>35.791833</td>\n",
              "      <td>38.395313</td>\n",
              "    </tr>\n",
              "    <tr>\n",
              "      <th>1490</th>\n",
              "      <td>2020-12-30</td>\n",
              "      <td>286.379137</td>\n",
              "      <td>40.309363</td>\n",
              "      <td>129.472135</td>\n",
              "      <td>150.848661</td>\n",
              "      <td>19.106093</td>\n",
              "      <td>103.969226</td>\n",
              "      <td>67.572325</td>\n",
              "      <td>37.127242</td>\n",
              "      <td>39.470873</td>\n",
              "    </tr>\n",
              "    <tr>\n",
              "      <th>1491</th>\n",
              "      <td>2020-12-31</td>\n",
              "      <td>282.911129</td>\n",
              "      <td>41.481593</td>\n",
              "      <td>127.289567</td>\n",
              "      <td>143.887507</td>\n",
              "      <td>20.480294</td>\n",
              "      <td>101.426072</td>\n",
              "      <td>63.825316</td>\n",
              "      <td>38.273238</td>\n",
              "      <td>37.881649</td>\n",
              "    </tr>\n",
              "  </tbody>\n",
              "</table>\n",
              "</div>"
            ],
            "text/plain": [
              "             ds  Vol_Port_ATT_Only  ...  Vol_Port_Reseller  Vol_Port_Other\n",
              "1487 2020-12-27         248.086328  ...          27.766047       27.238617\n",
              "1488 2020-12-28         301.525871  ...          37.036351       37.743513\n",
              "1489 2020-12-29         287.574256  ...          35.791833       38.395313\n",
              "1490 2020-12-30         286.379137  ...          37.127242       39.470873\n",
              "1491 2020-12-31         282.911129  ...          38.273238       37.881649\n",
              "\n",
              "[5 rows x 10 columns]"
            ]
          },
          "metadata": {
            "tags": []
          },
          "execution_count": 42
        }
      ]
    },
    {
      "cell_type": "code",
      "metadata": {
        "id": "zBq194QZF-zG",
        "colab_type": "code",
        "colab": {
          "base_uri": "https://localhost:8080/",
          "height": 170
        },
        "outputId": "bc1882df-1ae0-4f28-ff01-c0965a51fe1b"
      },
      "source": [
        "# Calculate the root mean squared error (testing only)\n",
        "print(\"Vol Port ATT Only RMSE: %f\" % np.sqrt(np.mean((discos_apple_carrier_vol_port_pred_table.loc[:1307, 'Vol_Port_ATT_Only'] - fact_table['vol_port_attonly']) ** 2)))\n",
        "print(\"Vol Port ATT CC RMSE: %f\" % np.sqrt(np.mean((discos_apple_carrier_vol_port_pred_table.loc[:1307, 'Vol_Port_ATT_CC'] - fact_table['vol_port_attcc']) ** 2)))\n",
        "print(\"Vol Port Sprint RMSE: %f\" % np.sqrt(np.mean((discos_apple_carrier_vol_port_pred_table.loc[:1307, 'Vol_Port_Sprint'] - fact_table['vol_port_sprint']) ** 2)))\n",
        "print(\"Vol Port TMO Only RMSE: %f\" % np.sqrt(np.mean((discos_apple_carrier_vol_port_pred_table.loc[:1307, 'Vol_Port_TMO_Only'] - fact_table['vol_port_tmo_only']) ** 2)))\n",
        "print(\"Vol Port Metro RMSE: %f\" % np.sqrt(np.mean((discos_apple_carrier_vol_port_pred_table.loc[:1307, 'Vol_Port_Metro'] - fact_table['vol_port_metro']) ** 2)))\n",
        "print(\"Vol Port Spectrum RMSE: %f\" % np.sqrt(np.mean((discos_apple_carrier_vol_port_pred_table.loc[:1307, 'Vol_Port_Spectrum'] - fact_table['vol_port_spectrum']) ** 2)))\n",
        "print(\"Vol Port Xfinity RMSE: %f\" % np.sqrt(np.mean((discos_apple_carrier_vol_port_pred_table.loc[:1307, 'Vol_Port_Xfinity'] - fact_table['vol_port_xfinity']) ** 2)))\n",
        "print(\"Vol Port Reseller RMSE: %f\" % np.sqrt(np.mean((discos_apple_carrier_vol_port_pred_table.loc[:1307, 'Vol_Port_Reseller'] - fact_table['vol_port_reseller']) ** 2)))\n",
        "print(\"Vol Port Other RMSE: %f\" % np.sqrt(np.mean((discos_apple_carrier_vol_port_pred_table.loc[:1307, 'Vol_Port_Other'] - fact_table['vol_port_other']) ** 2)))"
      ],
      "execution_count": 46,
      "outputs": [
        {
          "output_type": "stream",
          "text": [
            "Vol Port ATT Only RMSE: 69.190961\n",
            "Vol Port ATT CC RMSE: 11.360294\n",
            "Vol Port Sprint RMSE: 44.034370\n",
            "Vol Port TMO Only RMSE: 66.291213\n",
            "Vol Port Metro RMSE: 8.415330\n",
            "Vol Port Spectrum RMSE: 14.121824\n",
            "Vol Port Xfinity RMSE: 22.175810\n",
            "Vol Port Reseller RMSE: 11.038366\n",
            "Vol Port Other RMSE: 8.644118\n"
          ],
          "name": "stdout"
        }
      ]
    },
    {
      "cell_type": "code",
      "metadata": {
        "id": "_znvxmQ6b4ix",
        "colab_type": "code",
        "colab": {}
      },
      "source": [
        "# Save the predictions table to a csv file\n",
        "discos_apple_carrier_vol_port_pred_table.to_csv('drive/My Drive/Churn/discos_apple_carrier_vol_port_pred_table.csv')"
      ],
      "execution_count": 47,
      "outputs": []
    }
  ]
}