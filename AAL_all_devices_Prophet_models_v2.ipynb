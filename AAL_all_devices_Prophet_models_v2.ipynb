{
  "nbformat": 4,
  "nbformat_minor": 0,
  "metadata": {
    "colab": {
      "name": "Copy of Upgrades Samsung Phone Prophet model.ipynb",
      "provenance": [],
      "include_colab_link": true
    },
    "kernelspec": {
      "name": "python3",
      "display_name": "Python 3"
    }
  },
  "cells": [
    {
      "cell_type": "markdown",
      "metadata": {
        "id": "view-in-github",
        "colab_type": "text"
      },
      "source": [
        "<a href=\"https://colab.research.google.com/github/JSunkel/Forecasting-Models/blob/master/AAL_all_devices_Prophet_models_v2.ipynb\" target=\"_parent\"><img src=\"https://colab.research.google.com/assets/colab-badge.svg\" alt=\"Open In Colab\"/></a>"
      ]
    },
    {
      "cell_type": "code",
      "metadata": {
        "id": "127ZL5DNa_DK",
        "colab_type": "code",
        "colab": {}
      },
      "source": [
        "import pandas as pd\n",
        "from fbprophet import Prophet"
      ],
      "execution_count": 0,
      "outputs": []
    },
    {
      "cell_type": "code",
      "metadata": {
        "id": "7L_hdOufbEyU",
        "colab_type": "code",
        "colab": {}
      },
      "source": [
        "# Load the full dataset\n",
        "fact_table = pd.read_csv('drive/My Drive/AAL/aal_fact_table.csv')"
      ],
      "execution_count": 0,
      "outputs": []
    },
    {
      "cell_type": "code",
      "metadata": {
        "id": "b2k68K1N-REn",
        "colab_type": "code",
        "outputId": "73dec246-68b0-4568-ecf3-0ea3e245da70",
        "colab": {
          "base_uri": "https://localhost:8080/",
          "height": 204
        }
      },
      "source": [
        "# Check the full dataset format (testing only)\n",
        "fact_table.head()"
      ],
      "execution_count": 4,
      "outputs": [
        {
          "output_type": "execute_result",
          "data": {
            "text/html": [
              "<div>\n",
              "<style scoped>\n",
              "    .dataframe tbody tr th:only-of-type {\n",
              "        vertical-align: middle;\n",
              "    }\n",
              "\n",
              "    .dataframe tbody tr th {\n",
              "        vertical-align: top;\n",
              "    }\n",
              "\n",
              "    .dataframe thead th {\n",
              "        text-align: right;\n",
              "    }\n",
              "</style>\n",
              "<table border=\"1\" class=\"dataframe\">\n",
              "  <thead>\n",
              "    <tr style=\"text-align: right;\">\n",
              "      <th></th>\n",
              "      <th>ds</th>\n",
              "      <th>phone</th>\n",
              "      <th>tablet</th>\n",
              "      <th>wearable</th>\n",
              "      <th>others</th>\n",
              "    </tr>\n",
              "  </thead>\n",
              "  <tbody>\n",
              "    <tr>\n",
              "      <th>0</th>\n",
              "      <td>2017-01-01</td>\n",
              "      <td>3558</td>\n",
              "      <td>4925</td>\n",
              "      <td>242</td>\n",
              "      <td>414</td>\n",
              "    </tr>\n",
              "    <tr>\n",
              "      <th>1</th>\n",
              "      <td>2017-01-02</td>\n",
              "      <td>8272</td>\n",
              "      <td>3984</td>\n",
              "      <td>544</td>\n",
              "      <td>1499</td>\n",
              "    </tr>\n",
              "    <tr>\n",
              "      <th>2</th>\n",
              "      <td>2017-01-03</td>\n",
              "      <td>6775</td>\n",
              "      <td>3814</td>\n",
              "      <td>501</td>\n",
              "      <td>1365</td>\n",
              "    </tr>\n",
              "    <tr>\n",
              "      <th>3</th>\n",
              "      <td>2017-01-04</td>\n",
              "      <td>7226</td>\n",
              "      <td>5297</td>\n",
              "      <td>460</td>\n",
              "      <td>1509</td>\n",
              "    </tr>\n",
              "    <tr>\n",
              "      <th>4</th>\n",
              "      <td>2017-01-05</td>\n",
              "      <td>7926</td>\n",
              "      <td>7513</td>\n",
              "      <td>468</td>\n",
              "      <td>1626</td>\n",
              "    </tr>\n",
              "  </tbody>\n",
              "</table>\n",
              "</div>"
            ],
            "text/plain": [
              "           ds  phone  tablet  wearable  others\n",
              "0  2017-01-01   3558    4925       242     414\n",
              "1  2017-01-02   8272    3984       544    1499\n",
              "2  2017-01-03   6775    3814       501    1365\n",
              "3  2017-01-04   7226    5297       460    1509\n",
              "4  2017-01-05   7926    7513       468    1626"
            ]
          },
          "metadata": {
            "tags": []
          },
          "execution_count": 4
        }
      ]
    },
    {
      "cell_type": "code",
      "metadata": {
        "id": "gB5Ps8AauIU2",
        "colab_type": "code",
        "colab": {}
      },
      "source": [
        "# Split out indivudal datasets for forecasting\n",
        "phone = fact_table[['ds', 'phone']].rename(columns = {'phone': 'y'})\n",
        "tablet = fact_table[['ds', 'tablet']].rename(columns = {'tablet': 'y'})\n",
        "wearable = fact_table[['ds', 'wearable']].rename(columns = {'wearable': 'y'})\n",
        "others = fact_table[['ds', 'others']].rename(columns = {'others': 'y'})"
      ],
      "execution_count": 0,
      "outputs": []
    },
    {
      "cell_type": "code",
      "metadata": {
        "id": "w-J4F09yvCsP",
        "colab_type": "code",
        "outputId": "61ac1786-cc93-4c1a-ac6f-f2bedf85d814",
        "colab": {
          "base_uri": "https://localhost:8080/",
          "height": 204
        }
      },
      "source": [
        "# Check the individual dataset format (testing only)\n",
        "phone.head()"
      ],
      "execution_count": 6,
      "outputs": [
        {
          "output_type": "execute_result",
          "data": {
            "text/html": [
              "<div>\n",
              "<style scoped>\n",
              "    .dataframe tbody tr th:only-of-type {\n",
              "        vertical-align: middle;\n",
              "    }\n",
              "\n",
              "    .dataframe tbody tr th {\n",
              "        vertical-align: top;\n",
              "    }\n",
              "\n",
              "    .dataframe thead th {\n",
              "        text-align: right;\n",
              "    }\n",
              "</style>\n",
              "<table border=\"1\" class=\"dataframe\">\n",
              "  <thead>\n",
              "    <tr style=\"text-align: right;\">\n",
              "      <th></th>\n",
              "      <th>ds</th>\n",
              "      <th>y</th>\n",
              "    </tr>\n",
              "  </thead>\n",
              "  <tbody>\n",
              "    <tr>\n",
              "      <th>0</th>\n",
              "      <td>2017-01-01</td>\n",
              "      <td>3558</td>\n",
              "    </tr>\n",
              "    <tr>\n",
              "      <th>1</th>\n",
              "      <td>2017-01-02</td>\n",
              "      <td>8272</td>\n",
              "    </tr>\n",
              "    <tr>\n",
              "      <th>2</th>\n",
              "      <td>2017-01-03</td>\n",
              "      <td>6775</td>\n",
              "    </tr>\n",
              "    <tr>\n",
              "      <th>3</th>\n",
              "      <td>2017-01-04</td>\n",
              "      <td>7226</td>\n",
              "    </tr>\n",
              "    <tr>\n",
              "      <th>4</th>\n",
              "      <td>2017-01-05</td>\n",
              "      <td>7926</td>\n",
              "    </tr>\n",
              "  </tbody>\n",
              "</table>\n",
              "</div>"
            ],
            "text/plain": [
              "           ds     y\n",
              "0  2017-01-01  3558\n",
              "1  2017-01-02  8272\n",
              "2  2017-01-03  6775\n",
              "3  2017-01-04  7226\n",
              "4  2017-01-05  7926"
            ]
          },
          "metadata": {
            "tags": []
          },
          "execution_count": 6
        }
      ]
    },
    {
      "cell_type": "code",
      "metadata": {
        "id": "qd0uiS7nbKIQ",
        "colab_type": "code",
        "colab": {}
      },
      "source": [
        "# Define the holidays\n",
        "new_years_day = pd.DataFrame({\n",
        "    'holiday': 'new_years_day',\n",
        "    'ds': pd.to_datetime(['2017-01-01',\n",
        "                          '2018-01-01',\n",
        "                          '2019-01-01',\n",
        "                          '2020-01-01']),\n",
        "    'lower_window': 0,\n",
        "    'upper_window': 0,\n",
        "})\n",
        "\n",
        "mlk_day = pd.DataFrame({\n",
        "    'holiday': 'mlk_day',\n",
        "    'ds': pd.to_datetime(['2017-01-16',\n",
        "                          '2018-01-15',\n",
        "                          '2019-01-21',\n",
        "                          '2020-01-20']),\n",
        "    'lower_window': 0,\n",
        "    'upper_window': 0,\n",
        "})\n",
        "\n",
        "easter_sunday = pd.DataFrame({\n",
        "    'holiday': 'easter_sunday',\n",
        "    'ds': pd.to_datetime(['2017-04-16',\n",
        "                          '2018-04-01',\n",
        "                          '2019-04-21',\n",
        "                          '2020-04-12']),\n",
        "    'lower_window': 0,\n",
        "    'upper_window': 0,\n",
        "})\n",
        "\n",
        "memorial_day = pd.DataFrame({\n",
        "    'holiday': 'memorial_day',\n",
        "    'ds': pd.to_datetime(['2017-05-29',\n",
        "                          '2018-05-28',\n",
        "                          '2019-05-27',\n",
        "                          '2020-05-25']),\n",
        "    'lower_window': 0,\n",
        "    'upper_window': 0,\n",
        "})\n",
        "\n",
        "independence_day = pd.DataFrame({\n",
        "    'holiday': 'independence_day',\n",
        "    'ds': pd.to_datetime(['2017-07-04',\n",
        "                          '2018-07-04',\n",
        "                          '2019-07-04',\n",
        "                          '2020-07-04']),\n",
        "    'lower_window': 0,\n",
        "    'upper_window': 0,\n",
        "})\n",
        "\n",
        "thanksgiving_day = pd.DataFrame({\n",
        "    'holiday': 'thanksgiving_day',\n",
        "    'ds': pd.to_datetime(['2017-11-23',\n",
        "                          '2018-11-22',\n",
        "                          '2019-11-28',\n",
        "                          '2020-11-26']),\n",
        "    'lower_window': -3,\n",
        "    'upper_window': 0,\n",
        "})\n",
        "\n",
        "black_friday = pd.DataFrame({\n",
        "    'holiday': 'black_friday',\n",
        "    'ds': pd.to_datetime(['2017-11-24',\n",
        "                          '2018-11-23',\n",
        "                          '2019-11-29',\n",
        "                          '2020-11-27']),\n",
        "    'lower_window': 0,\n",
        "    'upper_window': 1,\n",
        "})\n",
        "\n",
        "cyber_monday = pd.DataFrame({\n",
        "    'holiday': 'cyber_monday',\n",
        "    'ds': pd.to_datetime(['2017-11-27',\n",
        "                          '2018-11-26',\n",
        "                          '2019-12-02',\n",
        "                          '2020-11-30']),\n",
        "    'lower_window': 0,\n",
        "    'upper_window': 1,\n",
        "})\n",
        "\n",
        "christmas_day = pd.DataFrame({\n",
        "    'holiday': 'christmas_day',\n",
        "    'ds': pd.to_datetime(['2017-12-25',\n",
        "                          '2018-12-25',\n",
        "                          '2019-12-25',\n",
        "                          '2020-12-25']),\n",
        "    'lower_window': -8,\n",
        "    'upper_window': 3,\n",
        "})\n",
        "\n",
        "apple_phone_launch = pd.DataFrame({\n",
        "    'holiday': 'apple_phone_launch',\n",
        "    'ds': pd.to_datetime(['2017-09-22',\n",
        "                          '2017-11-03',\n",
        "                          '2018-09-21',\n",
        "                          '2018-10-26',\n",
        "                          '2019-09-20']),\n",
        "    'lower_window': 0,\n",
        "    'upper_window': 0,\n",
        "})\n",
        "\n",
        "samsung_phone_launch = pd.DataFrame({\n",
        "    'holiday': 'samsung_phone_launch',\n",
        "    'ds': pd.to_datetime(['2017-04-21',\n",
        "                          '2018-03-16',\n",
        "                          '2019-03-08',\n",
        "                          '2020-03-06']),\n",
        "    'lower_window': 0,\n",
        "    'upper_window': 0,\n",
        "})\n",
        "\n",
        "samsung_note_launch = pd.DataFrame({\n",
        "    'holiday': 'samsung_note_launch',\n",
        "    'ds': pd.to_datetime(['2017-09-15',\n",
        "                          '2018-08-24',\n",
        "                          '2019-08-23']),\n",
        "    'lower_window': 0,\n",
        "    'upper_window': 0,\n",
        "})\n",
        "\n",
        "apple_tablet_launch = pd.DataFrame({\n",
        "    'holiday': 'apple_tablet_launch',\n",
        "    'ds': pd.to_datetime(['2017-03-24',\n",
        "                          '2017-06-05',\n",
        "                          '2018-03-27',\n",
        "                          '2018-11-07',\n",
        "                          '2019-03-18']),\n",
        "    'lower_window': 0,\n",
        "    'upper_window': 0,\n",
        "})\n",
        "\n",
        "samsung_tablet_launch = pd.DataFrame({\n",
        "    'holiday': 'samsung_tablet_launch',\n",
        "    'ds': pd.to_datetime(['2017-03-24',\n",
        "                          '2018-08-10',\n",
        "                          '2019-04-26',\n",
        "                          '2019-08-30']),\n",
        "    'lower_window': 0,\n",
        "    'upper_window': 0,\n",
        "})\n",
        "\n",
        "apple_watch_launch = pd.DataFrame({\n",
        "    'holiday': 'apple_watch_launch',\n",
        "    'ds': pd.to_datetime(['2017-09-20',\n",
        "                          '2018-09-19',\n",
        "                          '2019-09-20']),\n",
        "    'lower_window': 0,\n",
        "    'upper_window': 0,\n",
        "})"
      ],
      "execution_count": 0,
      "outputs": []
    },
    {
      "cell_type": "code",
      "metadata": {
        "id": "u_wSeXwgsSRo",
        "colab_type": "code",
        "colab": {}
      },
      "source": [
        "holidays_phone = pd.concat((new_years_day,\n",
        "                            mlk_day,\n",
        "                            easter_sunday,\n",
        "                            memorial_day,\n",
        "                            independence_day,\n",
        "                            thanksgiving_day,\n",
        "                            black_friday,\n",
        "                            cyber_monday,\n",
        "                            christmas_day,\n",
        "                            apple_phone_launch,\n",
        "                            samsung_phone_launch,\n",
        "                            samsung_note_launch))"
      ],
      "execution_count": 0,
      "outputs": []
    },
    {
      "cell_type": "code",
      "metadata": {
        "id": "yoiSQ8uHKXZ9",
        "colab_type": "code",
        "colab": {}
      },
      "source": [
        "holidays_tablet = pd.concat((new_years_day,\n",
        "                             mlk_day,\n",
        "                             easter_sunday,\n",
        "                             memorial_day,\n",
        "                             independence_day,\n",
        "                             thanksgiving_day,\n",
        "                             black_friday,\n",
        "                             cyber_monday,\n",
        "                             christmas_day,\n",
        "                             apple_tablet_launch,\n",
        "                             samsung_tablet_launch))"
      ],
      "execution_count": 0,
      "outputs": []
    },
    {
      "cell_type": "code",
      "metadata": {
        "id": "uTEVYgrsLg9V",
        "colab_type": "code",
        "colab": {}
      },
      "source": [
        "holidays_wearable = pd.concat((new_years_day,\n",
        "                               mlk_day,\n",
        "                               easter_sunday,\n",
        "                               memorial_day,\n",
        "                               independence_day,\n",
        "                               thanksgiving_day,\n",
        "                               black_friday,\n",
        "                               cyber_monday,\n",
        "                               christmas_day,\n",
        "                               apple_watch_launch))"
      ],
      "execution_count": 0,
      "outputs": []
    },
    {
      "cell_type": "code",
      "metadata": {
        "id": "bObyUOGyMEWs",
        "colab_type": "code",
        "colab": {}
      },
      "source": [
        "holidays_others = pd.concat((new_years_day,\n",
        "                             mlk_day,\n",
        "                             easter_sunday,\n",
        "                             memorial_day,\n",
        "                             independence_day,\n",
        "                             thanksgiving_day,\n",
        "                             black_friday,\n",
        "                             cyber_monday,\n",
        "                             christmas_day))"
      ],
      "execution_count": 0,
      "outputs": []
    },
    {
      "cell_type": "code",
      "metadata": {
        "id": "LehjGgIJbf8D",
        "colab_type": "code",
        "outputId": "1611f40d-f38a-48d4-8a6d-95e42fa8580c",
        "colab": {
          "base_uri": "https://localhost:8080/",
          "height": 102
        }
      },
      "source": [
        "# Define and fit the models\n",
        "phone_model = Prophet(holidays = holidays_phone).fit(phone)\n",
        "tablet_model = Prophet(holidays = holidays_tablet).fit(tablet)\n",
        "wearable_model = Prophet(holidays = holidays_wearable).fit(wearable)\n",
        "others_model = Prophet(holidays = holidays_others).fit(others)"
      ],
      "execution_count": 12,
      "outputs": [
        {
          "output_type": "stream",
          "text": [
            "INFO:numexpr.utils:NumExpr defaulting to 2 threads.\n",
            "INFO:fbprophet:Disabling daily seasonality. Run prophet with daily_seasonality=True to override this.\n",
            "INFO:fbprophet:Disabling daily seasonality. Run prophet with daily_seasonality=True to override this.\n",
            "INFO:fbprophet:Disabling daily seasonality. Run prophet with daily_seasonality=True to override this.\n",
            "INFO:fbprophet:Disabling daily seasonality. Run prophet with daily_seasonality=True to override this.\n"
          ],
          "name": "stderr"
        }
      ]
    },
    {
      "cell_type": "code",
      "metadata": {
        "id": "Dr1zK_B1s806",
        "colab_type": "code",
        "colab": {}
      },
      "source": [
        "# NUmber of periods into the future to forecast\n",
        "n = 31"
      ],
      "execution_count": 0,
      "outputs": []
    },
    {
      "cell_type": "code",
      "metadata": {
        "id": "dWot8dxibsxd",
        "colab_type": "code",
        "colab": {}
      },
      "source": [
        "# Create dataframes to hold predictions\n",
        "phone_future = phone_model.make_future_dataframe(periods = n)\n",
        "tablet_future = tablet_model.make_future_dataframe(periods = n)\n",
        "wearable_future = wearable_model.make_future_dataframe(periods = n)\n",
        "others_future = others_model.make_future_dataframe(periods = n)"
      ],
      "execution_count": 0,
      "outputs": []
    },
    {
      "cell_type": "code",
      "metadata": {
        "id": "Q_Donl0Tbygx",
        "colab_type": "code",
        "colab": {}
      },
      "source": [
        "# Make predictions\n",
        "phone_forecast = phone_model.predict(phone_future)\n",
        "tablet_forecast = tablet_model.predict(tablet_future)\n",
        "wearable_forecast = wearable_model.predict(wearable_future)\n",
        "others_forecast = others_model.predict(others_future)"
      ],
      "execution_count": 0,
      "outputs": []
    },
    {
      "cell_type": "code",
      "metadata": {
        "id": "gvPtOAf2sDOD",
        "colab_type": "code",
        "colab": {}
      },
      "source": [
        "# Get the datestamp and prediction columns\n",
        "phone_forecast_subset = phone_forecast[['ds', 'yhat']].rename(columns = {'yhat': 'Phone'})\n",
        "tablet_forecast_subset = tablet_forecast[['ds', 'yhat']].rename(columns = {'yhat': 'Tablet'})\n",
        "wearable_forecast_subset = wearable_forecast[['ds', 'yhat']].rename(columns = {'yhat': 'Wearable'})\n",
        "others_forecast_subset = others_forecast[['ds', 'yhat']].rename(columns = {'yhat': 'Others'})"
      ],
      "execution_count": 0,
      "outputs": []
    },
    {
      "cell_type": "code",
      "metadata": {
        "id": "Er7OBgy4sI_I",
        "colab_type": "code",
        "outputId": "e57a04ed-e997-4ea0-8657-5b071f0384a1",
        "colab": {
          "base_uri": "https://localhost:8080/",
          "height": 204
        }
      },
      "source": [
        "# Check the format of the subsetted forecasts (testing only)\n",
        "phone_forecast_subset.tail()"
      ],
      "execution_count": 17,
      "outputs": [
        {
          "output_type": "execute_result",
          "data": {
            "text/html": [
              "<div>\n",
              "<style scoped>\n",
              "    .dataframe tbody tr th:only-of-type {\n",
              "        vertical-align: middle;\n",
              "    }\n",
              "\n",
              "    .dataframe tbody tr th {\n",
              "        vertical-align: top;\n",
              "    }\n",
              "\n",
              "    .dataframe thead th {\n",
              "        text-align: right;\n",
              "    }\n",
              "</style>\n",
              "<table border=\"1\" class=\"dataframe\">\n",
              "  <thead>\n",
              "    <tr style=\"text-align: right;\">\n",
              "      <th></th>\n",
              "      <th>ds</th>\n",
              "      <th>Phone</th>\n",
              "    </tr>\n",
              "  </thead>\n",
              "  <tbody>\n",
              "    <tr>\n",
              "      <th>1181</th>\n",
              "      <td>2020-03-27</td>\n",
              "      <td>10513.865984</td>\n",
              "    </tr>\n",
              "    <tr>\n",
              "      <th>1182</th>\n",
              "      <td>2020-03-28</td>\n",
              "      <td>10928.915559</td>\n",
              "    </tr>\n",
              "    <tr>\n",
              "      <th>1183</th>\n",
              "      <td>2020-03-29</td>\n",
              "      <td>7227.633361</td>\n",
              "    </tr>\n",
              "    <tr>\n",
              "      <th>1184</th>\n",
              "      <td>2020-03-30</td>\n",
              "      <td>8578.528520</td>\n",
              "    </tr>\n",
              "    <tr>\n",
              "      <th>1185</th>\n",
              "      <td>2020-03-31</td>\n",
              "      <td>8970.843933</td>\n",
              "    </tr>\n",
              "  </tbody>\n",
              "</table>\n",
              "</div>"
            ],
            "text/plain": [
              "             ds         Phone\n",
              "1181 2020-03-27  10513.865984\n",
              "1182 2020-03-28  10928.915559\n",
              "1183 2020-03-29   7227.633361\n",
              "1184 2020-03-30   8578.528520\n",
              "1185 2020-03-31   8970.843933"
            ]
          },
          "metadata": {
            "tags": []
          },
          "execution_count": 17
        }
      ]
    },
    {
      "cell_type": "code",
      "metadata": {
        "id": "8m446XCi_AqF",
        "colab_type": "code",
        "colab": {}
      },
      "source": [
        "# Combine the forecasts into one table\n",
        "aal_pred_table = phone_forecast_subset\n",
        "aal_pred_table.insert(2, 'Tablet', tablet_forecast_subset['Tablet'])\n",
        "aal_pred_table.insert(3, 'Wearable', wearable_forecast_subset['Wearable'])\n",
        "aal_pred_table.insert(4, 'Others', others_forecast_subset['Others'])"
      ],
      "execution_count": 0,
      "outputs": []
    },
    {
      "cell_type": "code",
      "metadata": {
        "id": "HlwvwXItBNPa",
        "colab_type": "code",
        "outputId": "22670a4f-8f0b-4296-bed1-79dce6f441c2",
        "colab": {
          "base_uri": "https://localhost:8080/",
          "height": 204
        }
      },
      "source": [
        "# Check the format of the final predictions table (testing only)\n",
        "aal_pred_table.tail()"
      ],
      "execution_count": 19,
      "outputs": [
        {
          "output_type": "execute_result",
          "data": {
            "text/html": [
              "<div>\n",
              "<style scoped>\n",
              "    .dataframe tbody tr th:only-of-type {\n",
              "        vertical-align: middle;\n",
              "    }\n",
              "\n",
              "    .dataframe tbody tr th {\n",
              "        vertical-align: top;\n",
              "    }\n",
              "\n",
              "    .dataframe thead th {\n",
              "        text-align: right;\n",
              "    }\n",
              "</style>\n",
              "<table border=\"1\" class=\"dataframe\">\n",
              "  <thead>\n",
              "    <tr style=\"text-align: right;\">\n",
              "      <th></th>\n",
              "      <th>ds</th>\n",
              "      <th>Phone</th>\n",
              "      <th>Tablet</th>\n",
              "      <th>Wearable</th>\n",
              "      <th>Others</th>\n",
              "    </tr>\n",
              "  </thead>\n",
              "  <tbody>\n",
              "    <tr>\n",
              "      <th>1181</th>\n",
              "      <td>2020-03-27</td>\n",
              "      <td>10513.865984</td>\n",
              "      <td>3625.212870</td>\n",
              "      <td>4098.663076</td>\n",
              "      <td>1782.044738</td>\n",
              "    </tr>\n",
              "    <tr>\n",
              "      <th>1182</th>\n",
              "      <td>2020-03-28</td>\n",
              "      <td>10928.915559</td>\n",
              "      <td>3287.402790</td>\n",
              "      <td>3497.305074</td>\n",
              "      <td>1508.270443</td>\n",
              "    </tr>\n",
              "    <tr>\n",
              "      <th>1183</th>\n",
              "      <td>2020-03-29</td>\n",
              "      <td>7227.633361</td>\n",
              "      <td>1162.191694</td>\n",
              "      <td>2073.430103</td>\n",
              "      <td>604.545937</td>\n",
              "    </tr>\n",
              "    <tr>\n",
              "      <th>1184</th>\n",
              "      <td>2020-03-30</td>\n",
              "      <td>8578.528520</td>\n",
              "      <td>2334.171630</td>\n",
              "      <td>2837.091827</td>\n",
              "      <td>1319.743169</td>\n",
              "    </tr>\n",
              "    <tr>\n",
              "      <th>1185</th>\n",
              "      <td>2020-03-31</td>\n",
              "      <td>8970.843933</td>\n",
              "      <td>2589.658804</td>\n",
              "      <td>3259.705599</td>\n",
              "      <td>1388.965967</td>\n",
              "    </tr>\n",
              "  </tbody>\n",
              "</table>\n",
              "</div>"
            ],
            "text/plain": [
              "             ds         Phone       Tablet     Wearable       Others\n",
              "1181 2020-03-27  10513.865984  3625.212870  4098.663076  1782.044738\n",
              "1182 2020-03-28  10928.915559  3287.402790  3497.305074  1508.270443\n",
              "1183 2020-03-29   7227.633361  1162.191694  2073.430103   604.545937\n",
              "1184 2020-03-30   8578.528520  2334.171630  2837.091827  1319.743169\n",
              "1185 2020-03-31   8970.843933  2589.658804  3259.705599  1388.965967"
            ]
          },
          "metadata": {
            "tags": []
          },
          "execution_count": 19
        }
      ]
    },
    {
      "cell_type": "code",
      "metadata": {
        "id": "_znvxmQ6b4ix",
        "colab_type": "code",
        "colab": {}
      },
      "source": [
        "# Save the predictions table to a csv file\n",
        "aal_pred_table.to_csv('drive/My Drive/AAL/aal_pred_table_v2.csv')"
      ],
      "execution_count": 0,
      "outputs": []
    }
  ]
}